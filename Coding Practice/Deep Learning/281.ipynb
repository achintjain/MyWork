{
 "cells": [
  {
   "cell_type": "markdown",
   "metadata": {},
   "source": [
    "# Neural Networkin Tensorflow"
   ]
  },
  {
   "cell_type": "code",
   "execution_count": 1,
   "metadata": {},
   "outputs": [],
   "source": [
    "import tensorflow as tf;\n",
    "import sklearn.datasets;\n",
    "iris_ds = sklearn.datasets.load_iris(return_X_y=False)\n",
    "import pandas as pd"
   ]
  },
  {
   "cell_type": "code",
   "execution_count": 2,
   "metadata": {},
   "outputs": [
    {
     "data": {
      "text/plain": [
       "array([0, 0, 0, 0, 0, 0, 0, 0, 0, 0, 0, 0, 0, 0, 0, 0, 0, 0, 0, 0, 0, 0,\n",
       "       0, 0, 0, 0, 0, 0, 0, 0, 0, 0, 0, 0, 0, 0, 0, 0, 0, 0, 0, 0, 0, 0,\n",
       "       0, 0, 0, 0, 0, 0, 1, 1, 1, 1, 1, 1, 1, 1, 1, 1, 1, 1, 1, 1, 1, 1,\n",
       "       1, 1, 1, 1, 1, 1, 1, 1, 1, 1, 1, 1, 1, 1, 1, 1, 1, 1, 1, 1, 1, 1,\n",
       "       1, 1, 1, 1, 1, 1, 1, 1, 1, 1, 1, 1, 2, 2, 2, 2, 2, 2, 2, 2, 2, 2,\n",
       "       2, 2, 2, 2, 2, 2, 2, 2, 2, 2, 2, 2, 2, 2, 2, 2, 2, 2, 2, 2, 2, 2,\n",
       "       2, 2, 2, 2, 2, 2, 2, 2, 2, 2, 2, 2, 2, 2, 2, 2, 2, 2])"
      ]
     },
     "execution_count": 2,
     "metadata": {},
     "output_type": "execute_result"
    }
   ],
   "source": [
    "iris_ds.target"
   ]
  },
  {
   "cell_type": "code",
   "execution_count": 3,
   "metadata": {},
   "outputs": [],
   "source": [
    "import numpy as np\n",
    "iris_data = pd.DataFrame(data=iris_ds.data,columns=iris_ds.feature_names)"
   ]
  },
  {
   "cell_type": "code",
   "execution_count": 4,
   "metadata": {},
   "outputs": [
    {
     "data": {
      "text/html": [
       "<div>\n",
       "<style scoped>\n",
       "    .dataframe tbody tr th:only-of-type {\n",
       "        vertical-align: middle;\n",
       "    }\n",
       "\n",
       "    .dataframe tbody tr th {\n",
       "        vertical-align: top;\n",
       "    }\n",
       "\n",
       "    .dataframe thead th {\n",
       "        text-align: right;\n",
       "    }\n",
       "</style>\n",
       "<table border=\"1\" class=\"dataframe\">\n",
       "  <thead>\n",
       "    <tr style=\"text-align: right;\">\n",
       "      <th></th>\n",
       "      <th>sepal length (cm)</th>\n",
       "      <th>sepal width (cm)</th>\n",
       "      <th>petal length (cm)</th>\n",
       "      <th>petal width (cm)</th>\n",
       "    </tr>\n",
       "  </thead>\n",
       "  <tbody>\n",
       "    <tr>\n",
       "      <th>0</th>\n",
       "      <td>5.1</td>\n",
       "      <td>3.5</td>\n",
       "      <td>1.4</td>\n",
       "      <td>0.2</td>\n",
       "    </tr>\n",
       "    <tr>\n",
       "      <th>1</th>\n",
       "      <td>4.9</td>\n",
       "      <td>3.0</td>\n",
       "      <td>1.4</td>\n",
       "      <td>0.2</td>\n",
       "    </tr>\n",
       "    <tr>\n",
       "      <th>2</th>\n",
       "      <td>4.7</td>\n",
       "      <td>3.2</td>\n",
       "      <td>1.3</td>\n",
       "      <td>0.2</td>\n",
       "    </tr>\n",
       "    <tr>\n",
       "      <th>3</th>\n",
       "      <td>4.6</td>\n",
       "      <td>3.1</td>\n",
       "      <td>1.5</td>\n",
       "      <td>0.2</td>\n",
       "    </tr>\n",
       "    <tr>\n",
       "      <th>4</th>\n",
       "      <td>5.0</td>\n",
       "      <td>3.6</td>\n",
       "      <td>1.4</td>\n",
       "      <td>0.2</td>\n",
       "    </tr>\n",
       "  </tbody>\n",
       "</table>\n",
       "</div>"
      ],
      "text/plain": [
       "   sepal length (cm)  sepal width (cm)  petal length (cm)  petal width (cm)\n",
       "0                5.1               3.5                1.4               0.2\n",
       "1                4.9               3.0                1.4               0.2\n",
       "2                4.7               3.2                1.3               0.2\n",
       "3                4.6               3.1                1.5               0.2\n",
       "4                5.0               3.6                1.4               0.2"
      ]
     },
     "execution_count": 4,
     "metadata": {},
     "output_type": "execute_result"
    }
   ],
   "source": [
    "iris_data.head()"
   ]
  },
  {
   "cell_type": "code",
   "execution_count": 5,
   "metadata": {},
   "outputs": [],
   "source": [
    "from sklearn.model_selection import train_test_split"
   ]
  },
  {
   "cell_type": "code",
   "execution_count": 6,
   "metadata": {},
   "outputs": [],
   "source": [
    "import sklearn;\n",
    "min_max_scaler = sklearn.preprocessing.MinMaxScaler()\n",
    "scaled_data = min_max_scaler.fit_transform(iris_data)\n"
   ]
  },
  {
   "cell_type": "code",
   "execution_count": 7,
   "metadata": {},
   "outputs": [
    {
     "name": "stderr",
     "output_type": "stream",
     "text": [
      "C:\\Users\\achintj\\Anaconda3\\lib\\site-packages\\sklearn\\preprocessing\\_encoders.py:331: DeprecationWarning: Passing 'n_values' is deprecated in version 0.20 and will be removed in 0.22. You can use the 'categories' keyword instead. 'n_values=n' corresponds to 'categories=[range(n)]'.\n",
      "  warnings.warn(msg, DeprecationWarning)\n"
     ]
    }
   ],
   "source": [
    "from sklearn.preprocessing import OneHotEncoder\n",
    "encoder = OneHotEncoder(3)\n",
    "label = encoder.fit_transform(iris_ds.target.reshape(-1,1))\n",
    "label = label.todense()"
   ]
  },
  {
   "cell_type": "code",
   "execution_count": 8,
   "metadata": {},
   "outputs": [],
   "source": [
    "\n",
    "trainx,testx,trainy,testy = train_test_split(scaled_data,label)"
   ]
  },
  {
   "cell_type": "code",
   "execution_count": 9,
   "metadata": {},
   "outputs": [
    {
     "name": "stdout",
     "output_type": "stream",
     "text": [
      "(38, 4)\n"
     ]
    }
   ],
   "source": [
    "print (testx.shape)"
   ]
  },
  {
   "cell_type": "markdown",
   "metadata": {},
   "source": [
    "#### Building a model in Tensorflow"
   ]
  },
  {
   "cell_type": "code",
   "execution_count": 10,
   "metadata": {},
   "outputs": [
    {
     "name": "stdout",
     "output_type": "stream",
     "text": [
      "WARNING:tensorflow:From C:\\Users\\achintj\\Anaconda3\\lib\\site-packages\\tensorflow\\python\\framework\\op_def_library.py:263: colocate_with (from tensorflow.python.framework.ops) is deprecated and will be removed in a future version.\n",
      "Instructions for updating:\n",
      "Colocations handled automatically by placer.\n"
     ]
    }
   ],
   "source": [
    "import tensorflow as tf;\n",
    "x = tf.placeholder(shape=[None,4],dtype=tf.float32)\n",
    "y = tf.placeholder(shape=[None,3],dtype=tf.float32)\n",
    "w0 = tf.get_variable('w0',shape=[4,5],dtype=tf.float32)\n",
    "w1 = tf.get_variable('w1',shape=[5,3],dtype=tf.float32)\n",
    "b0 = tf.get_variable('b0',shape=[1,5],dtype=tf.float32)\n",
    "b1 = tf.get_variable('b1',shape=[1,3],dtype=tf.float32)"
   ]
  },
  {
   "cell_type": "code",
   "execution_count": 11,
   "metadata": {},
   "outputs": [],
   "source": [
    "def build_model(x):\n",
    "    with tf.name_scope('hidden'):\n",
    "        h = tf.nn.relu(tf.matmul(x,w0)+b0)\n",
    "        print (h.shape)\n",
    "    with tf.name_scope('output'):\n",
    "        yhat = tf.nn.softmax(tf.matmul(h,w1)+b1)\n",
    "        print (yhat.shape)\n",
    "    return yhat"
   ]
  },
  {
   "cell_type": "code",
   "execution_count": 12,
   "metadata": {},
   "outputs": [
    {
     "name": "stdout",
     "output_type": "stream",
     "text": [
      "(?, 5)\n",
      "(?, 3)\n"
     ]
    }
   ],
   "source": [
    "# Applying build_model\n",
    "\n",
    "y_hat = build_model(x)"
   ]
  },
  {
   "cell_type": "code",
   "execution_count": 13,
   "metadata": {},
   "outputs": [],
   "source": [
    "with tf.name_scope('accuracy'):\n",
    "    accuracy = tf.reduce_mean(tf.cast(tf.equal(tf.argmax(y,1),tf.argmax(y_hat,1)),tf.float64))\n",
    "    tf.summary.scalar('accuracy',accuracy)"
   ]
  },
  {
   "cell_type": "code",
   "execution_count": 14,
   "metadata": {},
   "outputs": [
    {
     "name": "stdout",
     "output_type": "stream",
     "text": [
      "WARNING:tensorflow:From C:\\Users\\achintj\\Anaconda3\\lib\\site-packages\\tensorflow\\python\\ops\\losses\\losses_impl.py:209: to_float (from tensorflow.python.ops.math_ops) is deprecated and will be removed in a future version.\n",
      "Instructions for updating:\n",
      "Use tf.cast instead.\n"
     ]
    }
   ],
   "source": [
    "with tf.name_scope('entropy-loss'):\n",
    "    entropy_loss = tf.losses.softmax_cross_entropy(logits=y_hat,onehot_labels=y)\n",
    "    tf.summary.scalar('entropy-loss',entropy_loss)\n"
   ]
  },
  {
   "cell_type": "code",
   "execution_count": 15,
   "metadata": {},
   "outputs": [],
   "source": [
    "writer = tf.summary.FileWriter('nn',tf.get_default_graph())"
   ]
  },
  {
   "cell_type": "code",
   "execution_count": 16,
   "metadata": {},
   "outputs": [
    {
     "name": "stdout",
     "output_type": "stream",
     "text": [
      "loss=0.951758, train accuracy=0.785714, test accuracy = 0.789474\n",
      "loss=0.551669, train accuracy=0.892857, test accuracy = 0.973684\n",
      "loss=0.551450, train accuracy=0.955357, test accuracy = 1.000000\n",
      "loss=0.551445, train accuracy=0.955357, test accuracy = 1.000000\n",
      "loss=0.551456, train accuracy=0.973214, test accuracy = 1.000000\n",
      "loss=0.551445, train accuracy=0.946429, test accuracy = 1.000000\n",
      "loss=0.551445, train accuracy=0.973214, test accuracy = 1.000000\n",
      "loss=0.551445, train accuracy=0.955357, test accuracy = 1.000000\n",
      "loss=0.551445, train accuracy=0.955357, test accuracy = 1.000000\n",
      "loss=0.551445, train accuracy=0.982143, test accuracy = 1.000000\n",
      "loss=0.551445, train accuracy=0.955357, test accuracy = 0.973684\n",
      "loss=0.551445, train accuracy=0.946429, test accuracy = 1.000000\n",
      "loss=0.551445, train accuracy=0.982143, test accuracy = 1.000000\n",
      "loss=0.551445, train accuracy=0.946429, test accuracy = 0.947368\n",
      "loss=0.551445, train accuracy=0.964286, test accuracy = 1.000000\n",
      "loss=0.551445, train accuracy=0.955357, test accuracy = 1.000000\n",
      "loss=0.551445, train accuracy=0.946429, test accuracy = 0.973684\n",
      "loss=0.551445, train accuracy=0.964286, test accuracy = 1.000000\n",
      "loss=0.551445, train accuracy=0.955357, test accuracy = 1.000000\n",
      "loss=0.551445, train accuracy=0.964286, test accuracy = 1.000000\n",
      "loss=0.551445, train accuracy=0.964286, test accuracy = 1.000000\n",
      "loss=0.551445, train accuracy=0.964286, test accuracy = 1.000000\n",
      "loss=0.551445, train accuracy=0.955357, test accuracy = 0.947368\n",
      "loss=0.551445, train accuracy=0.964286, test accuracy = 0.947368\n",
      "loss=0.551445, train accuracy=0.919643, test accuracy = 0.921053\n",
      "loss=0.551445, train accuracy=0.955357, test accuracy = 1.000000\n",
      "loss=0.551445, train accuracy=0.955357, test accuracy = 1.000000\n",
      "loss=0.551445, train accuracy=0.892857, test accuracy = 0.947368\n",
      "loss=0.551445, train accuracy=0.964286, test accuracy = 1.000000\n",
      "loss=0.551445, train accuracy=0.964286, test accuracy = 1.000000\n",
      "loss=0.551445, train accuracy=0.973214, test accuracy = 0.947368\n",
      "loss=0.551445, train accuracy=0.937500, test accuracy = 0.973684\n",
      "loss=0.551445, train accuracy=0.892857, test accuracy = 0.947368\n",
      "loss=0.551445, train accuracy=0.937500, test accuracy = 0.973684\n",
      "loss=0.551445, train accuracy=0.964286, test accuracy = 1.000000\n",
      "loss=0.551445, train accuracy=0.901786, test accuracy = 0.947368\n",
      "loss=0.551445, train accuracy=0.892857, test accuracy = 0.947368\n",
      "loss=0.551445, train accuracy=0.955357, test accuracy = 0.973684\n",
      "loss=0.551445, train accuracy=0.973214, test accuracy = 1.000000\n",
      "loss=0.551445, train accuracy=0.964286, test accuracy = 0.973684\n",
      "loss=0.551445, train accuracy=0.919643, test accuracy = 0.921053\n",
      "loss=0.558583, train accuracy=0.589286, test accuracy = 0.605263\n",
      "loss=0.551445, train accuracy=0.955357, test accuracy = 0.973684\n",
      "loss=0.551445, train accuracy=0.937500, test accuracy = 0.921053\n",
      "loss=0.551445, train accuracy=0.910714, test accuracy = 0.921053\n",
      "loss=0.551445, train accuracy=0.883929, test accuracy = 0.921053\n",
      "loss=0.551445, train accuracy=0.973214, test accuracy = 1.000000\n",
      "loss=0.551445, train accuracy=0.839286, test accuracy = 0.894737\n",
      "loss=0.551445, train accuracy=0.955357, test accuracy = 0.973684\n",
      "loss=0.551445, train accuracy=0.955357, test accuracy = 1.000000\n",
      "loss=0.551445, train accuracy=0.946429, test accuracy = 0.947368\n",
      "loss=0.551445, train accuracy=0.964286, test accuracy = 1.000000\n",
      "loss=0.551445, train accuracy=0.955357, test accuracy = 1.000000\n",
      "loss=0.551445, train accuracy=0.955357, test accuracy = 1.000000\n",
      "loss=0.551445, train accuracy=0.955357, test accuracy = 1.000000\n",
      "loss=0.551445, train accuracy=0.955357, test accuracy = 1.000000\n",
      "loss=0.551445, train accuracy=0.955357, test accuracy = 1.000000\n",
      "loss=1.551445, train accuracy=0.616071, test accuracy = 0.631579\n",
      "loss=1.551445, train accuracy=0.616071, test accuracy = 0.631579\n",
      "loss=1.551445, train accuracy=0.616071, test accuracy = 0.631579\n",
      "loss=0.677813, train accuracy=0.955357, test accuracy = 1.000000\n",
      "loss=0.557559, train accuracy=0.973214, test accuracy = 1.000000\n",
      "loss=0.552547, train accuracy=0.973214, test accuracy = 1.000000\n",
      "loss=0.551763, train accuracy=0.955357, test accuracy = 1.000000\n",
      "loss=0.551495, train accuracy=0.955357, test accuracy = 1.000000\n",
      "loss=0.551473, train accuracy=0.946429, test accuracy = 1.000000\n",
      "loss=0.551546, train accuracy=0.955357, test accuracy = 1.000000\n",
      "loss=0.551512, train accuracy=0.955357, test accuracy = 1.000000\n",
      "loss=0.551464, train accuracy=0.964286, test accuracy = 1.000000\n",
      "loss=0.551539, train accuracy=0.964286, test accuracy = 1.000000\n",
      "loss=0.551604, train accuracy=0.964286, test accuracy = 1.000000\n",
      "loss=0.551922, train accuracy=0.937500, test accuracy = 0.947368\n",
      "loss=0.551445, train accuracy=0.892857, test accuracy = 0.947368\n",
      "loss=0.551456, train accuracy=0.964286, test accuracy = 0.973684\n",
      "loss=0.551445, train accuracy=0.964286, test accuracy = 1.000000\n",
      "loss=0.551505, train accuracy=0.946429, test accuracy = 0.947368\n",
      "loss=0.551445, train accuracy=0.973214, test accuracy = 1.000000\n",
      "loss=0.551445, train accuracy=0.964286, test accuracy = 1.000000\n",
      "loss=0.551446, train accuracy=0.964286, test accuracy = 1.000000\n",
      "loss=0.551445, train accuracy=0.964286, test accuracy = 1.000000\n",
      "loss=0.551445, train accuracy=0.964286, test accuracy = 1.000000\n",
      "loss=0.551445, train accuracy=0.955357, test accuracy = 0.973684\n",
      "loss=0.551445, train accuracy=0.955357, test accuracy = 1.000000\n",
      "loss=0.551445, train accuracy=0.964286, test accuracy = 1.000000\n",
      "loss=0.551445, train accuracy=0.794643, test accuracy = 0.921053\n",
      "loss=0.551445, train accuracy=0.964286, test accuracy = 1.000000\n",
      "loss=0.551445, train accuracy=0.964286, test accuracy = 1.000000\n",
      "loss=0.551445, train accuracy=0.955357, test accuracy = 0.973684\n",
      "loss=0.551445, train accuracy=0.964286, test accuracy = 1.000000\n",
      "loss=0.551445, train accuracy=0.964286, test accuracy = 1.000000\n",
      "loss=0.551445, train accuracy=0.955357, test accuracy = 1.000000\n",
      "loss=0.551445, train accuracy=0.964286, test accuracy = 1.000000\n",
      "loss=0.551445, train accuracy=0.964286, test accuracy = 1.000000\n",
      "loss=0.551445, train accuracy=0.964286, test accuracy = 1.000000\n",
      "loss=0.551445, train accuracy=0.964286, test accuracy = 1.000000\n",
      "loss=0.551445, train accuracy=0.964286, test accuracy = 1.000000\n",
      "loss=0.551445, train accuracy=0.964286, test accuracy = 1.000000\n",
      "loss=0.551445, train accuracy=0.937500, test accuracy = 0.947368\n",
      "loss=0.551445, train accuracy=0.955357, test accuracy = 0.973684\n",
      "loss=0.551445, train accuracy=0.955357, test accuracy = 0.973684\n",
      "loss=0.551445, train accuracy=0.946429, test accuracy = 0.973684\n",
      "loss=0.551445, train accuracy=0.964286, test accuracy = 1.000000\n",
      "loss=0.551445, train accuracy=0.955357, test accuracy = 1.000000\n",
      "loss=0.551445, train accuracy=0.964286, test accuracy = 0.973684\n",
      "loss=0.551445, train accuracy=0.964286, test accuracy = 1.000000\n",
      "loss=0.551445, train accuracy=0.973214, test accuracy = 1.000000\n",
      "loss=0.551445, train accuracy=0.785714, test accuracy = 0.894737\n",
      "loss=0.551445, train accuracy=0.964286, test accuracy = 1.000000\n",
      "loss=0.551445, train accuracy=0.964286, test accuracy = 1.000000\n",
      "loss=0.551445, train accuracy=0.937500, test accuracy = 0.973684\n",
      "loss=0.551445, train accuracy=0.964286, test accuracy = 1.000000\n",
      "loss=0.551445, train accuracy=0.964286, test accuracy = 1.000000\n",
      "loss=0.551445, train accuracy=0.964286, test accuracy = 1.000000\n",
      "loss=0.551445, train accuracy=0.750000, test accuracy = 0.763158\n",
      "loss=0.551445, train accuracy=0.973214, test accuracy = 1.000000\n",
      "loss=0.551445, train accuracy=0.973214, test accuracy = 1.000000\n",
      "loss=0.551445, train accuracy=0.973214, test accuracy = 1.000000\n",
      "loss=0.551445, train accuracy=0.973214, test accuracy = 1.000000\n",
      "loss=0.551445, train accuracy=0.973214, test accuracy = 1.000000\n",
      "loss=0.551445, train accuracy=0.973214, test accuracy = 1.000000\n",
      "loss=0.763323, train accuracy=0.714286, test accuracy = 0.763158\n",
      "loss=0.606019, train accuracy=0.964286, test accuracy = 0.973684\n",
      "loss=0.557515, train accuracy=0.955357, test accuracy = 1.000000\n",
      "loss=0.553353, train accuracy=0.946429, test accuracy = 1.000000\n",
      "loss=0.552385, train accuracy=0.955357, test accuracy = 1.000000\n",
      "loss=0.552029, train accuracy=0.964286, test accuracy = 1.000000\n",
      "loss=0.551845, train accuracy=0.982143, test accuracy = 1.000000\n"
     ]
    },
    {
     "name": "stdout",
     "output_type": "stream",
     "text": [
      "loss=0.551741, train accuracy=0.982143, test accuracy = 1.000000\n",
      "loss=0.551669, train accuracy=0.982143, test accuracy = 1.000000\n",
      "loss=0.551622, train accuracy=0.982143, test accuracy = 1.000000\n",
      "loss=0.551589, train accuracy=0.982143, test accuracy = 1.000000\n",
      "loss=0.551565, train accuracy=0.982143, test accuracy = 1.000000\n",
      "loss=0.551548, train accuracy=0.982143, test accuracy = 1.000000\n",
      "loss=0.551521, train accuracy=0.982143, test accuracy = 1.000000\n",
      "loss=0.551501, train accuracy=0.982143, test accuracy = 1.000000\n",
      "loss=0.551487, train accuracy=0.973214, test accuracy = 1.000000\n",
      "loss=0.551476, train accuracy=0.973214, test accuracy = 1.000000\n",
      "loss=0.551470, train accuracy=0.973214, test accuracy = 1.000000\n",
      "loss=0.551465, train accuracy=0.973214, test accuracy = 1.000000\n",
      "loss=0.551461, train accuracy=0.973214, test accuracy = 1.000000\n",
      "loss=0.551458, train accuracy=0.973214, test accuracy = 1.000000\n",
      "loss=0.551456, train accuracy=0.973214, test accuracy = 1.000000\n",
      "loss=0.551455, train accuracy=0.973214, test accuracy = 1.000000\n",
      "loss=0.551453, train accuracy=0.973214, test accuracy = 1.000000\n",
      "loss=0.551453, train accuracy=0.973214, test accuracy = 1.000000\n",
      "loss=0.551452, train accuracy=0.973214, test accuracy = 1.000000\n",
      "loss=0.551451, train accuracy=0.973214, test accuracy = 1.000000\n",
      "loss=0.551451, train accuracy=0.973214, test accuracy = 1.000000\n",
      "loss=0.551450, train accuracy=0.973214, test accuracy = 1.000000\n",
      "loss=0.551450, train accuracy=0.973214, test accuracy = 1.000000\n",
      "loss=0.551450, train accuracy=0.973214, test accuracy = 1.000000\n",
      "loss=0.551449, train accuracy=0.973214, test accuracy = 1.000000\n",
      "loss=0.551449, train accuracy=0.973214, test accuracy = 1.000000\n",
      "loss=0.551449, train accuracy=0.973214, test accuracy = 1.000000\n",
      "loss=0.551448, train accuracy=0.973214, test accuracy = 1.000000\n",
      "loss=0.551448, train accuracy=0.973214, test accuracy = 1.000000\n",
      "loss=0.551448, train accuracy=0.973214, test accuracy = 1.000000\n",
      "loss=0.551448, train accuracy=0.973214, test accuracy = 1.000000\n",
      "loss=0.551447, train accuracy=0.973214, test accuracy = 1.000000\n",
      "loss=0.551447, train accuracy=0.964286, test accuracy = 1.000000\n",
      "loss=0.551447, train accuracy=0.964286, test accuracy = 1.000000\n",
      "loss=0.551447, train accuracy=0.964286, test accuracy = 1.000000\n",
      "loss=0.551446, train accuracy=0.964286, test accuracy = 1.000000\n",
      "loss=0.551446, train accuracy=0.964286, test accuracy = 1.000000\n",
      "loss=0.551446, train accuracy=0.964286, test accuracy = 1.000000\n",
      "loss=0.551446, train accuracy=0.964286, test accuracy = 1.000000\n",
      "loss=0.551446, train accuracy=0.964286, test accuracy = 1.000000\n",
      "loss=0.551446, train accuracy=0.964286, test accuracy = 1.000000\n",
      "loss=0.551445, train accuracy=0.964286, test accuracy = 1.000000\n",
      "loss=0.551445, train accuracy=0.964286, test accuracy = 1.000000\n",
      "loss=0.551445, train accuracy=0.964286, test accuracy = 1.000000\n",
      "loss=0.551445, train accuracy=0.964286, test accuracy = 1.000000\n",
      "loss=0.551445, train accuracy=0.964286, test accuracy = 1.000000\n",
      "loss=0.551445, train accuracy=0.964286, test accuracy = 1.000000\n",
      "loss=0.551445, train accuracy=0.964286, test accuracy = 1.000000\n",
      "loss=0.551445, train accuracy=0.964286, test accuracy = 1.000000\n",
      "loss=0.551445, train accuracy=0.964286, test accuracy = 1.000000\n",
      "loss=0.551445, train accuracy=0.973214, test accuracy = 1.000000\n",
      "loss=0.551445, train accuracy=0.964286, test accuracy = 1.000000\n",
      "loss=0.551445, train accuracy=0.973214, test accuracy = 1.000000\n",
      "loss=1.206525, train accuracy=0.330357, test accuracy = 0.342105\n",
      "loss=0.729119, train accuracy=0.714286, test accuracy = 0.710526\n",
      "loss=0.725730, train accuracy=0.812500, test accuracy = 0.842105\n",
      "loss=0.715211, train accuracy=0.848214, test accuracy = 0.947368\n",
      "loss=0.694774, train accuracy=0.910714, test accuracy = 0.947368\n",
      "loss=0.671279, train accuracy=0.937500, test accuracy = 0.947368\n",
      "loss=0.648490, train accuracy=0.955357, test accuracy = 0.973684\n",
      "loss=0.628222, train accuracy=0.964286, test accuracy = 0.973684\n",
      "loss=0.611165, train accuracy=0.964286, test accuracy = 0.973684\n",
      "loss=0.597374, train accuracy=0.955357, test accuracy = 0.973684\n",
      "loss=0.586549, train accuracy=0.955357, test accuracy = 0.973684\n",
      "loss=0.578234, train accuracy=0.955357, test accuracy = 1.000000\n",
      "loss=0.571939, train accuracy=0.955357, test accuracy = 1.000000\n",
      "loss=0.567211, train accuracy=0.955357, test accuracy = 1.000000\n",
      "loss=0.563670, train accuracy=0.955357, test accuracy = 1.000000\n",
      "loss=0.561013, train accuracy=0.955357, test accuracy = 1.000000\n",
      "loss=0.559011, train accuracy=0.955357, test accuracy = 1.000000\n",
      "loss=0.557492, train accuracy=0.955357, test accuracy = 1.000000\n",
      "loss=0.556328, train accuracy=0.955357, test accuracy = 1.000000\n",
      "loss=0.555429, train accuracy=0.964286, test accuracy = 1.000000\n",
      "loss=0.554727, train accuracy=0.964286, test accuracy = 1.000000\n",
      "loss=0.554174, train accuracy=0.964286, test accuracy = 1.000000\n",
      "loss=0.553734, train accuracy=0.964286, test accuracy = 1.000000\n",
      "loss=0.553380, train accuracy=0.964286, test accuracy = 1.000000\n",
      "loss=0.553093, train accuracy=0.964286, test accuracy = 1.000000\n",
      "loss=0.552859, train accuracy=0.964286, test accuracy = 1.000000\n",
      "loss=0.552665, train accuracy=0.964286, test accuracy = 1.000000\n",
      "loss=0.552505, train accuracy=0.964286, test accuracy = 1.000000\n",
      "loss=0.552370, train accuracy=0.964286, test accuracy = 1.000000\n",
      "loss=0.552257, train accuracy=0.964286, test accuracy = 1.000000\n",
      "loss=0.552161, train accuracy=0.964286, test accuracy = 1.000000\n",
      "loss=0.552080, train accuracy=0.964286, test accuracy = 1.000000\n",
      "loss=0.552010, train accuracy=0.964286, test accuracy = 1.000000\n",
      "loss=0.551949, train accuracy=0.964286, test accuracy = 1.000000\n",
      "loss=0.551897, train accuracy=0.964286, test accuracy = 1.000000\n",
      "loss=0.551852, train accuracy=0.964286, test accuracy = 1.000000\n",
      "loss=0.551812, train accuracy=0.964286, test accuracy = 1.000000\n"
     ]
    },
    {
     "ename": "KeyboardInterrupt",
     "evalue": "",
     "output_type": "error",
     "traceback": [
      "\u001b[1;31m---------------------------------------------------------------------------\u001b[0m",
      "\u001b[1;31mKeyboardInterrupt\u001b[0m                         Traceback (most recent call last)",
      "\u001b[1;32m<ipython-input-16-4fbeae7d36bf>\u001b[0m in \u001b[0;36m<module>\u001b[1;34m\u001b[0m\n\u001b[0;32m     14\u001b[0m                 \u001b[1;31m#print (x_val.dtype,'\\n',y_val.dtype)\u001b[0m\u001b[1;33m\u001b[0m\u001b[1;33m\u001b[0m\u001b[1;33m\u001b[0m\u001b[0m\n\u001b[0;32m     15\u001b[0m                 \u001b[0moptimizer\u001b[0m\u001b[1;33m.\u001b[0m\u001b[0mrun\u001b[0m\u001b[1;33m(\u001b[0m\u001b[0mfeed_dict\u001b[0m\u001b[1;33m=\u001b[0m\u001b[1;33m{\u001b[0m\u001b[0mx\u001b[0m\u001b[1;33m:\u001b[0m\u001b[0mx_val\u001b[0m\u001b[1;33m,\u001b[0m\u001b[0my\u001b[0m\u001b[1;33m:\u001b[0m\u001b[0my_val\u001b[0m\u001b[1;33m}\u001b[0m\u001b[1;33m)\u001b[0m\u001b[1;33m\u001b[0m\u001b[1;33m\u001b[0m\u001b[0m\n\u001b[1;32m---> 16\u001b[1;33m                 \u001b[0m_loss\u001b[0m\u001b[1;33m,\u001b[0m \u001b[1;33m=\u001b[0m \u001b[0msess\u001b[0m\u001b[1;33m.\u001b[0m\u001b[0mrun\u001b[0m\u001b[1;33m(\u001b[0m\u001b[1;33m[\u001b[0m\u001b[0mentropy_loss\u001b[0m\u001b[1;33m]\u001b[0m \u001b[1;33m,\u001b[0m\u001b[0mfeed_dict\u001b[0m\u001b[1;33m=\u001b[0m\u001b[1;33m{\u001b[0m\u001b[0mx\u001b[0m\u001b[1;33m:\u001b[0m\u001b[0mx_val\u001b[0m\u001b[1;33m,\u001b[0m\u001b[0my\u001b[0m\u001b[1;33m:\u001b[0m\u001b[0my_val\u001b[0m\u001b[1;33m}\u001b[0m\u001b[1;33m)\u001b[0m\u001b[1;33m\u001b[0m\u001b[1;33m\u001b[0m\u001b[0m\n\u001b[0m\u001b[0;32m     17\u001b[0m                 \u001b[1;31m#print ('yhat,y',_y_hat,y_val)\u001b[0m\u001b[1;33m\u001b[0m\u001b[1;33m\u001b[0m\u001b[1;33m\u001b[0m\u001b[0m\n\u001b[0;32m     18\u001b[0m                 \u001b[1;31m#print ('accuracy',_acc)\u001b[0m\u001b[1;33m\u001b[0m\u001b[1;33m\u001b[0m\u001b[1;33m\u001b[0m\u001b[0m\n",
      "\u001b[1;32m~\\Anaconda3\\lib\\site-packages\\tensorflow\\python\\client\\session.py\u001b[0m in \u001b[0;36mrun\u001b[1;34m(self, fetches, feed_dict, options, run_metadata)\u001b[0m\n\u001b[0;32m    927\u001b[0m     \u001b[1;32mtry\u001b[0m\u001b[1;33m:\u001b[0m\u001b[1;33m\u001b[0m\u001b[1;33m\u001b[0m\u001b[0m\n\u001b[0;32m    928\u001b[0m       result = self._run(None, fetches, feed_dict, options_ptr,\n\u001b[1;32m--> 929\u001b[1;33m                          run_metadata_ptr)\n\u001b[0m\u001b[0;32m    930\u001b[0m       \u001b[1;32mif\u001b[0m \u001b[0mrun_metadata\u001b[0m\u001b[1;33m:\u001b[0m\u001b[1;33m\u001b[0m\u001b[1;33m\u001b[0m\u001b[0m\n\u001b[0;32m    931\u001b[0m         \u001b[0mproto_data\u001b[0m \u001b[1;33m=\u001b[0m \u001b[0mtf_session\u001b[0m\u001b[1;33m.\u001b[0m\u001b[0mTF_GetBuffer\u001b[0m\u001b[1;33m(\u001b[0m\u001b[0mrun_metadata_ptr\u001b[0m\u001b[1;33m)\u001b[0m\u001b[1;33m\u001b[0m\u001b[1;33m\u001b[0m\u001b[0m\n",
      "\u001b[1;32m~\\Anaconda3\\lib\\site-packages\\tensorflow\\python\\client\\session.py\u001b[0m in \u001b[0;36m_run\u001b[1;34m(self, handle, fetches, feed_dict, options, run_metadata)\u001b[0m\n\u001b[0;32m   1150\u001b[0m     \u001b[1;32mif\u001b[0m \u001b[0mfinal_fetches\u001b[0m \u001b[1;32mor\u001b[0m \u001b[0mfinal_targets\u001b[0m \u001b[1;32mor\u001b[0m \u001b[1;33m(\u001b[0m\u001b[0mhandle\u001b[0m \u001b[1;32mand\u001b[0m \u001b[0mfeed_dict_tensor\u001b[0m\u001b[1;33m)\u001b[0m\u001b[1;33m:\u001b[0m\u001b[1;33m\u001b[0m\u001b[1;33m\u001b[0m\u001b[0m\n\u001b[0;32m   1151\u001b[0m       results = self._do_run(handle, final_targets, final_fetches,\n\u001b[1;32m-> 1152\u001b[1;33m                              feed_dict_tensor, options, run_metadata)\n\u001b[0m\u001b[0;32m   1153\u001b[0m     \u001b[1;32melse\u001b[0m\u001b[1;33m:\u001b[0m\u001b[1;33m\u001b[0m\u001b[1;33m\u001b[0m\u001b[0m\n\u001b[0;32m   1154\u001b[0m       \u001b[0mresults\u001b[0m \u001b[1;33m=\u001b[0m \u001b[1;33m[\u001b[0m\u001b[1;33m]\u001b[0m\u001b[1;33m\u001b[0m\u001b[1;33m\u001b[0m\u001b[0m\n",
      "\u001b[1;32m~\\Anaconda3\\lib\\site-packages\\tensorflow\\python\\client\\session.py\u001b[0m in \u001b[0;36m_do_run\u001b[1;34m(self, handle, target_list, fetch_list, feed_dict, options, run_metadata)\u001b[0m\n\u001b[0;32m   1326\u001b[0m     \u001b[1;32mif\u001b[0m \u001b[0mhandle\u001b[0m \u001b[1;32mis\u001b[0m \u001b[1;32mNone\u001b[0m\u001b[1;33m:\u001b[0m\u001b[1;33m\u001b[0m\u001b[1;33m\u001b[0m\u001b[0m\n\u001b[0;32m   1327\u001b[0m       return self._do_call(_run_fn, feeds, fetches, targets, options,\n\u001b[1;32m-> 1328\u001b[1;33m                            run_metadata)\n\u001b[0m\u001b[0;32m   1329\u001b[0m     \u001b[1;32melse\u001b[0m\u001b[1;33m:\u001b[0m\u001b[1;33m\u001b[0m\u001b[1;33m\u001b[0m\u001b[0m\n\u001b[0;32m   1330\u001b[0m       \u001b[1;32mreturn\u001b[0m \u001b[0mself\u001b[0m\u001b[1;33m.\u001b[0m\u001b[0m_do_call\u001b[0m\u001b[1;33m(\u001b[0m\u001b[0m_prun_fn\u001b[0m\u001b[1;33m,\u001b[0m \u001b[0mhandle\u001b[0m\u001b[1;33m,\u001b[0m \u001b[0mfeeds\u001b[0m\u001b[1;33m,\u001b[0m \u001b[0mfetches\u001b[0m\u001b[1;33m)\u001b[0m\u001b[1;33m\u001b[0m\u001b[1;33m\u001b[0m\u001b[0m\n",
      "\u001b[1;32m~\\Anaconda3\\lib\\site-packages\\tensorflow\\python\\client\\session.py\u001b[0m in \u001b[0;36m_do_call\u001b[1;34m(self, fn, *args)\u001b[0m\n\u001b[0;32m   1332\u001b[0m   \u001b[1;32mdef\u001b[0m \u001b[0m_do_call\u001b[0m\u001b[1;33m(\u001b[0m\u001b[0mself\u001b[0m\u001b[1;33m,\u001b[0m \u001b[0mfn\u001b[0m\u001b[1;33m,\u001b[0m \u001b[1;33m*\u001b[0m\u001b[0margs\u001b[0m\u001b[1;33m)\u001b[0m\u001b[1;33m:\u001b[0m\u001b[1;33m\u001b[0m\u001b[1;33m\u001b[0m\u001b[0m\n\u001b[0;32m   1333\u001b[0m     \u001b[1;32mtry\u001b[0m\u001b[1;33m:\u001b[0m\u001b[1;33m\u001b[0m\u001b[1;33m\u001b[0m\u001b[0m\n\u001b[1;32m-> 1334\u001b[1;33m       \u001b[1;32mreturn\u001b[0m \u001b[0mfn\u001b[0m\u001b[1;33m(\u001b[0m\u001b[1;33m*\u001b[0m\u001b[0margs\u001b[0m\u001b[1;33m)\u001b[0m\u001b[1;33m\u001b[0m\u001b[1;33m\u001b[0m\u001b[0m\n\u001b[0m\u001b[0;32m   1335\u001b[0m     \u001b[1;32mexcept\u001b[0m \u001b[0merrors\u001b[0m\u001b[1;33m.\u001b[0m\u001b[0mOpError\u001b[0m \u001b[1;32mas\u001b[0m \u001b[0me\u001b[0m\u001b[1;33m:\u001b[0m\u001b[1;33m\u001b[0m\u001b[1;33m\u001b[0m\u001b[0m\n\u001b[0;32m   1336\u001b[0m       \u001b[0mmessage\u001b[0m \u001b[1;33m=\u001b[0m \u001b[0mcompat\u001b[0m\u001b[1;33m.\u001b[0m\u001b[0mas_text\u001b[0m\u001b[1;33m(\u001b[0m\u001b[0me\u001b[0m\u001b[1;33m.\u001b[0m\u001b[0mmessage\u001b[0m\u001b[1;33m)\u001b[0m\u001b[1;33m\u001b[0m\u001b[1;33m\u001b[0m\u001b[0m\n",
      "\u001b[1;32m~\\Anaconda3\\lib\\site-packages\\tensorflow\\python\\client\\session.py\u001b[0m in \u001b[0;36m_run_fn\u001b[1;34m(feed_dict, fetch_list, target_list, options, run_metadata)\u001b[0m\n\u001b[0;32m   1317\u001b[0m       \u001b[0mself\u001b[0m\u001b[1;33m.\u001b[0m\u001b[0m_extend_graph\u001b[0m\u001b[1;33m(\u001b[0m\u001b[1;33m)\u001b[0m\u001b[1;33m\u001b[0m\u001b[1;33m\u001b[0m\u001b[0m\n\u001b[0;32m   1318\u001b[0m       return self._call_tf_sessionrun(\n\u001b[1;32m-> 1319\u001b[1;33m           options, feed_dict, fetch_list, target_list, run_metadata)\n\u001b[0m\u001b[0;32m   1320\u001b[0m \u001b[1;33m\u001b[0m\u001b[0m\n\u001b[0;32m   1321\u001b[0m     \u001b[1;32mdef\u001b[0m \u001b[0m_prun_fn\u001b[0m\u001b[1;33m(\u001b[0m\u001b[0mhandle\u001b[0m\u001b[1;33m,\u001b[0m \u001b[0mfeed_dict\u001b[0m\u001b[1;33m,\u001b[0m \u001b[0mfetch_list\u001b[0m\u001b[1;33m)\u001b[0m\u001b[1;33m:\u001b[0m\u001b[1;33m\u001b[0m\u001b[1;33m\u001b[0m\u001b[0m\n",
      "\u001b[1;32m~\\Anaconda3\\lib\\site-packages\\tensorflow\\python\\client\\session.py\u001b[0m in \u001b[0;36m_call_tf_sessionrun\u001b[1;34m(self, options, feed_dict, fetch_list, target_list, run_metadata)\u001b[0m\n\u001b[0;32m   1405\u001b[0m     return tf_session.TF_SessionRun_wrapper(\n\u001b[0;32m   1406\u001b[0m         \u001b[0mself\u001b[0m\u001b[1;33m.\u001b[0m\u001b[0m_session\u001b[0m\u001b[1;33m,\u001b[0m \u001b[0moptions\u001b[0m\u001b[1;33m,\u001b[0m \u001b[0mfeed_dict\u001b[0m\u001b[1;33m,\u001b[0m \u001b[0mfetch_list\u001b[0m\u001b[1;33m,\u001b[0m \u001b[0mtarget_list\u001b[0m\u001b[1;33m,\u001b[0m\u001b[1;33m\u001b[0m\u001b[1;33m\u001b[0m\u001b[0m\n\u001b[1;32m-> 1407\u001b[1;33m         run_metadata)\n\u001b[0m\u001b[0;32m   1408\u001b[0m \u001b[1;33m\u001b[0m\u001b[0m\n\u001b[0;32m   1409\u001b[0m   \u001b[1;32mdef\u001b[0m \u001b[0m_call_tf_sessionprun\u001b[0m\u001b[1;33m(\u001b[0m\u001b[0mself\u001b[0m\u001b[1;33m,\u001b[0m \u001b[0mhandle\u001b[0m\u001b[1;33m,\u001b[0m \u001b[0mfeed_dict\u001b[0m\u001b[1;33m,\u001b[0m \u001b[0mfetch_list\u001b[0m\u001b[1;33m)\u001b[0m\u001b[1;33m:\u001b[0m\u001b[1;33m\u001b[0m\u001b[1;33m\u001b[0m\u001b[0m\n",
      "\u001b[1;31mKeyboardInterrupt\u001b[0m: "
     ]
    }
   ],
   "source": [
    "for lr in [0.1,0.05,0.01,0.005,0.001]:\n",
    "    writer1 = tf.summary.FileWriter('nn/lr-'+str(lr))\n",
    "    with tf.name_scope('optimizer'):\n",
    "        optimizer = tf.train.AdamOptimizer(learning_rate=lr).minimize(entropy_loss)\n",
    "        merged = tf.summary.merge_all()\n",
    "    with tf.Session() as sess :\n",
    "        sess.run(tf.global_variables_initializer())\n",
    "        #sess.run(tf.local_variables_initializer())\n",
    "        for j in range(300):\n",
    "            for i in range(len(trainx)):\n",
    "                x_val = np.array(trainx[i].reshape(1,-1),dtype=np.float32)\n",
    "                y_val = np.array(trainy[i].reshape(1,-1),dtype=np.float32)\n",
    "                #print (i,x_val,y_val)\n",
    "                #print (x_val.dtype,'\\n',y_val.dtype)\n",
    "                optimizer.run(feed_dict={x:x_val,y:y_val})\n",
    "                _loss, = sess.run([entropy_loss] ,feed_dict={x:x_val,y:y_val})\n",
    "                #print ('yhat,y',_y_hat,y_val)\n",
    "                #print ('accuracy',_acc)\n",
    "            if(j%5==0):\n",
    "                summary,_train_acc = sess.run([merged,accuracy],feed_dict={x:trainx,y:trainy})\n",
    "                writer1.add_summary(summary,j)\n",
    "                _test_acc = sess.run(accuracy,feed_dict={x:testx,y:testy})\n",
    "                print ('loss=%2.6f, train accuracy=%2.6f, test accuracy = %2.6f'%(_loss,_train_acc,_test_acc))"
   ]
  },
  {
   "cell_type": "code",
   "execution_count": null,
   "metadata": {},
   "outputs": [],
   "source": [
    "with tf.name_scope('myscope'):\n",
    "    a = tf.constant(name='const1',value=3)\n",
    "print (a.name)"
   ]
  },
  {
   "cell_type": "code",
   "execution_count": null,
   "metadata": {},
   "outputs": [],
   "source": [
    "1x4096\n",
    "\n",
    "conv1d(1x4096)(1x2)(1x4096x40) relu\n",
    "pool2(1x2043x40)\n",
    "conv1d(1x2096x40)(1x2)(1x2096x80) relu\n",
    "pool2(1x1022x80)\n",
    "\n",
    "dense(1x2000) relu\n",
    "dense(1x52) softmax (52)\n"
   ]
  }
 ],
 "metadata": {
  "kernelspec": {
   "display_name": "Python 3",
   "language": "python",
   "name": "python3"
  },
  "language_info": {
   "codemirror_mode": {
    "name": "ipython",
    "version": 3
   },
   "file_extension": ".py",
   "mimetype": "text/x-python",
   "name": "python",
   "nbconvert_exporter": "python",
   "pygments_lexer": "ipython3",
   "version": "3.6.8"
  }
 },
 "nbformat": 4,
 "nbformat_minor": 2
}
