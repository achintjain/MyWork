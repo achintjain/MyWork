{
 "cells": [
  {
   "cell_type": "code",
   "execution_count": 1,
   "metadata": {},
   "outputs": [],
   "source": [
    "import numpy as np\n",
    "import pandas as pd\n",
    "import tensorflow as tf"
   ]
  },
  {
   "cell_type": "code",
   "execution_count": 2,
   "metadata": {},
   "outputs": [],
   "source": [
    "ff = pd.read_csv(r'C:\\Users\\achintj\\Downloads\\forestfires.csv')"
   ]
  },
  {
   "cell_type": "code",
   "execution_count": 80,
   "metadata": {},
   "outputs": [],
   "source": [
    "from sklearn.preprocessing import OneHotEncoder, LabelEncoder\n",
    "from sklearn.model_selection import train_test_split"
   ]
  },
  {
   "cell_type": "code",
   "execution_count": 3,
   "metadata": {},
   "outputs": [
    {
     "data": {
      "text/html": [
       "<div>\n",
       "<style scoped>\n",
       "    .dataframe tbody tr th:only-of-type {\n",
       "        vertical-align: middle;\n",
       "    }\n",
       "\n",
       "    .dataframe tbody tr th {\n",
       "        vertical-align: top;\n",
       "    }\n",
       "\n",
       "    .dataframe thead th {\n",
       "        text-align: right;\n",
       "    }\n",
       "</style>\n",
       "<table border=\"1\" class=\"dataframe\">\n",
       "  <thead>\n",
       "    <tr style=\"text-align: right;\">\n",
       "      <th></th>\n",
       "      <th>X</th>\n",
       "      <th>Y</th>\n",
       "      <th>month</th>\n",
       "      <th>day</th>\n",
       "      <th>FFMC</th>\n",
       "      <th>DMC</th>\n",
       "      <th>DC</th>\n",
       "      <th>ISI</th>\n",
       "      <th>temp</th>\n",
       "      <th>RH</th>\n",
       "      <th>wind</th>\n",
       "      <th>rain</th>\n",
       "      <th>area</th>\n",
       "    </tr>\n",
       "  </thead>\n",
       "  <tbody>\n",
       "    <tr>\n",
       "      <th>0</th>\n",
       "      <td>7</td>\n",
       "      <td>5</td>\n",
       "      <td>mar</td>\n",
       "      <td>fri</td>\n",
       "      <td>86.2</td>\n",
       "      <td>26.2</td>\n",
       "      <td>94.3</td>\n",
       "      <td>5.1</td>\n",
       "      <td>8.2</td>\n",
       "      <td>51</td>\n",
       "      <td>6.7</td>\n",
       "      <td>0.0</td>\n",
       "      <td>0.0</td>\n",
       "    </tr>\n",
       "    <tr>\n",
       "      <th>1</th>\n",
       "      <td>7</td>\n",
       "      <td>4</td>\n",
       "      <td>oct</td>\n",
       "      <td>tue</td>\n",
       "      <td>90.6</td>\n",
       "      <td>35.4</td>\n",
       "      <td>669.1</td>\n",
       "      <td>6.7</td>\n",
       "      <td>18.0</td>\n",
       "      <td>33</td>\n",
       "      <td>0.9</td>\n",
       "      <td>0.0</td>\n",
       "      <td>0.0</td>\n",
       "    </tr>\n",
       "    <tr>\n",
       "      <th>2</th>\n",
       "      <td>7</td>\n",
       "      <td>4</td>\n",
       "      <td>oct</td>\n",
       "      <td>sat</td>\n",
       "      <td>90.6</td>\n",
       "      <td>43.7</td>\n",
       "      <td>686.9</td>\n",
       "      <td>6.7</td>\n",
       "      <td>14.6</td>\n",
       "      <td>33</td>\n",
       "      <td>1.3</td>\n",
       "      <td>0.0</td>\n",
       "      <td>0.0</td>\n",
       "    </tr>\n",
       "    <tr>\n",
       "      <th>3</th>\n",
       "      <td>8</td>\n",
       "      <td>6</td>\n",
       "      <td>mar</td>\n",
       "      <td>fri</td>\n",
       "      <td>91.7</td>\n",
       "      <td>33.3</td>\n",
       "      <td>77.5</td>\n",
       "      <td>9.0</td>\n",
       "      <td>8.3</td>\n",
       "      <td>97</td>\n",
       "      <td>4.0</td>\n",
       "      <td>0.2</td>\n",
       "      <td>0.0</td>\n",
       "    </tr>\n",
       "    <tr>\n",
       "      <th>4</th>\n",
       "      <td>8</td>\n",
       "      <td>6</td>\n",
       "      <td>mar</td>\n",
       "      <td>sun</td>\n",
       "      <td>89.3</td>\n",
       "      <td>51.3</td>\n",
       "      <td>102.2</td>\n",
       "      <td>9.6</td>\n",
       "      <td>11.4</td>\n",
       "      <td>99</td>\n",
       "      <td>1.8</td>\n",
       "      <td>0.0</td>\n",
       "      <td>0.0</td>\n",
       "    </tr>\n",
       "  </tbody>\n",
       "</table>\n",
       "</div>"
      ],
      "text/plain": [
       "   X  Y month  day  FFMC   DMC     DC  ISI  temp  RH  wind  rain  area\n",
       "0  7  5   mar  fri  86.2  26.2   94.3  5.1   8.2  51   6.7   0.0   0.0\n",
       "1  7  4   oct  tue  90.6  35.4  669.1  6.7  18.0  33   0.9   0.0   0.0\n",
       "2  7  4   oct  sat  90.6  43.7  686.9  6.7  14.6  33   1.3   0.0   0.0\n",
       "3  8  6   mar  fri  91.7  33.3   77.5  9.0   8.3  97   4.0   0.2   0.0\n",
       "4  8  6   mar  sun  89.3  51.3  102.2  9.6  11.4  99   1.8   0.0   0.0"
      ]
     },
     "execution_count": 3,
     "metadata": {},
     "output_type": "execute_result"
    }
   ],
   "source": [
    "ff.head()"
   ]
  },
  {
   "cell_type": "code",
   "execution_count": 50,
   "metadata": {},
   "outputs": [
    {
     "name": "stdout",
     "output_type": "stream",
     "text": [
      "<class 'pandas.core.frame.DataFrame'>\n",
      "RangeIndex: 517 entries, 0 to 516\n",
      "Data columns (total 11 columns):\n",
      "X       517 non-null int64\n",
      "Y       517 non-null int64\n",
      "FFMC    517 non-null float64\n",
      "DMC     517 non-null float64\n",
      "DC      517 non-null float64\n",
      "ISI     517 non-null float64\n",
      "temp    517 non-null float64\n",
      "RH      517 non-null int64\n",
      "wind    517 non-null float64\n",
      "rain    517 non-null float64\n",
      "area    517 non-null float64\n",
      "dtypes: float64(8), int64(3)\n",
      "memory usage: 44.5 KB\n"
     ]
    }
   ],
   "source": [
    "ff.info()"
   ]
  },
  {
   "cell_type": "code",
   "execution_count": 10,
   "metadata": {},
   "outputs": [],
   "source": [
    "X = ff.drop(['area'],axis = 1)\n",
    "y = ff.area"
   ]
  },
  {
   "cell_type": "code",
   "execution_count": 5,
   "metadata": {},
   "outputs": [],
   "source": [
    "ff.drop(['month','day'],axis = 1, inplace = True)"
   ]
  },
  {
   "cell_type": "code",
   "execution_count": 6,
   "metadata": {},
   "outputs": [],
   "source": [
    "from tensorflow import keras"
   ]
  },
  {
   "cell_type": "code",
   "execution_count": 7,
   "metadata": {},
   "outputs": [],
   "source": [
    "from tensorflow.keras import layers"
   ]
  },
  {
   "cell_type": "code",
   "execution_count": 64,
   "metadata": {},
   "outputs": [],
   "source": [
    "def build_model():\n",
    "        model = keras.Sequential([\n",
    "            layers.Dense(128,activation = tf.nn.relu,input_shape=[10]),\n",
    "            layers.Dense(64,activation= tf.nn.relu),\n",
    "            layers.Dense(1)\n",
    "            \n",
    "        ])\n",
    "        return model"
   ]
  },
  {
   "cell_type": "code",
   "execution_count": 65,
   "metadata": {},
   "outputs": [],
   "source": [
    "model = build_model()"
   ]
  },
  {
   "cell_type": "code",
   "execution_count": 66,
   "metadata": {},
   "outputs": [],
   "source": [
    "optimizer = tf.keras.optimizers.RMSprop()"
   ]
  },
  {
   "cell_type": "code",
   "execution_count": 67,
   "metadata": {},
   "outputs": [],
   "source": [
    "model.compile(loss='mean_squared_error', optimizer = optimizer, metrics = ['accuracy'])"
   ]
  },
  {
   "cell_type": "code",
   "execution_count": 68,
   "metadata": {},
   "outputs": [
    {
     "name": "stdout",
     "output_type": "stream",
     "text": [
      "_________________________________________________________________\n",
      "Layer (type)                 Output Shape              Param #   \n",
      "=================================================================\n",
      "dense_15 (Dense)             (None, 128)               1408      \n",
      "_________________________________________________________________\n",
      "dense_16 (Dense)             (None, 64)                8256      \n",
      "_________________________________________________________________\n",
      "dense_17 (Dense)             (None, 1)                 65        \n",
      "=================================================================\n",
      "Total params: 9,729\n",
      "Trainable params: 9,729\n",
      "Non-trainable params: 0\n",
      "_________________________________________________________________\n"
     ]
    }
   ],
   "source": [
    "model.summary()"
   ]
  },
  {
   "cell_type": "code",
   "execution_count": 69,
   "metadata": {},
   "outputs": [
    {
     "data": {
      "text/plain": [
       "array([[ -4.9282093],\n",
       "       [ 74.401985 ],\n",
       "       [ 75.817726 ],\n",
       "       [-12.25979  ],\n",
       "       [-10.833713 ]], dtype=float32)"
      ]
     },
     "execution_count": 69,
     "metadata": {},
     "output_type": "execute_result"
    }
   ],
   "source": [
    "model.predict(X[:5])"
   ]
  },
  {
   "cell_type": "code",
   "execution_count": 70,
   "metadata": {},
   "outputs": [
    {
     "name": "stdout",
     "output_type": "stream",
     "text": [
      "Epoch 1/100\n",
      "517/517 [==============================] - 0s 504us/sample - loss: 4603.3635 - acc: 0.1103\n",
      "Epoch 2/100\n",
      "517/517 [==============================] - 0s 72us/sample - loss: 4287.5327 - acc: 0.1103\n",
      "Epoch 3/100\n",
      "517/517 [==============================] - 0s 75us/sample - loss: 4409.0412 - acc: 0.0503\n",
      "Epoch 4/100\n",
      "517/517 [==============================] - 0s 64us/sample - loss: 4258.8586 - acc: 0.0619\n",
      "Epoch 5/100\n",
      "517/517 [==============================] - 0s 77us/sample - loss: 4293.6607 - acc: 0.0368\n",
      "Epoch 6/100\n",
      "517/517 [==============================] - 0s 62us/sample - loss: 4151.7944 - acc: 0.0561\n",
      "Epoch 7/100\n",
      "517/517 [==============================] - 0s 77us/sample - loss: 4370.1027 - acc: 0.0696\n",
      "Epoch 8/100\n",
      "517/517 [==============================] - 0s 64us/sample - loss: 4221.7914 - acc: 0.0406\n",
      "Epoch 9/100\n",
      "517/517 [==============================] - 0s 77us/sample - loss: 4194.4742 - acc: 0.1025\n",
      "Epoch 10/100\n",
      "517/517 [==============================] - 0s 79us/sample - loss: 4288.3813 - acc: 0.0406\n",
      "Epoch 11/100\n",
      "517/517 [==============================] - 0s 79us/sample - loss: 4223.0463 - acc: 0.0619\n",
      "Epoch 12/100\n",
      "517/517 [==============================] - 0s 77us/sample - loss: 4166.7767 - acc: 0.0522\n",
      "Epoch 13/100\n",
      "517/517 [==============================] - 0s 72us/sample - loss: 4137.7959 - acc: 0.0251\n",
      "Epoch 14/100\n",
      "517/517 [==============================] - 0s 79us/sample - loss: 4250.9954 - acc: 0.0309\n",
      "Epoch 15/100\n",
      "517/517 [==============================] - 0s 81us/sample - loss: 4221.6398 - acc: 0.0406\n",
      "Epoch 16/100\n",
      "517/517 [==============================] - 0s 77us/sample - loss: 4186.5457 - acc: 0.0348\n",
      "Epoch 17/100\n",
      "517/517 [==============================] - 0s 68us/sample - loss: 4220.4884 - acc: 0.0387\n",
      "Epoch 18/100\n",
      "517/517 [==============================] - 0s 72us/sample - loss: 4164.2627 - acc: 0.0348\n",
      "Epoch 19/100\n",
      "517/517 [==============================] - 0s 70us/sample - loss: 4198.7556 - acc: 0.0638\n",
      "Epoch 20/100\n",
      "517/517 [==============================] - 0s 64us/sample - loss: 4180.4387 - acc: 0.0542\n",
      "Epoch 21/100\n",
      "517/517 [==============================] - 0s 72us/sample - loss: 4111.2213 - acc: 0.0522\n",
      "Epoch 22/100\n",
      "517/517 [==============================] - 0s 72us/sample - loss: 4122.3584 - acc: 0.0445\n",
      "Epoch 23/100\n",
      "517/517 [==============================] - 0s 75us/sample - loss: 4106.5348 - acc: 0.0309\n",
      "Epoch 24/100\n",
      "517/517 [==============================] - 0s 70us/sample - loss: 4083.5864 - acc: 0.0696\n",
      "Epoch 25/100\n",
      "517/517 [==============================] - 0s 75us/sample - loss: 4063.6187 - acc: 0.0464\n",
      "Epoch 26/100\n",
      "517/517 [==============================] - 0s 68us/sample - loss: 4155.0710 - acc: 0.0232\n",
      "Epoch 27/100\n",
      "517/517 [==============================] - 0s 70us/sample - loss: 4195.4320 - acc: 0.0522\n",
      "Epoch 28/100\n",
      "517/517 [==============================] - 0s 79us/sample - loss: 4076.9033 - acc: 0.0484\n",
      "Epoch 29/100\n",
      "517/517 [==============================] - 0s 81us/sample - loss: 4117.6722 - acc: 0.0213\n",
      "Epoch 30/100\n",
      "517/517 [==============================] - 0s 64us/sample - loss: 4151.6101 - acc: 0.0251\n",
      "Epoch 31/100\n",
      "517/517 [==============================] - 0s 64us/sample - loss: 4119.8097 - acc: 0.0232\n",
      "Epoch 32/100\n",
      "517/517 [==============================] - 0s 70us/sample - loss: 3981.2992 - acc: 0.0387\n",
      "Epoch 33/100\n",
      "517/517 [==============================] - 0s 70us/sample - loss: 4029.9803 - acc: 0.0464\n",
      "Epoch 34/100\n",
      "517/517 [==============================] - 0s 77us/sample - loss: 4119.5273 - acc: 0.0406\n",
      "Epoch 35/100\n",
      "517/517 [==============================] - 0s 70us/sample - loss: 4086.8271 - acc: 0.0464\n",
      "Epoch 36/100\n",
      "517/517 [==============================] - 0s 75us/sample - loss: 4085.3939 - acc: 0.0251\n",
      "Epoch 37/100\n",
      "517/517 [==============================] - 0s 75us/sample - loss: 4108.4472 - acc: 0.0232\n",
      "Epoch 38/100\n",
      "517/517 [==============================] - 0s 75us/sample - loss: 4095.2894 - acc: 0.0522\n",
      "Epoch 39/100\n",
      "517/517 [==============================] - 0s 70us/sample - loss: 4113.0479 - acc: 0.0445\n",
      "Epoch 40/100\n",
      "517/517 [==============================] - 0s 68us/sample - loss: 4005.0032 - acc: 0.0716\n",
      "Epoch 41/100\n",
      "517/517 [==============================] - 0s 81us/sample - loss: 4160.5884 - acc: 0.0754\n",
      "Epoch 42/100\n",
      "517/517 [==============================] - 0s 79us/sample - loss: 4077.0594 - acc: 0.0251\n",
      "Epoch 43/100\n",
      "517/517 [==============================] - 0s 73us/sample - loss: 4101.0476 - acc: 0.0193\n",
      "Epoch 44/100\n",
      "517/517 [==============================] - 0s 77us/sample - loss: 4176.8364 - acc: 0.0368\n",
      "Epoch 45/100\n",
      "517/517 [==============================] - 0s 73us/sample - loss: 4038.1410 - acc: 0.0348\n",
      "Epoch 46/100\n",
      "517/517 [==============================] - 0s 66us/sample - loss: 4099.0557 - acc: 0.0290\n",
      "Epoch 47/100\n",
      "517/517 [==============================] - 0s 83us/sample - loss: 4109.4096 - acc: 0.0348\n",
      "Epoch 48/100\n",
      "517/517 [==============================] - 0s 75us/sample - loss: 4092.2660 - acc: 0.0232\n",
      "Epoch 49/100\n",
      "517/517 [==============================] - 0s 73us/sample - loss: 4023.4817 - acc: 0.0561\n",
      "Epoch 50/100\n",
      "517/517 [==============================] - 0s 70us/sample - loss: 4141.9117 - acc: 0.0696\n",
      "Epoch 51/100\n",
      "517/517 [==============================] - 0s 81us/sample - loss: 4051.7113 - acc: 0.0193\n",
      "Epoch 52/100\n",
      "517/517 [==============================] - 0s 75us/sample - loss: 4103.3300 - acc: 0.0290\n",
      "Epoch 53/100\n",
      "517/517 [==============================] - 0s 83us/sample - loss: 4091.6599 - acc: 0.0426\n",
      "Epoch 54/100\n",
      "517/517 [==============================] - 0s 73us/sample - loss: 4079.7368 - acc: 0.0309\n",
      "Epoch 55/100\n",
      "517/517 [==============================] - 0s 60us/sample - loss: 4113.7345 - acc: 0.0348\n",
      "Epoch 56/100\n",
      "517/517 [==============================] - 0s 72us/sample - loss: 4070.1296 - acc: 0.0174\n",
      "Epoch 57/100\n",
      "517/517 [==============================] - 0s 70us/sample - loss: 4024.4974 - acc: 0.0135\n",
      "Epoch 58/100\n",
      "517/517 [==============================] - 0s 64us/sample - loss: 4066.8528 - acc: 0.0251\n",
      "Epoch 59/100\n",
      "517/517 [==============================] - 0s 66us/sample - loss: 4066.5367 - acc: 0.0484\n",
      "Epoch 60/100\n",
      "517/517 [==============================] - 0s 64us/sample - loss: 4073.1607 - acc: 0.0445\n",
      "Epoch 61/100\n",
      "517/517 [==============================] - 0s 64us/sample - loss: 4071.8533 - acc: 0.0464\n",
      "Epoch 62/100\n",
      "517/517 [==============================] - 0s 66us/sample - loss: 4053.7526 - acc: 0.0213\n",
      "Epoch 63/100\n",
      "517/517 [==============================] - 0s 64us/sample - loss: 4029.9020 - acc: 0.0406\n",
      "Epoch 64/100\n",
      "517/517 [==============================] - 0s 66us/sample - loss: 4108.4254 - acc: 0.0271\n",
      "Epoch 65/100\n",
      "517/517 [==============================] - 0s 64us/sample - loss: 4062.7628 - acc: 0.0329\n",
      "Epoch 66/100\n",
      "517/517 [==============================] - 0s 64us/sample - loss: 4072.9644 - acc: 0.0213\n",
      "Epoch 67/100\n",
      "517/517 [==============================] - 0s 62us/sample - loss: 4121.9609 - acc: 0.0484\n",
      "Epoch 68/100\n",
      "517/517 [==============================] - 0s 75us/sample - loss: 4045.2865 - acc: 0.0271\n",
      "Epoch 69/100\n",
      "517/517 [==============================] - 0s 79us/sample - loss: 4049.0418 - acc: 0.0309\n",
      "Epoch 70/100\n",
      "517/517 [==============================] - 0s 68us/sample - loss: 4052.1257 - acc: 0.0193\n",
      "Epoch 71/100\n",
      "517/517 [==============================] - 0s 68us/sample - loss: 4077.8302 - acc: 0.0484\n",
      "Epoch 72/100\n",
      "517/517 [==============================] - 0s 70us/sample - loss: 4011.9746 - acc: 0.0329\n",
      "Epoch 73/100\n",
      "517/517 [==============================] - 0s 68us/sample - loss: 4038.1019 - acc: 0.0271\n",
      "Epoch 74/100\n",
      "517/517 [==============================] - 0s 70us/sample - loss: 4106.1340 - acc: 0.0251\n",
      "Epoch 75/100\n",
      "517/517 [==============================] - 0s 70us/sample - loss: 4064.1559 - acc: 0.0329\n",
      "Epoch 76/100\n",
      "517/517 [==============================] - 0s 72us/sample - loss: 4046.1551 - acc: 0.0542\n",
      "Epoch 77/100\n",
      "517/517 [==============================] - 0s 70us/sample - loss: 4044.5756 - acc: 0.0329\n",
      "Epoch 78/100\n",
      "517/517 [==============================] - 0s 70us/sample - loss: 4047.6213 - acc: 0.0251\n",
      "Epoch 79/100\n",
      "517/517 [==============================] - 0s 70us/sample - loss: 4039.5452 - acc: 0.0464\n",
      "Epoch 80/100\n"
     ]
    },
    {
     "name": "stdout",
     "output_type": "stream",
     "text": [
      "517/517 [==============================] - 0s 66us/sample - loss: 3998.6801 - acc: 0.0174\n",
      "Epoch 81/100\n",
      "517/517 [==============================] - 0s 70us/sample - loss: 4054.9742 - acc: 0.0309\n",
      "Epoch 82/100\n",
      "517/517 [==============================] - 0s 66us/sample - loss: 4070.7780 - acc: 0.0542\n",
      "Epoch 83/100\n",
      "517/517 [==============================] - 0s 87us/sample - loss: 4000.3929 - acc: 0.0484\n",
      "Epoch 84/100\n",
      "517/517 [==============================] - 0s 79us/sample - loss: 4063.4883 - acc: 0.0426\n",
      "Epoch 85/100\n",
      "517/517 [==============================] - 0s 73us/sample - loss: 4050.9959 - acc: 0.0348\n",
      "Epoch 86/100\n",
      "517/517 [==============================] - 0s 72us/sample - loss: 3957.5097 - acc: 0.0445\n",
      "Epoch 87/100\n",
      "517/517 [==============================] - 0s 70us/sample - loss: 4002.2914 - acc: 0.0387\n",
      "Epoch 88/100\n",
      "517/517 [==============================] - 0s 73us/sample - loss: 4023.6856 - acc: 0.0406\n",
      "Epoch 89/100\n",
      "517/517 [==============================] - 0s 73us/sample - loss: 3992.0775 - acc: 0.0503\n",
      "Epoch 90/100\n",
      "517/517 [==============================] - 0s 72us/sample - loss: 4198.2525 - acc: 0.0116\n",
      "Epoch 91/100\n",
      "517/517 [==============================] - 0s 77us/sample - loss: 3966.9595 - acc: 0.0290\n",
      "Epoch 92/100\n",
      "517/517 [==============================] - 0s 70us/sample - loss: 4028.0281 - acc: 0.0309\n",
      "Epoch 93/100\n",
      "517/517 [==============================] - 0s 79us/sample - loss: 4052.8415 - acc: 0.0348\n",
      "Epoch 94/100\n",
      "517/517 [==============================] - 0s 70us/sample - loss: 4019.3851 - acc: 0.0348\n",
      "Epoch 95/100\n",
      "517/517 [==============================] - 0s 70us/sample - loss: 4009.4925 - acc: 0.0464\n",
      "Epoch 96/100\n",
      "517/517 [==============================] - 0s 68us/sample - loss: 4051.2970 - acc: 0.0271\n",
      "Epoch 97/100\n",
      "517/517 [==============================] - 0s 72us/sample - loss: 4043.5951 - acc: 0.0406\n",
      "Epoch 98/100\n",
      "517/517 [==============================] - 0s 66us/sample - loss: 4007.2449 - acc: 0.0368\n",
      "Epoch 99/100\n",
      "517/517 [==============================] - 0s 75us/sample - loss: 4043.7065 - acc: 0.0406\n",
      "Epoch 100/100\n",
      "517/517 [==============================] - 0s 68us/sample - loss: 3968.3895 - acc: 0.0619\n"
     ]
    },
    {
     "data": {
      "text/plain": [
       "<tensorflow.python.keras.callbacks.History at 0x184dfdab5c0>"
      ]
     },
     "execution_count": 70,
     "metadata": {},
     "output_type": "execute_result"
    }
   ],
   "source": [
    "model.fit(X,y,epochs=100)"
   ]
  },
  {
   "cell_type": "code",
   "execution_count": 71,
   "metadata": {},
   "outputs": [],
   "source": [
    "hr_data = pd.read_csv('https://raw.githubusercontent.com/zekelabs/data-science-complete-tutorial/master/Data/HR_comma_sep.csv.txt')"
   ]
  },
  {
   "cell_type": "code",
   "execution_count": 73,
   "metadata": {},
   "outputs": [
    {
     "data": {
      "text/html": [
       "<div>\n",
       "<style scoped>\n",
       "    .dataframe tbody tr th:only-of-type {\n",
       "        vertical-align: middle;\n",
       "    }\n",
       "\n",
       "    .dataframe tbody tr th {\n",
       "        vertical-align: top;\n",
       "    }\n",
       "\n",
       "    .dataframe thead th {\n",
       "        text-align: right;\n",
       "    }\n",
       "</style>\n",
       "<table border=\"1\" class=\"dataframe\">\n",
       "  <thead>\n",
       "    <tr style=\"text-align: right;\">\n",
       "      <th></th>\n",
       "      <th>satisfaction_level</th>\n",
       "      <th>last_evaluation</th>\n",
       "      <th>number_project</th>\n",
       "      <th>average_montly_hours</th>\n",
       "      <th>time_spend_company</th>\n",
       "      <th>Work_accident</th>\n",
       "      <th>left</th>\n",
       "      <th>promotion_last_5years</th>\n",
       "      <th>sales</th>\n",
       "      <th>salary</th>\n",
       "    </tr>\n",
       "  </thead>\n",
       "  <tbody>\n",
       "    <tr>\n",
       "      <th>0</th>\n",
       "      <td>0.38</td>\n",
       "      <td>0.53</td>\n",
       "      <td>2</td>\n",
       "      <td>157</td>\n",
       "      <td>3</td>\n",
       "      <td>0</td>\n",
       "      <td>1</td>\n",
       "      <td>0</td>\n",
       "      <td>sales</td>\n",
       "      <td>low</td>\n",
       "    </tr>\n",
       "    <tr>\n",
       "      <th>1</th>\n",
       "      <td>0.80</td>\n",
       "      <td>0.86</td>\n",
       "      <td>5</td>\n",
       "      <td>262</td>\n",
       "      <td>6</td>\n",
       "      <td>0</td>\n",
       "      <td>1</td>\n",
       "      <td>0</td>\n",
       "      <td>sales</td>\n",
       "      <td>medium</td>\n",
       "    </tr>\n",
       "    <tr>\n",
       "      <th>2</th>\n",
       "      <td>0.11</td>\n",
       "      <td>0.88</td>\n",
       "      <td>7</td>\n",
       "      <td>272</td>\n",
       "      <td>4</td>\n",
       "      <td>0</td>\n",
       "      <td>1</td>\n",
       "      <td>0</td>\n",
       "      <td>sales</td>\n",
       "      <td>medium</td>\n",
       "    </tr>\n",
       "    <tr>\n",
       "      <th>3</th>\n",
       "      <td>0.72</td>\n",
       "      <td>0.87</td>\n",
       "      <td>5</td>\n",
       "      <td>223</td>\n",
       "      <td>5</td>\n",
       "      <td>0</td>\n",
       "      <td>1</td>\n",
       "      <td>0</td>\n",
       "      <td>sales</td>\n",
       "      <td>low</td>\n",
       "    </tr>\n",
       "    <tr>\n",
       "      <th>4</th>\n",
       "      <td>0.37</td>\n",
       "      <td>0.52</td>\n",
       "      <td>2</td>\n",
       "      <td>159</td>\n",
       "      <td>3</td>\n",
       "      <td>0</td>\n",
       "      <td>1</td>\n",
       "      <td>0</td>\n",
       "      <td>sales</td>\n",
       "      <td>low</td>\n",
       "    </tr>\n",
       "  </tbody>\n",
       "</table>\n",
       "</div>"
      ],
      "text/plain": [
       "   satisfaction_level  last_evaluation  number_project  average_montly_hours  \\\n",
       "0                0.38             0.53               2                   157   \n",
       "1                0.80             0.86               5                   262   \n",
       "2                0.11             0.88               7                   272   \n",
       "3                0.72             0.87               5                   223   \n",
       "4                0.37             0.52               2                   159   \n",
       "\n",
       "   time_spend_company  Work_accident  left  promotion_last_5years  sales  \\\n",
       "0                   3              0     1                      0  sales   \n",
       "1                   6              0     1                      0  sales   \n",
       "2                   4              0     1                      0  sales   \n",
       "3                   5              0     1                      0  sales   \n",
       "4                   3              0     1                      0  sales   \n",
       "\n",
       "   salary  \n",
       "0     low  \n",
       "1  medium  \n",
       "2  medium  \n",
       "3     low  \n",
       "4     low  "
      ]
     },
     "execution_count": 73,
     "metadata": {},
     "output_type": "execute_result"
    }
   ],
   "source": [
    "hr_data.head()"
   ]
  },
  {
   "cell_type": "code",
   "execution_count": 74,
   "metadata": {},
   "outputs": [],
   "source": [
    "feature_data = hr_data.drop(['left'],axis = 1)"
   ]
  },
  {
   "cell_type": "code",
   "execution_count": 75,
   "metadata": {},
   "outputs": [],
   "source": [
    "target_data = hr_data.left"
   ]
  },
  {
   "cell_type": "code",
   "execution_count": 76,
   "metadata": {},
   "outputs": [],
   "source": []
  },
  {
   "cell_type": "code",
   "execution_count": 78,
   "metadata": {},
   "outputs": [],
   "source": [
    "cat_emp_data = feature_data.select_dtypes('object')\n",
    "int_emp_data = feature_data.select_dtypes('int64')"
   ]
  },
  {
   "cell_type": "code",
   "execution_count": 81,
   "metadata": {},
   "outputs": [],
   "source": [
    "le = LabelEncoder()\n",
    "ohe = OneHotEncoder()"
   ]
  },
  {
   "cell_type": "code",
   "execution_count": 83,
   "metadata": {},
   "outputs": [
    {
     "data": {
      "text/plain": [
       "LabelEncoder()"
      ]
     },
     "execution_count": 83,
     "metadata": {},
     "output_type": "execute_result"
    }
   ],
   "source": [
    "le.fit(cat_emp_data.sales)"
   ]
  },
  {
   "cell_type": "code",
   "execution_count": 85,
   "metadata": {},
   "outputs": [
    {
     "name": "stderr",
     "output_type": "stream",
     "text": [
      "C:\\Users\\achintj\\Anaconda3\\lib\\site-packages\\ipykernel_launcher.py:2: SettingWithCopyWarning: \n",
      "A value is trying to be set on a copy of a slice from a DataFrame.\n",
      "Try using .loc[row_indexer,col_indexer] = value instead\n",
      "\n",
      "See the caveats in the documentation: http://pandas.pydata.org/pandas-docs/stable/indexing.html#indexing-view-versus-copy\n",
      "  \n"
     ]
    }
   ],
   "source": [
    "\n",
    "cat_emp_data['department_tf'] = le.transform(cat_emp_data.sales)"
   ]
  },
  {
   "cell_type": "code",
   "execution_count": 86,
   "metadata": {},
   "outputs": [
    {
     "data": {
      "text/html": [
       "<div>\n",
       "<style scoped>\n",
       "    .dataframe tbody tr th:only-of-type {\n",
       "        vertical-align: middle;\n",
       "    }\n",
       "\n",
       "    .dataframe tbody tr th {\n",
       "        vertical-align: top;\n",
       "    }\n",
       "\n",
       "    .dataframe thead th {\n",
       "        text-align: right;\n",
       "    }\n",
       "</style>\n",
       "<table border=\"1\" class=\"dataframe\">\n",
       "  <thead>\n",
       "    <tr style=\"text-align: right;\">\n",
       "      <th></th>\n",
       "      <th>sales</th>\n",
       "      <th>salary</th>\n",
       "      <th>department_tf</th>\n",
       "    </tr>\n",
       "  </thead>\n",
       "  <tbody>\n",
       "    <tr>\n",
       "      <th>0</th>\n",
       "      <td>sales</td>\n",
       "      <td>low</td>\n",
       "      <td>7</td>\n",
       "    </tr>\n",
       "    <tr>\n",
       "      <th>1</th>\n",
       "      <td>sales</td>\n",
       "      <td>medium</td>\n",
       "      <td>7</td>\n",
       "    </tr>\n",
       "    <tr>\n",
       "      <th>2</th>\n",
       "      <td>sales</td>\n",
       "      <td>medium</td>\n",
       "      <td>7</td>\n",
       "    </tr>\n",
       "    <tr>\n",
       "      <th>3</th>\n",
       "      <td>sales</td>\n",
       "      <td>low</td>\n",
       "      <td>7</td>\n",
       "    </tr>\n",
       "    <tr>\n",
       "      <th>4</th>\n",
       "      <td>sales</td>\n",
       "      <td>low</td>\n",
       "      <td>7</td>\n",
       "    </tr>\n",
       "  </tbody>\n",
       "</table>\n",
       "</div>"
      ],
      "text/plain": [
       "   sales  salary  department_tf\n",
       "0  sales     low              7\n",
       "1  sales  medium              7\n",
       "2  sales  medium              7\n",
       "3  sales     low              7\n",
       "4  sales     low              7"
      ]
     },
     "execution_count": 86,
     "metadata": {},
     "output_type": "execute_result"
    }
   ],
   "source": [
    "cat_emp_data.head()"
   ]
  },
  {
   "cell_type": "code",
   "execution_count": 87,
   "metadata": {},
   "outputs": [
    {
     "data": {
      "text/plain": [
       "array(['IT', 'RandD', 'accounting', 'hr', 'management', 'marketing',\n",
       "       'product_mng', 'sales', 'support', 'technical'], dtype=object)"
      ]
     },
     "execution_count": 87,
     "metadata": {},
     "output_type": "execute_result"
    }
   ],
   "source": [
    "le.classes_\n"
   ]
  },
  {
   "cell_type": "code",
   "execution_count": 88,
   "metadata": {},
   "outputs": [
    {
     "data": {
      "text/plain": [
       "array(['sales'], dtype=object)"
      ]
     },
     "execution_count": 88,
     "metadata": {},
     "output_type": "execute_result"
    }
   ],
   "source": [
    "le.inverse_transform([7])"
   ]
  },
  {
   "cell_type": "code",
   "execution_count": 89,
   "metadata": {},
   "outputs": [
    {
     "name": "stderr",
     "output_type": "stream",
     "text": [
      "C:\\Users\\achintj\\Anaconda3\\lib\\site-packages\\sklearn\\preprocessing\\_encoders.py:371: FutureWarning: The handling of integer data will change in version 0.22. Currently, the categories are determined based on the range [0, max(values)], while in the future they will be determined based on the unique values.\n",
      "If you want the future behaviour and silence this warning, you can specify \"categories='auto'\".\n",
      "In case you used a LabelEncoder before this OneHotEncoder to convert the categories to integers, then you can now use the OneHotEncoder directly.\n",
      "  warnings.warn(msg, FutureWarning)\n"
     ]
    },
    {
     "data": {
      "text/plain": [
       "OneHotEncoder(categorical_features=None, categories=None,\n",
       "       dtype=<class 'numpy.float64'>, handle_unknown='error',\n",
       "       n_values=None, sparse=True)"
      ]
     },
     "execution_count": 89,
     "metadata": {},
     "output_type": "execute_result"
    }
   ],
   "source": [
    "ohe.fit(cat_emp_data[['department_tf']])"
   ]
  },
  {
   "cell_type": "code",
   "execution_count": 90,
   "metadata": {},
   "outputs": [],
   "source": [
    "department_tf = ohe.transform(cat_emp_data[['department_tf']]).toarray()"
   ]
  },
  {
   "cell_type": "code",
   "execution_count": 91,
   "metadata": {},
   "outputs": [],
   "source": [
    "from sklearn.preprocessing import FunctionTransformer"
   ]
  },
  {
   "cell_type": "code",
   "execution_count": 92,
   "metadata": {},
   "outputs": [],
   "source": [
    "def func(x):\n",
    "    def mapping(d):\n",
    "        if d == 'low':\n",
    "            return 1\n",
    "        elif d == 'medium':\n",
    "            return 2\n",
    "        else:\n",
    "            return 3\n",
    "    return x.map( mapping )\n",
    "        \n",
    "ft = FunctionTransformer(func, validate=False)"
   ]
  },
  {
   "cell_type": "code",
   "execution_count": 93,
   "metadata": {},
   "outputs": [
    {
     "name": "stderr",
     "output_type": "stream",
     "text": [
      "C:\\Users\\achintj\\Anaconda3\\lib\\site-packages\\ipykernel_launcher.py:1: SettingWithCopyWarning: \n",
      "A value is trying to be set on a copy of a slice from a DataFrame.\n",
      "Try using .loc[row_indexer,col_indexer] = value instead\n",
      "\n",
      "See the caveats in the documentation: http://pandas.pydata.org/pandas-docs/stable/indexing.html#indexing-view-versus-copy\n",
      "  \"\"\"Entry point for launching an IPython kernel.\n"
     ]
    }
   ],
   "source": [
    "cat_emp_data['salary_tf'] = ft.transform(cat_emp_data.salary)"
   ]
  },
  {
   "cell_type": "code",
   "execution_count": 94,
   "metadata": {},
   "outputs": [
    {
     "data": {
      "text/html": [
       "<div>\n",
       "<style scoped>\n",
       "    .dataframe tbody tr th:only-of-type {\n",
       "        vertical-align: middle;\n",
       "    }\n",
       "\n",
       "    .dataframe tbody tr th {\n",
       "        vertical-align: top;\n",
       "    }\n",
       "\n",
       "    .dataframe thead th {\n",
       "        text-align: right;\n",
       "    }\n",
       "</style>\n",
       "<table border=\"1\" class=\"dataframe\">\n",
       "  <thead>\n",
       "    <tr style=\"text-align: right;\">\n",
       "      <th></th>\n",
       "      <th>number_project</th>\n",
       "      <th>average_montly_hours</th>\n",
       "      <th>time_spend_company</th>\n",
       "      <th>Work_accident</th>\n",
       "      <th>promotion_last_5years</th>\n",
       "    </tr>\n",
       "  </thead>\n",
       "  <tbody>\n",
       "    <tr>\n",
       "      <th>0</th>\n",
       "      <td>2</td>\n",
       "      <td>157</td>\n",
       "      <td>3</td>\n",
       "      <td>0</td>\n",
       "      <td>0</td>\n",
       "    </tr>\n",
       "    <tr>\n",
       "      <th>1</th>\n",
       "      <td>5</td>\n",
       "      <td>262</td>\n",
       "      <td>6</td>\n",
       "      <td>0</td>\n",
       "      <td>0</td>\n",
       "    </tr>\n",
       "    <tr>\n",
       "      <th>2</th>\n",
       "      <td>7</td>\n",
       "      <td>272</td>\n",
       "      <td>4</td>\n",
       "      <td>0</td>\n",
       "      <td>0</td>\n",
       "    </tr>\n",
       "    <tr>\n",
       "      <th>3</th>\n",
       "      <td>5</td>\n",
       "      <td>223</td>\n",
       "      <td>5</td>\n",
       "      <td>0</td>\n",
       "      <td>0</td>\n",
       "    </tr>\n",
       "    <tr>\n",
       "      <th>4</th>\n",
       "      <td>2</td>\n",
       "      <td>159</td>\n",
       "      <td>3</td>\n",
       "      <td>0</td>\n",
       "      <td>0</td>\n",
       "    </tr>\n",
       "  </tbody>\n",
       "</table>\n",
       "</div>"
      ],
      "text/plain": [
       "   number_project  average_montly_hours  time_spend_company  Work_accident  \\\n",
       "0               2                   157                   3              0   \n",
       "1               5                   262                   6              0   \n",
       "2               7                   272                   4              0   \n",
       "3               5                   223                   5              0   \n",
       "4               2                   159                   3              0   \n",
       "\n",
       "   promotion_last_5years  \n",
       "0                      0  \n",
       "1                      0  \n",
       "2                      0  \n",
       "3                      0  \n",
       "4                      0  "
      ]
     },
     "execution_count": 94,
     "metadata": {},
     "output_type": "execute_result"
    }
   ],
   "source": [
    "int_emp_data.head()"
   ]
  },
  {
   "cell_type": "code",
   "execution_count": 95,
   "metadata": {},
   "outputs": [],
   "source": [
    "from sklearn.preprocessing import MinMaxScaler"
   ]
  },
  {
   "cell_type": "code",
   "execution_count": 96,
   "metadata": {},
   "outputs": [],
   "source": [
    "mms = MinMaxScaler()"
   ]
  },
  {
   "cell_type": "code",
   "execution_count": 97,
   "metadata": {},
   "outputs": [
    {
     "name": "stderr",
     "output_type": "stream",
     "text": [
      "C:\\Users\\achintj\\Anaconda3\\lib\\site-packages\\sklearn\\preprocessing\\data.py:334: DataConversionWarning: Data with input dtype int64 were all converted to float64 by MinMaxScaler.\n",
      "  return self.partial_fit(X, y)\n"
     ]
    },
    {
     "data": {
      "text/plain": [
       "MinMaxScaler(copy=True, feature_range=(0, 1))"
      ]
     },
     "execution_count": 97,
     "metadata": {},
     "output_type": "execute_result"
    }
   ],
   "source": [
    "mms.fit(int_emp_data)"
   ]
  },
  {
   "cell_type": "code",
   "execution_count": 98,
   "metadata": {},
   "outputs": [],
   "source": [
    "int_tf = mms.transform(int_emp_data)"
   ]
  },
  {
   "cell_type": "code",
   "execution_count": 100,
   "metadata": {},
   "outputs": [],
   "source": [
    "float_tf = hr_data[['satisfaction_level','last_evaluation']].values"
   ]
  },
  {
   "cell_type": "code",
   "execution_count": 101,
   "metadata": {},
   "outputs": [
    {
     "data": {
      "text/plain": [
       "(14999,)"
      ]
     },
     "execution_count": 101,
     "metadata": {},
     "output_type": "execute_result"
    }
   ],
   "source": [
    "cat_emp_data['salary_tf'].values.shape"
   ]
  },
  {
   "cell_type": "code",
   "execution_count": 102,
   "metadata": {},
   "outputs": [],
   "source": [
    "salary_tf = cat_emp_data['salary_tf'].values.reshape(-1,1)"
   ]
  },
  {
   "cell_type": "code",
   "execution_count": 103,
   "metadata": {},
   "outputs": [],
   "source": [
    "feature_data = np.hstack([department_tf,int_tf,float_tf,salary_tf])"
   ]
  },
  {
   "cell_type": "code",
   "execution_count": 105,
   "metadata": {},
   "outputs": [],
   "source": [
    "from sklearn.model_selection import train_test_split\n",
    "trainX, testX, trainY, testY = train_test_split(feature_data,target_data)"
   ]
  },
  {
   "cell_type": "code",
   "execution_count": 111,
   "metadata": {},
   "outputs": [
    {
     "data": {
      "text/plain": [
       "(11249, 18)"
      ]
     },
     "execution_count": 111,
     "metadata": {},
     "output_type": "execute_result"
    }
   ],
   "source": [
    "trainX.shape"
   ]
  },
  {
   "cell_type": "code",
   "execution_count": 146,
   "metadata": {},
   "outputs": [],
   "source": [
    "def build_model_hr():\n",
    "        model = keras.Sequential([\n",
    "            layers.Dense(256,activation = tf.nn.relu,input_shape=[18]),\n",
    "            layers.Dense(128,activation = tf.nn.relu),\n",
    "            layers.Dense(2,activation = tf.nn.softmax)          \n",
    "        ])\n",
    "        return model"
   ]
  },
  {
   "cell_type": "code",
   "execution_count": 147,
   "metadata": {},
   "outputs": [],
   "source": [
    "model_hr = build_model_hr()"
   ]
  },
  {
   "cell_type": "code",
   "execution_count": 153,
   "metadata": {},
   "outputs": [],
   "source": [
    "model_hr.compile(loss=keras.losses.sparse_categorical_crossentropy, optimizer = optimizer, metrics = ['accuracy'])"
   ]
  },
  {
   "cell_type": "code",
   "execution_count": 154,
   "metadata": {},
   "outputs": [
    {
     "name": "stdout",
     "output_type": "stream",
     "text": [
      "_________________________________________________________________\n",
      "Layer (type)                 Output Shape              Param #   \n",
      "=================================================================\n",
      "dense_30 (Dense)             (None, 256)               4864      \n",
      "_________________________________________________________________\n",
      "dense_31 (Dense)             (None, 128)               32896     \n",
      "_________________________________________________________________\n",
      "dense_32 (Dense)             (None, 2)                 258       \n",
      "=================================================================\n",
      "Total params: 38,018\n",
      "Trainable params: 38,018\n",
      "Non-trainable params: 0\n",
      "_________________________________________________________________\n"
     ]
    }
   ],
   "source": [
    "model_hr.summary()"
   ]
  },
  {
   "cell_type": "code",
   "execution_count": 155,
   "metadata": {},
   "outputs": [
    {
     "data": {
      "text/plain": [
       "array([1, 0, 0, 0, 0], dtype=int64)"
      ]
     },
     "execution_count": 155,
     "metadata": {},
     "output_type": "execute_result"
    }
   ],
   "source": [
    "model_hr.predict_classes(trainX[:5])"
   ]
  },
  {
   "cell_type": "code",
   "execution_count": 156,
   "metadata": {},
   "outputs": [
    {
     "name": "stdout",
     "output_type": "stream",
     "text": [
      "Train on 11249 samples, validate on 3750 samples\n",
      "Epoch 1/50\n",
      "11249/11249 [==============================] - 1s 88us/sample - loss: 0.0741 - acc: 0.9756 - val_loss: 0.1084 - val_acc: 0.9704\n",
      "Epoch 2/50\n",
      "11249/11249 [==============================] - 0s 38us/sample - loss: 0.0712 - acc: 0.9766 - val_loss: 0.1184 - val_acc: 0.9651\n",
      "Epoch 3/50\n",
      "11249/11249 [==============================] - 0s 39us/sample - loss: 0.0704 - acc: 0.9772 - val_loss: 0.1117 - val_acc: 0.9683\n",
      "Epoch 4/50\n",
      "11249/11249 [==============================] - 0s 39us/sample - loss: 0.0676 - acc: 0.9779 - val_loss: 0.1091 - val_acc: 0.9696\n",
      "Epoch 5/50\n",
      "11249/11249 [==============================] - 0s 40us/sample - loss: 0.0672 - acc: 0.9770 - val_loss: 0.1158 - val_acc: 0.9651\n",
      "Epoch 6/50\n",
      "11249/11249 [==============================] - 0s 41us/sample - loss: 0.0664 - acc: 0.9786 - val_loss: 0.1105 - val_acc: 0.9677\n",
      "Epoch 7/50\n",
      "11249/11249 [==============================] - 0s 41us/sample - loss: 0.0655 - acc: 0.9807 - val_loss: 0.1123 - val_acc: 0.9696\n",
      "Epoch 8/50\n",
      "11249/11249 [==============================] - 0s 41us/sample - loss: 0.0649 - acc: 0.9799 - val_loss: 0.1116 - val_acc: 0.9675\n",
      "Epoch 9/50\n",
      "11249/11249 [==============================] - 0s 40us/sample - loss: 0.0643 - acc: 0.9805 - val_loss: 0.1143 - val_acc: 0.9677\n",
      "Epoch 10/50\n",
      "11249/11249 [==============================] - 0s 40us/sample - loss: 0.0640 - acc: 0.9795 - val_loss: 0.1051 - val_acc: 0.9707\n",
      "Epoch 11/50\n",
      "11249/11249 [==============================] - 0s 40us/sample - loss: 0.0627 - acc: 0.9809 - val_loss: 0.1217 - val_acc: 0.9648\n",
      "Epoch 12/50\n",
      "11249/11249 [==============================] - 0s 43us/sample - loss: 0.0606 - acc: 0.9812 - val_loss: 0.1063 - val_acc: 0.9728\n",
      "Epoch 13/50\n",
      "11249/11249 [==============================] - 0s 41us/sample - loss: 0.0614 - acc: 0.9812 - val_loss: 0.1133 - val_acc: 0.9699\n",
      "Epoch 14/50\n",
      "11249/11249 [==============================] - 0s 41us/sample - loss: 0.0607 - acc: 0.9802 - val_loss: 0.1147 - val_acc: 0.9696\n",
      "Epoch 15/50\n",
      "11249/11249 [==============================] - 0s 40us/sample - loss: 0.0607 - acc: 0.9810 - val_loss: 0.1078 - val_acc: 0.9683\n",
      "Epoch 16/50\n",
      "11249/11249 [==============================] - 0s 40us/sample - loss: 0.0576 - acc: 0.9823 - val_loss: 0.1147 - val_acc: 0.9677\n",
      "Epoch 17/50\n",
      "11249/11249 [==============================] - 0s 41us/sample - loss: 0.0580 - acc: 0.9818 - val_loss: 0.1088 - val_acc: 0.9707\n",
      "Epoch 18/50\n",
      "11249/11249 [==============================] - 0s 41us/sample - loss: 0.0562 - acc: 0.9821 - val_loss: 0.1284 - val_acc: 0.9664\n",
      "Epoch 19/50\n",
      "11249/11249 [==============================] - 0s 41us/sample - loss: 0.0563 - acc: 0.9824 - val_loss: 0.1124 - val_acc: 0.9707\n",
      "Epoch 20/50\n",
      "11249/11249 [==============================] - 0s 43us/sample - loss: 0.0559 - acc: 0.9830 - val_loss: 0.1092 - val_acc: 0.9715\n",
      "Epoch 21/50\n",
      "11249/11249 [==============================] - 0s 40us/sample - loss: 0.0550 - acc: 0.9824 - val_loss: 0.1083 - val_acc: 0.9728\n",
      "Epoch 22/50\n",
      "11249/11249 [==============================] - 0s 42us/sample - loss: 0.0556 - acc: 0.9830 - val_loss: 0.1180 - val_acc: 0.9683\n",
      "Epoch 23/50\n",
      "11249/11249 [==============================] - 0s 41us/sample - loss: 0.0534 - acc: 0.9820 - val_loss: 0.1234 - val_acc: 0.9661\n",
      "Epoch 24/50\n",
      "11249/11249 [==============================] - 0s 40us/sample - loss: 0.0524 - acc: 0.9834 - val_loss: 0.1114 - val_acc: 0.9704\n",
      "Epoch 25/50\n",
      "11249/11249 [==============================] - 0s 41us/sample - loss: 0.0513 - acc: 0.9828 - val_loss: 0.1133 - val_acc: 0.9712\n",
      "Epoch 26/50\n",
      "11249/11249 [==============================] - 0s 40us/sample - loss: 0.0529 - acc: 0.9830 - val_loss: 0.1144 - val_acc: 0.9712\n",
      "Epoch 27/50\n",
      "11249/11249 [==============================] - 0s 39us/sample - loss: 0.0535 - acc: 0.9823 - val_loss: 0.1145 - val_acc: 0.9712\n",
      "Epoch 28/50\n",
      "11249/11249 [==============================] - 0s 40us/sample - loss: 0.0509 - acc: 0.9832 - val_loss: 0.1433 - val_acc: 0.9624\n",
      "Epoch 29/50\n",
      "11249/11249 [==============================] - 0s 42us/sample - loss: 0.0513 - acc: 0.9828 - val_loss: 0.1138 - val_acc: 0.9717\n",
      "Epoch 30/50\n",
      "11249/11249 [==============================] - 0s 44us/sample - loss: 0.0496 - acc: 0.9836 - val_loss: 0.1160 - val_acc: 0.9717\n",
      "Epoch 31/50\n",
      "11249/11249 [==============================] - 1s 47us/sample - loss: 0.0485 - acc: 0.9850 - val_loss: 0.1211 - val_acc: 0.9701\n",
      "Epoch 32/50\n",
      "11249/11249 [==============================] - 0s 42us/sample - loss: 0.0476 - acc: 0.9843 - val_loss: 0.1213 - val_acc: 0.9707\n",
      "Epoch 33/50\n",
      "11249/11249 [==============================] - 0s 41us/sample - loss: 0.0477 - acc: 0.9847 - val_loss: 0.1066 - val_acc: 0.9717\n",
      "Epoch 34/50\n",
      "11249/11249 [==============================] - 0s 44us/sample - loss: 0.0492 - acc: 0.9846 - val_loss: 0.1124 - val_acc: 0.9717\n",
      "Epoch 35/50\n",
      "11249/11249 [==============================] - 0s 42us/sample - loss: 0.0456 - acc: 0.9860 - val_loss: 0.1101 - val_acc: 0.9717\n",
      "Epoch 36/50\n",
      "11249/11249 [==============================] - 0s 40us/sample - loss: 0.0475 - acc: 0.9848 - val_loss: 0.1129 - val_acc: 0.9701\n",
      "Epoch 37/50\n",
      "11249/11249 [==============================] - 0s 39us/sample - loss: 0.0474 - acc: 0.9848 - val_loss: 0.1141 - val_acc: 0.9707\n",
      "Epoch 38/50\n",
      "11249/11249 [==============================] - 0s 41us/sample - loss: 0.0477 - acc: 0.9840 - val_loss: 0.1252 - val_acc: 0.9645\n",
      "Epoch 39/50\n",
      "11249/11249 [==============================] - 0s 40us/sample - loss: 0.0460 - acc: 0.9853 - val_loss: 0.1084 - val_acc: 0.9715\n",
      "Epoch 40/50\n",
      "11249/11249 [==============================] - 0s 40us/sample - loss: 0.0436 - acc: 0.9857 - val_loss: 0.1266 - val_acc: 0.9723\n",
      "Epoch 41/50\n",
      "11249/11249 [==============================] - 0s 40us/sample - loss: 0.0441 - acc: 0.9864 - val_loss: 0.1185 - val_acc: 0.9715\n",
      "Epoch 42/50\n",
      "11249/11249 [==============================] - 0s 40us/sample - loss: 0.0451 - acc: 0.9853 - val_loss: 0.1212 - val_acc: 0.9669\n",
      "Epoch 43/50\n",
      "11249/11249 [==============================] - 0s 41us/sample - loss: 0.0436 - acc: 0.9858 - val_loss: 0.1193 - val_acc: 0.9691\n",
      "Epoch 44/50\n",
      "11249/11249 [==============================] - 0s 41us/sample - loss: 0.0439 - acc: 0.9860 - val_loss: 0.1120 - val_acc: 0.9723\n",
      "Epoch 45/50\n",
      "11249/11249 [==============================] - 0s 43us/sample - loss: 0.0436 - acc: 0.9855 - val_loss: 0.1064 - val_acc: 0.9741\n",
      "Epoch 46/50\n",
      "11249/11249 [==============================] - 1s 45us/sample - loss: 0.0437 - acc: 0.9865 - val_loss: 0.1159 - val_acc: 0.9723\n",
      "Epoch 47/50\n",
      "11249/11249 [==============================] - 0s 40us/sample - loss: 0.0420 - acc: 0.9860 - val_loss: 0.1226 - val_acc: 0.9704\n",
      "Epoch 48/50\n",
      "11249/11249 [==============================] - 1s 45us/sample - loss: 0.0420 - acc: 0.9867 - val_loss: 0.1388 - val_acc: 0.9651\n",
      "Epoch 49/50\n",
      "11249/11249 [==============================] - 0s 40us/sample - loss: 0.0427 - acc: 0.9860 - val_loss: 0.1222 - val_acc: 0.9720\n",
      "Epoch 50/50\n",
      "11249/11249 [==============================] - 0s 39us/sample - loss: 0.0415 - acc: 0.9873 - val_loss: 0.1345 - val_acc: 0.9707\n"
     ]
    },
    {
     "data": {
      "text/plain": [
       "<tensorflow.python.keras.callbacks.History at 0x184ebbf5d30>"
      ]
     },
     "execution_count": 156,
     "metadata": {},
     "output_type": "execute_result"
    }
   ],
   "source": [
    "model_hr.fit(trainX,trainY,batch_size=100,epochs= 50,validation_data=(testX,testY))"
   ]
  },
  {
   "cell_type": "code",
   "execution_count": null,
   "metadata": {},
   "outputs": [],
   "source": []
  }
 ],
 "metadata": {
  "kernelspec": {
   "display_name": "Python 3",
   "language": "python",
   "name": "python3"
  },
  "language_info": {
   "codemirror_mode": {
    "name": "ipython",
    "version": 3
   },
   "file_extension": ".py",
   "mimetype": "text/x-python",
   "name": "python",
   "nbconvert_exporter": "python",
   "pygments_lexer": "ipython3",
   "version": "3.6.8"
  }
 },
 "nbformat": 4,
 "nbformat_minor": 2
}
