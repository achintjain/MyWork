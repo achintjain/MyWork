{
 "cells": [
  {
   "cell_type": "markdown",
   "metadata": {},
   "source": [
    "# Neural Networkin Tensorflow"
   ]
  },
  {
   "cell_type": "code",
   "execution_count": 1,
   "metadata": {},
   "outputs": [],
   "source": [
    "import tensorflow as tf;\n",
    "import sklearn.datasets;\n",
    "iris_ds = sklearn.datasets.load_iris(return_X_y=False)\n",
    "import pandas as pd"
   ]
  },
  {
   "cell_type": "code",
   "execution_count": 2,
   "metadata": {},
   "outputs": [
    {
     "data": {
      "text/plain": [
       "array([0, 0, 0, 0, 0, 0, 0, 0, 0, 0, 0, 0, 0, 0, 0, 0, 0, 0, 0, 0, 0, 0,\n",
       "       0, 0, 0, 0, 0, 0, 0, 0, 0, 0, 0, 0, 0, 0, 0, 0, 0, 0, 0, 0, 0, 0,\n",
       "       0, 0, 0, 0, 0, 0, 1, 1, 1, 1, 1, 1, 1, 1, 1, 1, 1, 1, 1, 1, 1, 1,\n",
       "       1, 1, 1, 1, 1, 1, 1, 1, 1, 1, 1, 1, 1, 1, 1, 1, 1, 1, 1, 1, 1, 1,\n",
       "       1, 1, 1, 1, 1, 1, 1, 1, 1, 1, 1, 1, 2, 2, 2, 2, 2, 2, 2, 2, 2, 2,\n",
       "       2, 2, 2, 2, 2, 2, 2, 2, 2, 2, 2, 2, 2, 2, 2, 2, 2, 2, 2, 2, 2, 2,\n",
       "       2, 2, 2, 2, 2, 2, 2, 2, 2, 2, 2, 2, 2, 2, 2, 2, 2, 2])"
      ]
     },
     "execution_count": 2,
     "metadata": {},
     "output_type": "execute_result"
    }
   ],
   "source": [
    "iris_ds.target"
   ]
  },
  {
   "cell_type": "code",
   "execution_count": 3,
   "metadata": {},
   "outputs": [],
   "source": [
    "import numpy as np\n",
    "iris_data = pd.DataFrame(data=iris_ds.data,columns=iris_ds.feature_names)"
   ]
  },
  {
   "cell_type": "code",
   "execution_count": 4,
   "metadata": {},
   "outputs": [
    {
     "data": {
      "text/html": [
       "<div>\n",
       "<style scoped>\n",
       "    .dataframe tbody tr th:only-of-type {\n",
       "        vertical-align: middle;\n",
       "    }\n",
       "\n",
       "    .dataframe tbody tr th {\n",
       "        vertical-align: top;\n",
       "    }\n",
       "\n",
       "    .dataframe thead th {\n",
       "        text-align: right;\n",
       "    }\n",
       "</style>\n",
       "<table border=\"1\" class=\"dataframe\">\n",
       "  <thead>\n",
       "    <tr style=\"text-align: right;\">\n",
       "      <th></th>\n",
       "      <th>sepal length (cm)</th>\n",
       "      <th>sepal width (cm)</th>\n",
       "      <th>petal length (cm)</th>\n",
       "      <th>petal width (cm)</th>\n",
       "    </tr>\n",
       "  </thead>\n",
       "  <tbody>\n",
       "    <tr>\n",
       "      <th>0</th>\n",
       "      <td>5.1</td>\n",
       "      <td>3.5</td>\n",
       "      <td>1.4</td>\n",
       "      <td>0.2</td>\n",
       "    </tr>\n",
       "    <tr>\n",
       "      <th>1</th>\n",
       "      <td>4.9</td>\n",
       "      <td>3.0</td>\n",
       "      <td>1.4</td>\n",
       "      <td>0.2</td>\n",
       "    </tr>\n",
       "    <tr>\n",
       "      <th>2</th>\n",
       "      <td>4.7</td>\n",
       "      <td>3.2</td>\n",
       "      <td>1.3</td>\n",
       "      <td>0.2</td>\n",
       "    </tr>\n",
       "    <tr>\n",
       "      <th>3</th>\n",
       "      <td>4.6</td>\n",
       "      <td>3.1</td>\n",
       "      <td>1.5</td>\n",
       "      <td>0.2</td>\n",
       "    </tr>\n",
       "    <tr>\n",
       "      <th>4</th>\n",
       "      <td>5.0</td>\n",
       "      <td>3.6</td>\n",
       "      <td>1.4</td>\n",
       "      <td>0.2</td>\n",
       "    </tr>\n",
       "  </tbody>\n",
       "</table>\n",
       "</div>"
      ],
      "text/plain": [
       "   sepal length (cm)  sepal width (cm)  petal length (cm)  petal width (cm)\n",
       "0                5.1               3.5                1.4               0.2\n",
       "1                4.9               3.0                1.4               0.2\n",
       "2                4.7               3.2                1.3               0.2\n",
       "3                4.6               3.1                1.5               0.2\n",
       "4                5.0               3.6                1.4               0.2"
      ]
     },
     "execution_count": 4,
     "metadata": {},
     "output_type": "execute_result"
    }
   ],
   "source": [
    "iris_data.head()"
   ]
  },
  {
   "cell_type": "code",
   "execution_count": 5,
   "metadata": {},
   "outputs": [],
   "source": [
    "from sklearn.model_selection import train_test_split"
   ]
  },
  {
   "cell_type": "code",
   "execution_count": 6,
   "metadata": {},
   "outputs": [],
   "source": [
    "import sklearn;\n",
    "min_max_scaler = sklearn.preprocessing.MinMaxScaler()\n",
    "scaled_data = min_max_scaler.fit_transform(iris_data)\n"
   ]
  },
  {
   "cell_type": "code",
   "execution_count": 7,
   "metadata": {},
   "outputs": [
    {
     "name": "stderr",
     "output_type": "stream",
     "text": [
      "C:\\Users\\achintj\\Anaconda3\\lib\\site-packages\\sklearn\\preprocessing\\_encoders.py:331: DeprecationWarning: Passing 'n_values' is deprecated in version 0.20 and will be removed in 0.22. You can use the 'categories' keyword instead. 'n_values=n' corresponds to 'categories=[range(n)]'.\n",
      "  warnings.warn(msg, DeprecationWarning)\n"
     ]
    }
   ],
   "source": [
    "from sklearn.preprocessing import OneHotEncoder\n",
    "encoder = OneHotEncoder(3)\n",
    "label = encoder.fit_transform(iris_ds.target.reshape(-1,1))\n",
    "label = label.todense()"
   ]
  },
  {
   "cell_type": "code",
   "execution_count": 8,
   "metadata": {},
   "outputs": [],
   "source": [
    "\n",
    "trainx,testx,trainy,testy = train_test_split(scaled_data,label)"
   ]
  },
  {
   "cell_type": "code",
   "execution_count": 9,
   "metadata": {},
   "outputs": [
    {
     "name": "stdout",
     "output_type": "stream",
     "text": [
      "(112, 4)\n"
     ]
    }
   ],
   "source": [
    "print (trainx.shape)"
   ]
  },
  {
   "cell_type": "markdown",
   "metadata": {},
   "source": [
    "#### Building a model in Tensorflow"
   ]
  },
  {
   "cell_type": "code",
   "execution_count": 10,
   "metadata": {},
   "outputs": [
    {
     "name": "stdout",
     "output_type": "stream",
     "text": [
      "WARNING:tensorflow:From C:\\Users\\achintj\\Anaconda3\\lib\\site-packages\\tensorflow\\python\\framework\\op_def_library.py:263: colocate_with (from tensorflow.python.framework.ops) is deprecated and will be removed in a future version.\n",
      "Instructions for updating:\n",
      "Colocations handled automatically by placer.\n"
     ]
    }
   ],
   "source": [
    "import tensorflow as tf;\n",
    "x = tf.placeholder(tf.float32, shape=[None,4])\n",
    "y = tf.placeholder(tf.float32, shape=[None,3])\n",
    "w1 = tf.get_variable(name='w1',dtype=tf.float32,shape=[5,4])\n",
    "w2 = tf.get_variable(name='w2',dtype=tf.float32,shape=(3,5))\n",
    "b1 = tf.get_variable(name='b1',dtype=tf.float32,shape=(5,1))\n",
    "b2 = tf.get_variable(name='b2',dtype=tf.float32,shape=(3,1))"
   ]
  },
  {
   "cell_type": "code",
   "execution_count": 11,
   "metadata": {},
   "outputs": [],
   "source": [
    "from tensorflow.keras import layers\n",
    "\n",
    "def build_model(x):\n",
    "    y1 = layers.Dense(units=5,activation=tf.nn.relu, input_shape=(None,4))(x)\n",
    "    print (y1.shape)\n",
    "    y2 = layers.Dense(units=3,activation=tf.nn.softmax,input_shape=(None,5))(y1)\n",
    "    print (y2.shape)\n",
    "    return y2"
   ]
  },
  {
   "cell_type": "code",
   "execution_count": null,
   "metadata": {},
   "outputs": [],
   "source": []
  },
  {
   "cell_type": "code",
   "execution_count": 12,
   "metadata": {},
   "outputs": [
    {
     "name": "stdout",
     "output_type": "stream",
     "text": [
      "(?, 5)\n",
      "(?, 3)\n"
     ]
    }
   ],
   "source": [
    "# Applying build_model\n",
    "\n",
    "y_hat = build_model(x)"
   ]
  },
  {
   "cell_type": "code",
   "execution_count": 13,
   "metadata": {},
   "outputs": [],
   "source": [
    "accuracy = tf.reduce_mean(tf.cast(tf.equal(tf.argmax(y,1),tf.argmax(y_hat,1)),tf.float64))"
   ]
  },
  {
   "cell_type": "code",
   "execution_count": 14,
   "metadata": {},
   "outputs": [
    {
     "name": "stdout",
     "output_type": "stream",
     "text": [
      "WARNING:tensorflow:From C:\\Users\\achintj\\Anaconda3\\lib\\site-packages\\tensorflow\\python\\ops\\losses\\losses_impl.py:209: to_float (from tensorflow.python.ops.math_ops) is deprecated and will be removed in a future version.\n",
      "Instructions for updating:\n",
      "Use tf.cast instead.\n"
     ]
    }
   ],
   "source": [
    "entropy_loss = tf.losses.softmax_cross_entropy(logits=y_hat,onehot_labels=y)\n",
    "optimizer = tf.train.AdamOptimizer().minimize(entropy_loss)"
   ]
  },
  {
   "cell_type": "code",
   "execution_count": 15,
   "metadata": {},
   "outputs": [
    {
     "name": "stdout",
     "output_type": "stream",
     "text": [
      "loss=1.0370526,accuracy=0.3157894736842105\n",
      "loss=0.91069996,accuracy=0.6842105263157895\n",
      "loss=0.7555696,accuracy=0.6842105263157895\n",
      "loss=0.67397135,accuracy=0.6842105263157895\n",
      "loss=0.65404314,accuracy=0.6842105263157895\n",
      "loss=0.6545435,accuracy=0.6842105263157895\n",
      "loss=0.67155784,accuracy=0.7368421052631579\n",
      "loss=0.6933922,accuracy=0.8947368421052632\n",
      "loss=0.7003479,accuracy=0.9473684210526315\n",
      "loss=0.6962247,accuracy=0.9473684210526315\n",
      "loss=0.6833656,accuracy=0.9736842105263158\n",
      "loss=0.66878974,accuracy=1.0\n",
      "loss=0.6538547,accuracy=1.0\n",
      "loss=0.641133,accuracy=1.0\n",
      "loss=0.6285978,accuracy=1.0\n",
      "loss=0.6184051,accuracy=1.0\n",
      "loss=0.60954237,accuracy=1.0\n",
      "loss=0.6018931,accuracy=1.0\n",
      "loss=0.5954236,accuracy=1.0\n",
      "loss=0.5897686,accuracy=1.0\n",
      "loss=0.58492684,accuracy=1.0\n",
      "loss=0.5807857,accuracy=1.0\n",
      "loss=0.5772403,accuracy=1.0\n",
      "loss=0.57419944,accuracy=1.0\n",
      "loss=0.57159853,accuracy=1.0\n",
      "loss=0.5694149,accuracy=1.0\n",
      "loss=0.56747484,accuracy=1.0\n",
      "loss=0.5658215,accuracy=1.0\n",
      "loss=0.56435233,accuracy=1.0\n",
      "loss=0.5630715,accuracy=1.0\n",
      "loss=0.5619513,accuracy=1.0\n",
      "loss=0.56096834,accuracy=1.0\n",
      "loss=0.5601029,accuracy=1.0\n",
      "loss=0.55933875,accuracy=1.0\n",
      "loss=0.5586618,accuracy=1.0\n",
      "loss=0.5580601,accuracy=1.0\n",
      "loss=0.55752397,accuracy=1.0\n",
      "loss=0.5570446,accuracy=1.0\n",
      "loss=0.556615,accuracy=1.0\n",
      "loss=0.55622876,accuracy=1.0\n",
      "loss=0.5558807,accuracy=1.0\n",
      "loss=0.5555662,accuracy=1.0\n",
      "loss=0.55528134,accuracy=1.0\n",
      "loss=0.55502266,accuracy=1.0\n",
      "loss=0.5547872,accuracy=1.0\n",
      "loss=0.5545725,accuracy=1.0\n",
      "loss=0.55437636,accuracy=1.0\n",
      "loss=0.5541965,accuracy=1.0\n",
      "loss=0.55403197,accuracy=1.0\n",
      "loss=0.5538802,accuracy=1.0\n",
      "loss=0.5537418,accuracy=1.0\n",
      "loss=0.55361277,accuracy=1.0\n",
      "loss=0.5534932,accuracy=1.0\n",
      "loss=0.5533824,accuracy=1.0\n",
      "loss=0.55327934,accuracy=1.0\n",
      "loss=0.5531835,accuracy=1.0\n",
      "loss=0.5530942,accuracy=1.0\n",
      "loss=0.55301064,accuracy=1.0\n",
      "loss=0.5529329,accuracy=1.0\n",
      "loss=0.55286014,accuracy=1.0\n"
     ]
    }
   ],
   "source": [
    "\n",
    "with tf.Session() as sess :\n",
    "    sess.run(tf.global_variables_initializer())\n",
    "    sess.run(tf.local_variables_initializer())\n",
    "    for j in range(300):\n",
    "        for i in range(len(trainx)):\n",
    "            x_val = np.array(trainx[i].reshape(1,-1),dtype=np.float32)\n",
    "            y_val = np.array(trainy[i].reshape(1,-1),dtype=np.float32)\n",
    "            optimizer.run(feed_dict={x:x_val,y:y_val})\n",
    "            _loss, = sess.run([entropy_loss] ,feed_dict={x:x_val,y:y_val})\n",
    "        if(j%5==0):\n",
    "            _acc = sess.run(accuracy,feed_dict={x:testx,y:testy})\n",
    "            print ('loss=%s,accuracy=%s'%(_loss,_acc))"
   ]
  },
  {
   "cell_type": "code",
   "execution_count": null,
   "metadata": {},
   "outputs": [],
   "source": []
  }
 ],
 "metadata": {
  "kernelspec": {
   "display_name": "Python 3",
   "language": "python",
   "name": "python3"
  },
  "language_info": {
   "codemirror_mode": {
    "name": "ipython",
    "version": 3
   },
   "file_extension": ".py",
   "mimetype": "text/x-python",
   "name": "python",
   "nbconvert_exporter": "python",
   "pygments_lexer": "ipython3",
   "version": "3.6.8"
  }
 },
 "nbformat": 4,
 "nbformat_minor": 2
}
