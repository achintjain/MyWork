{
 "cells": [
  {
   "cell_type": "code",
   "execution_count": 2,
   "metadata": {},
   "outputs": [
    {
     "data": {
      "text/plain": [
       "5"
      ]
     },
     "execution_count": 2,
     "metadata": {},
     "output_type": "execute_result"
    }
   ],
   "source": [
    "def parabloid(x,y):\n",
    "    return x*x+y*y\n",
    "\n",
    "parabloid(1,2)"
   ]
  },
  {
   "cell_type": "code",
   "execution_count": 3,
   "metadata": {},
   "outputs": [],
   "source": [
    "x0,y0 = 2,3"
   ]
  },
  {
   "cell_type": "code",
   "execution_count": 4,
   "metadata": {},
   "outputs": [],
   "source": [
    "r = 0.1"
   ]
  },
  {
   "cell_type": "code",
   "execution_count": 6,
   "metadata": {},
   "outputs": [],
   "source": [
    "import matplotlib.pyplot as plt\n",
    "import numpy as np"
   ]
  },
  {
   "cell_type": "code",
   "execution_count": 9,
   "metadata": {},
   "outputs": [],
   "source": [
    "angles = np.arange(0,2*np.pi,0.01)"
   ]
  },
  {
   "cell_type": "code",
   "execution_count": 14,
   "metadata": {},
   "outputs": [
    {
     "name": "stdout",
     "output_type": "stream",
     "text": [
      "0.0 0.41000000000000014\n",
      "0.01 0.4159799001671658\n",
      "0.02 0.4219192026826306\n",
      "0.03 0.42781731362109277\n",
      "0.04 0.43367364317637325\n",
      "0.05 0.43948760572039447\n",
      "0.06 0.44525861986174675\n",
      "0.07 0.45098610850383025\n",
      "0.08 0.4566694989025528\n",
      "0.09 0.4623082227236033\n",
      "0.1 0.4679017160993073\n",
      "0.11 0.4734494196849841\n",
      "0.12 0.4789507787148981\n",
      "0.13 0.4844052430577328\n",
      "0.14 0.48981226727159566\n",
      "0.15 0.49517131065857534\n",
      "0.16 0.500481837318798\n",
      "0.17 0.5057433162040219\n",
      "0.18 0.5109552211707431\n",
      "0.19 0.5161170310328096\n",
      "0.2 0.5212282296135342\n",
      "0.21 0.5262883057973173\n",
      "0.22 0.5312967535807633\n",
      "0.23 0.5362530721232623\n",
      "0.24 0.5411567657970942\n",
      "0.25 0.5460073442369726\n",
      "0.26 0.5508043223890997\n",
      "0.27 0.5555472205596566\n",
      "0.28 0.5602355644627792\n",
      "0.29 0.5648688852679804\n",
      "0.3 0.569446719647047\n",
      "0.31 0.5739686098203514\n",
      "0.32 0.5784341036026461\n",
      "0.33 0.5828427544482775\n",
      "0.34 0.587194121495827\n",
      "0.35000000000000003 0.5914877696122236\n",
      "0.36 0.5957232694362276\n",
      "0.37 0.5999001974213893\n",
      "0.38 0.6040181358783929\n",
      "0.39 0.6080766730168214\n",
      "0.4 0.6120754029863456\n",
      "0.41000000000000003 0.6160139259172972\n",
      "0.42 0.6198918479606661\n",
      "0.43 0.6237087813274815\n",
      "0.44 0.6274643443275831\n",
      "0.45 0.6311581614078072\n",
      "0.46 0.634789863189523\n",
      "0.47000000000000003 0.6383590865055737\n",
      "0.48 0.641865474436603\n",
      "0.49 0.6453086763467439\n",
      "0.5 0.6486883479186698\n",
      "0.51 0.652004151188045\n",
      "0.52 0.6552557545773023\n",
      "0.53 0.658442832928813\n",
      "0.54 0.6615650675373992\n",
      "0.55 0.6646221461821966\n",
      "0.56 0.6676137631578953\n",
      "0.5700000000000001 0.6705396193052913\n",
      "0.58 0.6733994220412001\n",
      "0.59 0.676192885387735\n",
      "0.6 0.6789197300008922\n",
      "0.61 0.6815796831984784\n",
      "0.62 0.6841724789873957\n",
      "0.63 0.6866978580902234\n",
      "0.64 0.6891555679711523\n",
      "0.65 0.6915453628612465\n",
      "0.66 0.693867003783005\n",
      "0.67 0.696120258574279\n",
      "0.68 0.6983049019114507\n",
      "0.6900000000000001 0.7004207153320223\n",
      "0.7000000000000001 0.7024674872564098\n",
      "0.71 0.704445013009126\n",
      "0.72 0.7063530948392405\n",
      "0.73 0.7081915419401685\n",
      "0.74 0.7099601704687224\n",
      "0.75 0.7116588035635303\n",
      "0.76 0.7132872713626917\n",
      "0.77 0.7148454110207911\n",
      "0.78 0.7163330667251575\n",
      "0.79 0.7177500897114601\n",
      "0.8 0.7190963382785789\n",
      "0.81 0.7203716778027829\n",
      "0.8200000000000001 0.721575980751183\n",
      "0.8300000000000001 0.7227091266944843\n",
      "0.84 0.7237710023190367\n",
      "0.85 0.7247615014381701\n",
      "0.86 0.7256805250027902\n",
      "0.87 0.7265279811113068\n",
      "0.88 0.7273037850188153\n",
      "0.89 0.7280078591455723\n",
      "0.9 0.7286401330847578\n",
      "0.91 0.7292005436094957\n",
      "0.92 0.729689034679204\n",
      "0.93 0.7301055574451851\n",
      "0.9400000000000001 0.7304500702555075\n",
      "0.9500000000000001 0.730722538659176\n",
      "0.96 0.7309229354095805\n",
      "0.97 0.7310512404672096\n",
      "0.98 0.7311074410016705\n",
      "0.99 0.7310915313929467\n",
      "1.0 0.7310035132319932\n",
      "1.01 0.7308433953205515\n",
      "1.02 0.7306111936702777\n",
      "1.03 0.7303069315011452\n",
      "1.04 0.7299306392391145\n",
      "1.05 0.7294823545130988\n",
      "1.06 0.7289621221512022\n",
      "1.07 0.728369994176223\n",
      "1.08 0.7277060298004656\n",
      "1.09 0.726970295419811\n",
      "1.1 0.7261628646070921\n",
      "1.11 0.7252838181047103\n",
      "1.12 0.7243332438165861\n",
      "1.1300000000000001 0.7233112367993595\n",
      "1.1400000000000001 0.7222178992528718\n",
      "1.1500000000000001 0.7210533405099753\n",
      "1.16 0.7198176770255706\n",
      "1.17 0.7185110323649724\n",
      "1.18 0.7171335371915646\n",
      "1.19 0.7156853292537129\n",
      "1.2 0.7141665533710064\n",
      "1.21 0.7125773614197648\n",
      "1.22 0.7109179123178571\n",
      "1.23 0.7091883720088212\n",
      "1.24 0.7073889134452358\n",
      "1.25 0.7055197165714606\n",
      "1.26 0.7035809683056264\n",
      "1.27 0.7015728625209441\n",
      "1.28 0.6994956000263173\n",
      "1.29 0.697349388546268\n",
      "1.3 0.6951344427001516\n",
      "1.31 0.6928509839807067\n",
      "1.32 0.6904992407319099\n",
      "1.33 0.6880794481261177\n",
      "1.34 0.6855918481405752\n",
      "1.35 0.6830366895332141\n",
      "1.36 0.6804142278177565\n",
      "1.37 0.6777247252381962\n",
      "1.3800000000000001 0.6749684507425489\n",
      "1.3900000000000001 0.6721456799559675\n",
      "1.4000000000000001 0.6692566951531731\n",
      "1.41 0.6663017852302424\n",
      "1.42 0.6632812456757051\n",
      "1.43 0.6601953785410011\n",
      "1.44 0.6570444924102681\n",
      "1.45 0.6538289023695008\n",
      "1.46 0.6505489299750131\n",
      "1.47 0.6472049032213185\n",
      "1.48 0.6437971565083096\n",
      "1.49 0.640326030607806\n",
      "1.5 0.6367918726295141\n",
      "1.51 0.633195035986283\n",
      "1.52 0.6295358803587803\n",
      "1.53 0.6258147716595222\n",
      "1.54 0.6220320819962737\n",
      "1.55 0.6181881896348518\n",
      "1.56 0.6142834789612834\n",
      "1.57 0.6103183404433921\n",
      "1.58 0.6062931705917194\n",
      "1.59 0.6022083719198967\n",
      "1.6 0.5980643529043874\n",
      "1.61 0.5938615279436394\n",
      "1.62 0.5896003173166449\n",
      "1.6300000000000001 0.58528114714092\n",
      "1.6400000000000001 0.5809044493298785\n",
      "1.6500000000000001 0.5764706615496564\n",
      "1.6600000000000001 0.5719802271753398\n",
      "1.67 0.5674335952466194\n",
      "1.68 0.5628312204229005\n",
      "1.69 0.5581735629378279\n",
      "1.7 0.5534610885532736\n",
      "1.71 0.5486942685127438\n",
      "1.72 0.543873579494278\n",
      "1.73 0.5389995035627528\n",
      "1.74 0.5340725281217011\n",
      "1.75 0.5290931458645645\n",
      "1.76 0.5240618547254172\n",
      "1.77 0.5189791578291842\n",
      "1.78 0.5138455634413148\n",
      "1.79 0.50866158491697\n",
      "1.8 0.5034277406496823\n",
      "1.81 0.49814455401951996\n",
      "1.82 0.4928125533407375\n",
      "1.83 0.4874322718089701\n",
      "1.84 0.4820042474478754\n",
      "1.85 0.4765290230553738\n",
      "1.86 0.4710071461493399\n",
      "1.87 0.4654391689128623\n",
      "1.8800000000000001 0.4598256481390237\n",
      "1.8900000000000001 0.4541671451752247\n",
      "1.9000000000000001 0.44846422586704726\n",
      "1.9100000000000001 0.4427174605016688\n",
      "1.92 0.43692742375083427\n",
      "1.93 0.43109469461339955\n",
      "1.94 0.42521985635741366\n",
      "1.95 0.4193034964618061\n",
      "1.96 0.4133462065576392\n",
      "1.97 0.407348582368936\n",
      "1.98 0.4013112236531171\n",
      "1.99 0.39523473414103094\n",
      "2.0 0.38911972147655405\n",
      "2.0100000000000002 0.38296679715585924\n",
      "2.02 0.3767765764662556\n",
      "2.0300000000000002 0.37054967842465203\n",
      "2.04 0.36428672571566345\n",
      "2.05 0.3579883446293408\n",
      "2.06 0.35165516499854377\n",
      "2.07 0.34528782013595993\n",
      "2.08 0.33888694677076536\n",
      "2.09 0.33245318498497056\n",
      "2.1 0.32598717814938283\n",
      "2.11 0.31948957285930035\n",
      "2.12 0.3129610188698422\n",
      "2.13 0.3064021690309655\n",
      "2.14 0.2998136792221828\n",
      "2.15 0.293196208286993\n",
      "2.16 0.2865504179669678\n",
      "2.17 0.2798769728356003\n",
      "2.18 0.27317654023185156\n",
      "2.19 0.2664497901933913\n",
      "2.2 0.25969739538961534\n",
      "2.21 0.2529200310543853\n",
      "2.22 0.24611837491847943\n",
      "2.23 0.23929310714184915\n",
      "2.24 0.23244491024558123\n",
      "2.25 0.22557446904365897\n",
      "2.2600000000000002 0.218682470574473\n",
      "2.27 0.21176960403213663\n",
      "2.2800000000000002 0.20483656069753486\n",
      "2.29 0.1978840338692276\n",
      "2.3000000000000003 0.19091271879410243\n",
      "2.31 0.18392331259785877\n",
      "2.32 0.1769165142152893\n",
      "2.33 0.16989302432039644\n",
      "2.34 0.1628535452563149\n",
      "2.35 0.1557987809650836\n",
      "2.36 0.14872943691725915\n",
      "2.37 0.14164622004134486\n",
      "2.38 0.1345498386531343\n",
      "2.39 0.1274410023848489\n",
      "2.4 0.1203204221141938\n",
      "2.41 0.11318880989325564\n",
      "2.42 0.10604687887732389\n",
      "2.43 0.09889534325354177\n",
      "2.44 0.09173491816951085\n",
      "2.45 0.08456631966177852\n",
      "2.46 0.07739026458421705\n",
      "2.47 0.07020747053635645\n",
      "2.48 0.06301865579161259\n",
      "2.49 0.05582453922547437\n",
      "2.5 0.04862584024360039\n",
      "2.5100000000000002 0.04142327870988893\n",
      "2.52 0.034217574874494616\n",
      "2.5300000000000002 0.027009449301790056\n",
      "2.54 0.01979962279833103\n",
      "2.5500000000000003 0.012588816340761255\n",
      "2.56 0.00537775100371185\n",
      "2.57 -0.001832852112286787\n",
      "2.58 -0.009042271952935721\n",
      "2.59 -0.016249787582259145\n",
      "2.6 -0.023454678254701378\n",
      "2.61 -0.030656223487193657\n",
      "2.62 -0.03785370313121916\n",
      "2.63 -0.045046397444806985\n",
      "2.64 -0.05223358716452431\n",
      "2.65 -0.0594145535773869\n",
      "2.66 -0.06658857859273226\n",
      "2.67 -0.07375494481404488\n",
      "2.68 -0.08091293561067303\n",
      "2.69 -0.0880618351894995\n",
      "2.7 -0.09520092866652696\n",
      "2.71 -0.10232950213835146\n",
      "2.72 -0.10944684275357375\n",
      "2.73 -0.11655223878405785\n",
      "2.74 -0.12364497969612032\n",
      "2.75 -0.1307243562215863\n",
      "2.7600000000000002 -0.13778966042870167\n",
      "2.77 -0.144840185792928\n",
      "2.7800000000000002 -0.1518752272676096\n",
      "2.79 -0.15889408135446104\n",
      "2.8000000000000003 -0.16589604617391984\n",
      "2.81 -0.17288042153534278\n",
      "2.82 -0.17984650900701205\n",
      "2.83 -0.18679361198598343\n",
      "2.84 -0.19372103576775146\n",
      "2.85 -0.2006280876157085\n",
      "2.86 -0.207514076830428\n",
      "2.87 -0.2143783148187275\n",
      "2.88 -0.2212201151625237\n",
      "2.89 -0.22803879368748525\n",
      "2.9 -0.23483366853144716\n",
      "2.91 -0.2416040602125804\n",
      "2.92 -0.24834929169736242\n",
      "2.93 -0.2550686884682669\n",
      "2.94 -0.2617615785912122\n",
      "2.95 -0.268427292782766\n",
      "2.96 -0.27506516447706275\n",
      "2.97 -0.28167452989246833\n",
      "2.98 -0.2882547280979413\n",
      "2.99 -0.29480510107915414\n",
      "3.0 -0.3013249938042577\n",
      "3.0100000000000002 -0.3078137542894197\n",
      "3.02 -0.3142707336639958\n",
      "3.0300000000000002 -0.3206952862354324\n",
      "3.04 -0.3270867695538229\n",
      "3.0500000000000003 -0.333444544476162\n",
      "3.06 -0.3397679752302558\n",
      "3.0700000000000003 -0.34605642947830084\n",
      "3.08 -0.35230927838011183\n",
      "3.09 -0.35852589665600476\n",
      "3.1 -0.3647056626493388\n",
      "3.11 -0.3708479583886586\n",
      "3.12 -0.3769521696495115\n",
      "3.13 -0.3830176860158616\n",
      "3.14 -0.3890439009411235\n",
      "3.15 -0.3950302118088267\n",
      "3.16 -0.4009760199928696\n",
      "3.17 -0.40688073091739696\n",
      "3.18 -0.412743754116228\n",
      "3.19 -0.4185645032919343\n",
      "3.2 -0.42434239637444904\n",
      "3.21 -0.43007685557927644\n",
      "3.22 -0.43576730746527303\n",
      "3.23 -0.4414131829919974\n",
      "3.24 -0.44701391757659614\n",
      "3.25 -0.4525689511502833\n",
      "3.2600000000000002 -0.45807772821432735\n",
      "3.27 -0.46353969789561233\n",
      "3.2800000000000002 -0.46895431400172427\n",
      "3.29 -0.4743210350755618\n",
      "3.3000000000000003 -0.4796393244494972\n",
      "3.31 -0.48490865029901187\n",
      "3.3200000000000003 -0.49012848569592293\n",
      "3.33 -0.4952983086610345\n",
      "3.34 -0.5004176022163609\n",
      "3.35 -0.505485854436813\n",
      "3.36 -0.5105025585013916\n",
      "3.37 -0.5154672127438715\n",
      "3.38 -0.520379320702963\n",
      "3.39 -0.5252383911719676\n",
      "3.4 -0.5300439382478839\n",
      "3.41 -0.5347954813800122\n",
      "3.42 -0.5394925454179926\n",
      "3.43 -0.5441346606593456\n",
      "3.44 -0.5487213628964067\n",
      "3.45 -0.5532521934627788\n",
      "3.46 -0.5577266992791792\n",
      "3.47 -0.5621444328987586\n",
      "3.48 -0.5665049525518313\n",
      "3.49 -0.5708078221900674\n",
      "3.5 -0.57505261153009\n",
      "3.5100000000000002 -0.579238896096502\n",
      "3.52 -0.5833662572643341\n",
      "3.5300000000000002 -0.5874342823009115\n",
      "3.54 -0.5914425644071191\n",
      "3.5500000000000003 -0.5953907027580847\n",
      "3.56 -0.5992783025432669\n",
      "3.5700000000000003 -0.603104975005925\n",
      "3.58 -0.6068703374820004\n",
      "3.59 -0.6105740134383861\n",
      "3.6 -0.6142156325105699\n",
      "3.61 -0.6177948305396814\n",
      "3.62 -0.621311249608901\n",
      "3.63 -0.6247645380792459\n",
      "3.64 -0.6281543506247562\n",
      "3.65 -0.6314803482669937\n",
      "3.66 -0.6347421984089721\n",
      "3.67 -0.637939574868394\n",
      "3.68 -0.6410721579102727\n",
      "3.69 -0.6441396342789254\n",
      "3.7 -0.6471416972292605\n",
      "3.71 -0.6500780465574874\n",
      "3.72 -0.652948388631124\n",
      "3.73 -0.6557524364183536\n",
      "3.74 -0.6584899095167316\n",
      "3.75 -0.6611605341812279\n",
      "3.7600000000000002 -0.6637640433516125\n",
      "3.77 -0.6663001766791261\n",
      "3.7800000000000002 -0.6687686805525495\n",
      "3.79 -0.6711693081235612\n",
      "3.8000000000000003 -0.6735018193313973\n",
      "3.81 -0.6757659809268848\n",
      "3.8200000000000003 -0.6779615664957497\n",
      "3.83 -0.6800883564812636\n",
      "3.84 -0.6821461382062015\n",
      "3.85 -0.6841347058941025\n",
      "3.86 -0.6860538606898636\n",
      "3.87 -0.6879034106795938\n",
      "3.88 -0.6896831709098414\n",
      "3.89 -0.6913929634060647\n",
      "3.9 -0.6930326171904397\n",
      "3.91 -0.6946019682989544\n",
      "3.92 -0.6961008597978076\n",
      "3.93 -0.6975291417990945\n",
      "3.94 -0.6988866714758082\n",
      "3.95 -0.7001733130761103\n",
      "3.96 -0.7013889379369136\n",
      "3.97 -0.702533424496746\n",
      "3.98 -0.703606658307903\n",
      "3.99 -0.7046085320479047\n",
      "4.0 -0.7055389455302006\n",
      "4.01 -0.7063978057142268\n",
      "4.0200000000000005 -0.7071850267146775\n",
      "4.03 -0.7079005298101091\n",
      "4.04 -0.7085442434508096\n",
      "4.05 -0.7091161032659468\n",
      "4.0600000000000005 -0.7096160520700181\n",
      "4.07 -0.7100440398685635\n",
      "4.08 -0.7104000238631585\n",
      "4.09 -0.7106839684556938\n",
      "4.1 -0.7108958452519527\n",
      "4.11 -0.7110356330644336\n",
      "4.12 -0.7111033179144677\n",
      "4.13 -0.7110988930336255\n",
      "4.14 -0.7110223588643976\n",
      "4.15 -0.7108737230601303\n",
      "4.16 -0.7106530004842835\n",
      "4.17 -0.7103602132089311\n",
      "4.18 -0.7099953905125549\n",
      "4.19 -0.7095585688771227\n",
      "4.2 -0.7090497919844321\n",
      "4.21 -0.70846911071175\n",
      "4.22 -0.7078165831267196\n",
      "4.23 -0.7070922744815533\n",
      "4.24 -0.7062962572065139\n",
      "4.25 -0.7054286109026666\n",
      "4.26 -0.7044894223339178\n",
      "4.2700000000000005 -0.7034787854183389\n",
      "4.28 -0.7023968012187858\n",
      "4.29 -0.7012435779327717\n",
      "4.3 -0.7000192308816615\n",
      "4.3100000000000005 -0.6987238824991486\n",
      "4.32 -0.6973576623189857\n",
      "4.33 -0.6959207069620525\n",
      "4.34 -0.6944131601226875\n",
      "4.3500000000000005 -0.6928351725543234\n",
      "4.36 -0.6911869020543939\n",
      "4.37 -0.6894685134485812\n",
      "4.38 -0.6876801785743112\n",
      "4.39 -0.6858220762635803\n",
      "4.4 -0.6838943923250778\n",
      "4.41 -0.681897319525584\n",
      "4.42 -0.6798310575707163\n",
      "4.43 -0.6776958130849486\n",
      "4.44 -0.6754917995909491\n",
      "4.45 -0.6732192374882349\n",
      "4.46 -0.6708783540311174\n",
      "4.47 -0.6684693833059931\n",
      "4.48 -0.665992566207926\n",
      "4.49 -0.663448150416567\n",
      "4.5 -0.6608363903713688\n",
      "4.51 -0.658157547246164\n",
      "4.5200000000000005 -0.6554118889230303\n",
      "4.53 -0.6525996899655109\n",
      "4.54 -0.6497212315911618\n",
      "4.55 -0.6467768016434157\n",
      "4.5600000000000005 -0.6437666945628209\n",
      "4.57 -0.6406912113575736\n",
      "4.58 -0.6375506595734262\n",
      "4.59 -0.634345353262951\n",
      "4.6000000000000005 -0.6310756129541009\n",
      "4.61 -0.6277417656181825\n",
      "4.62 -0.6243441446371527\n",
      "4.63 -0.6208830897702757\n",
      "4.64 -0.6173589471201577\n",
      "4.65 -0.6137720690981237\n",
      "4.66 -0.6101228143889905\n",
      "4.67 -0.606411547915183\n",
      "4.68 -0.6026386408002598\n",
      "4.69 -0.598804470331789\n",
      "4.7 -0.5949094199236171\n",
      "4.71 -0.5909538790775422\n",
      "4.72 -0.5869382433443562\n",
      "4.73 -0.5828629142842789\n",
      "4.74 -0.5787282994268264\n",
      "4.75 -0.5745348122300378\n",
      "4.76 -0.5702828720391331\n",
      "4.7700000000000005 -0.5659729040445924\n",
      "4.78 -0.561605339239625\n",
      "4.79 -0.5571806143770708\n",
      "4.8 -0.5526991719257239\n",
      "4.8100000000000005 -0.5481614600261029\n",
      "4.82 -0.5435679324456117\n",
      "4.83 -0.5389190485331774\n",
      "4.84 -0.5342152731733236\n",
      "4.8500000000000005 -0.5294570767396625\n",
      "4.86 -0.5246449350478741\n",
      "4.87 -0.5197793293081219\n",
      "4.88 -0.5148607460769128\n",
      "4.89 -0.5098896772084807\n",
      "4.9 -0.5048666198055702\n",
      "4.91 -0.4997920761697312\n",
      "4.92 -0.4946665537510988\n",
      "4.93 -0.48949056509764866\n",
      "4.94 -0.48426462780392754\n",
      "4.95 -0.47898926445931167\n",
      "4.96 -0.4736650025957392\n",
      "4.97 -0.468292374634963\n",
      "4.98 -0.4628719178352956\n",
      "4.99 -0.45740417423790447\n",
      "5.0 -0.4518896906125942\n",
      "5.01 -0.446329018403123\n",
      "5.0200000000000005 -0.44072271367209126\n",
      "5.03 -0.4350713370452901\n",
      "5.04 -0.42937545365567686\n",
      "5.05 -0.4236356330868425\n",
      "5.0600000000000005 -0.4178524493160598\n",
      "5.07 -0.4120264806568912\n",
      "5.08 -0.4061583097013415\n",
      "5.09 -0.40024852326162375\n",
      "5.1000000000000005 -0.3942977123114453\n",
      "5.11 -0.38830647192695267\n",
      "5.12 -0.38227540122719006\n",
      "5.13 -0.37620510331420043\n",
      "5.14 -0.3700961852127129\n",
      "5.15 -0.36394925780945186\n",
      "5.16 -0.35776493579203184\n",
      "5.17 -0.35154383758750285\n",
      "5.18 -0.34528658530050294\n",
      "5.19 -0.33899380465103945\n",
      "5.2 -0.3326661249119418\n",
      "5.21 -0.32630417884590557\n",
      "5.22 -0.3199086026422382\n",
      "5.23 -0.31348003585322637\n",
      "5.24 -0.3070191213301996\n",
      "5.25 -0.30052650515921897\n",
      "5.26 -0.2940028365964942\n",
      "5.2700000000000005 -0.28744876800344343\n",
      "5.28 -0.28086495478146745\n",
      "5.29 -0.27425205530640007\n",
      "5.3 -0.26761073086267473\n",
      "5.3100000000000005 -0.26094164557720667\n",
      "5.32 -0.2542454663529661\n",
      "5.33 -0.2475228628022954\n",
      "5.34 -0.24077450717994253\n",
      "5.3500000000000005 -0.2340010743158487\n",
      "5.36 -0.22720324154765947\n",
      "5.37 -0.22038168865298502\n",
      "5.38 -0.21353709778142793\n",
      "5.39 -0.20667015338637462\n",
      "5.4 -0.19978154215653987\n",
      "5.41 -0.19287195294730353\n",
      "5.42 -0.18594207671183582\n",
      "5.43 -0.17899260643197934\n",
      "5.44 -0.17202423704897463\n",
      "5.45 -0.1650376653939496\n",
      "5.46 -0.1580335901182508\n",
      "5.47 -0.1510127116235669\n",
      "5.48 -0.1439757319918975\n",
      "5.49 -0.13692335491534102\n",
      "5.5 -0.12985628562573126\n",
      "5.51 -0.12277523082410369\n",
      "5.5200000000000005 -0.11568089861003727\n",
      "5.53 -0.10857399841084892\n",
      "5.54 -0.10145524091062619\n",
      "5.55 -0.09432533797919262\n",
      "5.5600000000000005 -0.0871850026008989\n",
      "5.57 -0.08003494880333406\n",
      "5.58 -0.07287589158591246\n",
      "5.59 -0.065708546848402\n",
      "5.6000000000000005 -0.05853363131929079\n",
      "5.61 -0.05135186248416446\n",
      "5.62 -0.044163958513911084\n",
      "5.63 -0.03697063819294755\n",
      "5.64 -0.0297726208473037\n",
      "5.65 -0.022570626272720773\n",
      "5.66 -0.01536537466265031\n",
      "5.67 -0.008157586536253092\n",
      "5.68 -0.0009479826663323365\n",
      "5.69 0.0062627159927295395\n",
      "5.7 0.013473788377080353\n",
      "5.71 0.02068451338548627\n",
      "5.72 0.027894169951460768\n",
      "5.73 0.03510203711535098\n",
      "5.74 0.042307394096447126\n",
      "5.75 0.04950952036505285\n",
      "5.76 0.056707695714550255\n",
      "5.7700000000000005 0.06390120033339741\n",
      "5.78 0.07108931487713122\n",
      "5.79 0.07827132054028318\n",
      "5.8 0.08544649912827218\n",
      "5.8100000000000005 0.09261413312922429\n",
      "5.82 0.0997735057857021\n",
      "5.83 0.10692390116641981\n",
      "5.84 0.11406460423778597\n",
      "5.8500000000000005 0.12119490093544982\n",
      "5.86 0.12831407823568242\n",
      "5.87 0.13542142422668668\n",
      "5.88 0.14251622817978316\n",
      "5.89 0.14959778062049267\n",
      "5.9 0.1566653733994734\n",
      "5.91 0.16371829976333174\n",
      "5.92 0.1707558544253125\n",
      "5.93 0.17777733363581483\n",
      "5.94 0.18478203525276982\n",
      "5.95 0.1917692588118456\n",
      "5.96 0.19873830559651928\n",
      "5.97 0.20568847870791274\n",
      "5.98 0.21261908313450384\n",
      "5.99 0.21952942582163715\n",
      "6.0 0.22641881574079292\n",
      "6.01 0.23328656395872116\n",
      "6.0200000000000005 0.24013198370632693\n",
      "6.03 0.24695439044733725\n",
      "6.04 0.2537531019467636\n",
      "6.05 0.26052743833912473\n",
      "6.0600000000000005 0.2672767221964225\n",
      "6.07 0.2740002785958957\n",
      "6.08 0.28069743518751267\n",
      "6.09 0.28736752226118867\n",
      "6.1000000000000005 0.29400987281377766\n",
      "6.11 0.3006238226157585\n",
      "6.12 0.30720871027766705\n",
      "6.13 0.3137638773162159\n",
      "6.140000000000001 0.3202886682201722\n",
      "6.15 0.32678243051587685\n",
      "6.16 0.3332445148325185\n",
      "6.17 0.3396742749670416\n",
      "6.18 0.3460710679487988\n",
      "6.19 0.35243425410381946\n",
      "6.2 0.35876319711879034\n",
      "6.21 0.3650572641046832\n",
      "6.22 0.3713158256600444\n",
      "6.23 0.3775382559339384\n",
      "6.24 0.38372393268851823\n",
      "6.25 0.3898722373612671\n",
      "6.26 0.3959825551268352\n",
      "6.2700000000000005 0.4020542749585445\n",
      "6.28 0.40808678968946666\n"
     ]
    }
   ],
   "source": [
    "for angle in angles:\n",
    "    x,y = x0+r*np.cos(angle),y0+r*np.sin(angle)\n",
    "    diff = parabloid(x,y)- parabloid(x0,y0)\n",
    "    print(angle,diff)"
   ]
  },
  {
   "cell_type": "code",
   "execution_count": 16,
   "metadata": {},
   "outputs": [
    {
     "data": {
      "text/plain": [
       "1.4909582660763114"
      ]
     },
     "execution_count": 16,
     "metadata": {},
     "output_type": "execute_result"
    }
   ],
   "source": [
    "angle  = 0.98\n",
    "np.tan(angle)"
   ]
  },
  {
   "cell_type": "code",
   "execution_count": 3,
   "metadata": {},
   "outputs": [],
   "source": [
    "x0,y0 = (2,3)"
   ]
  },
  {
   "cell_type": "code",
   "execution_count": 2,
   "metadata": {},
   "outputs": [],
   "source": [
    "def paraboloid(x,y):\n",
    "    return x*x+y*y"
   ]
  },
  {
   "cell_type": "code",
   "execution_count": 5,
   "metadata": {},
   "outputs": [],
   "source": [
    "def gradient(x,y):\n",
    "    return np.array([2*x,2*y])"
   ]
  },
  {
   "cell_type": "code",
   "execution_count": 15,
   "metadata": {},
   "outputs": [],
   "source": [
    "lr = 0.01"
   ]
  },
  {
   "cell_type": "code",
   "execution_count": 46,
   "metadata": {},
   "outputs": [],
   "source": [
    "grad = gradient(x0,y0)"
   ]
  },
  {
   "cell_type": "code",
   "execution_count": 11,
   "metadata": {},
   "outputs": [],
   "source": [
    "newpoint = np.array([x0,y0])"
   ]
  },
  {
   "cell_type": "code",
   "execution_count": 1,
   "metadata": {},
   "outputs": [],
   "source": [
    "def grad_d(x1,y1,gradient):\n",
    "    newpoint = newpoint- lr*gradient(x1,y1)\n",
    "    if np.linalg.norm(gradient(x1,y1)) < 0.1:\n",
    "        return newpoint\n",
    "    return grad_d(newpoint[0],newpoint[1],gradient(x1,y1))"
   ]
  },
  {
   "cell_type": "code",
   "execution_count": 10,
   "metadata": {},
   "outputs": [
    {
     "ename": "UnboundLocalError",
     "evalue": "local variable 'newpoint' referenced before assignment",
     "output_type": "error",
     "traceback": [
      "\u001b[1;31m---------------------------------------------------------------------------\u001b[0m",
      "\u001b[1;31mUnboundLocalError\u001b[0m                         Traceback (most recent call last)",
      "\u001b[1;32m<ipython-input-10-0c3ff9e7bd67>\u001b[0m in \u001b[0;36m<module>\u001b[1;34m\u001b[0m\n\u001b[1;32m----> 1\u001b[1;33m \u001b[0mgrad_d\u001b[0m\u001b[1;33m(\u001b[0m\u001b[0mx0\u001b[0m\u001b[1;33m,\u001b[0m\u001b[0my0\u001b[0m\u001b[1;33m,\u001b[0m\u001b[0mgradient\u001b[0m\u001b[1;33m(\u001b[0m\u001b[0mx0\u001b[0m\u001b[1;33m,\u001b[0m\u001b[0my0\u001b[0m\u001b[1;33m)\u001b[0m\u001b[1;33m)\u001b[0m\u001b[1;33m\u001b[0m\u001b[1;33m\u001b[0m\u001b[0m\n\u001b[0m",
      "\u001b[1;32m<ipython-input-1-ce2cfe4ed6a3>\u001b[0m in \u001b[0;36mgrad_d\u001b[1;34m(x1, y1, gradient)\u001b[0m\n\u001b[0;32m      1\u001b[0m \u001b[1;32mdef\u001b[0m \u001b[0mgrad_d\u001b[0m\u001b[1;33m(\u001b[0m\u001b[0mx1\u001b[0m\u001b[1;33m,\u001b[0m\u001b[0my1\u001b[0m\u001b[1;33m,\u001b[0m\u001b[0mgradient\u001b[0m\u001b[1;33m)\u001b[0m\u001b[1;33m:\u001b[0m\u001b[1;33m\u001b[0m\u001b[1;33m\u001b[0m\u001b[0m\n\u001b[1;32m----> 2\u001b[1;33m     \u001b[0mnewpoint\u001b[0m \u001b[1;33m=\u001b[0m \u001b[0mnewpoint\u001b[0m\u001b[1;33m-\u001b[0m \u001b[0mlr\u001b[0m\u001b[1;33m*\u001b[0m\u001b[0mgradient\u001b[0m\u001b[1;33m(\u001b[0m\u001b[0mx1\u001b[0m\u001b[1;33m,\u001b[0m\u001b[0my1\u001b[0m\u001b[1;33m)\u001b[0m\u001b[1;33m\u001b[0m\u001b[1;33m\u001b[0m\u001b[0m\n\u001b[0m\u001b[0;32m      3\u001b[0m     \u001b[1;32mif\u001b[0m \u001b[0mnp\u001b[0m\u001b[1;33m.\u001b[0m\u001b[0mlinalg\u001b[0m\u001b[1;33m.\u001b[0m\u001b[0mnorm\u001b[0m\u001b[1;33m(\u001b[0m\u001b[0mgradient\u001b[0m\u001b[1;33m(\u001b[0m\u001b[0mx1\u001b[0m\u001b[1;33m,\u001b[0m\u001b[0my1\u001b[0m\u001b[1;33m)\u001b[0m\u001b[1;33m)\u001b[0m \u001b[1;33m<\u001b[0m \u001b[1;36m0.1\u001b[0m\u001b[1;33m:\u001b[0m\u001b[1;33m\u001b[0m\u001b[1;33m\u001b[0m\u001b[0m\n\u001b[0;32m      4\u001b[0m         \u001b[1;32mreturn\u001b[0m \u001b[0mnewpoint\u001b[0m\u001b[1;33m\u001b[0m\u001b[1;33m\u001b[0m\u001b[0m\n\u001b[0;32m      5\u001b[0m     \u001b[1;32mreturn\u001b[0m \u001b[0mgrad_d\u001b[0m\u001b[1;33m(\u001b[0m\u001b[0mnewpoint\u001b[0m\u001b[1;33m[\u001b[0m\u001b[1;36m0\u001b[0m\u001b[1;33m]\u001b[0m\u001b[1;33m,\u001b[0m\u001b[0mnewpoint\u001b[0m\u001b[1;33m[\u001b[0m\u001b[1;36m1\u001b[0m\u001b[1;33m]\u001b[0m\u001b[1;33m,\u001b[0m\u001b[0mgradient\u001b[0m\u001b[1;33m(\u001b[0m\u001b[0mx1\u001b[0m\u001b[1;33m,\u001b[0m\u001b[0my1\u001b[0m\u001b[1;33m)\u001b[0m\u001b[1;33m)\u001b[0m\u001b[1;33m\u001b[0m\u001b[1;33m\u001b[0m\u001b[0m\n",
      "\u001b[1;31mUnboundLocalError\u001b[0m: local variable 'newpoint' referenced before assignment"
     ]
    }
   ],
   "source": [
    "grad_d(x0,y0,gradient(x0,y0))"
   ]
  },
  {
   "cell_type": "code",
   "execution_count": 17,
   "metadata": {},
   "outputs": [],
   "source": [
    "pt = [5,3]"
   ]
  },
  {
   "cell_type": "code",
   "execution_count": 7,
   "metadata": {},
   "outputs": [],
   "source": [
    "import numpy as np"
   ]
  },
  {
   "cell_type": "code",
   "execution_count": 19,
   "metadata": {},
   "outputs": [],
   "source": [
    "def des(pt):\n",
    "    while(True):\n",
    "        grad = gradient(pt[0],pt[1])\n",
    "        pt = pt - lr*grad\n",
    "#         print(pt)\n",
    "        if(np.linalg.norm(grad)< 0.01):\n",
    "            return pt"
   ]
  },
  {
   "cell_type": "code",
   "execution_count": 20,
   "metadata": {},
   "outputs": [
    {
     "data": {
      "text/plain": [
       "array([0.0041622 , 0.00249732])"
      ]
     },
     "execution_count": 20,
     "metadata": {},
     "output_type": "execute_result"
    }
   ],
   "source": [
    "des(pt)"
   ]
  },
  {
   "cell_type": "code",
   "execution_count": 68,
   "metadata": {},
   "outputs": [],
   "source": [
    "# des with maomt\n",
    "def des_mt(pt,lr,mu):\n",
    "    v = np.array([0,0])\n",
    "    step = 0\n",
    "    pts= []\n",
    "    while(True):\n",
    "        pts.append(pt)\n",
    "        grad = gradient(pt[0],pt[1])\n",
    "        v = mu*v - lr*grad\n",
    "        pt = pt + v\n",
    "#         print(1)\n",
    "        step = step + 1\n",
    "        if(np.linalg.norm(grad)< 0.01):\n",
    "            return pts"
   ]
  },
  {
   "cell_type": "code",
   "execution_count": 118,
   "metadata": {},
   "outputs": [],
   "source": [
    "pts = des_mt(pt,lr = 0.01, mu = 0.9)"
   ]
  },
  {
   "cell_type": "code",
   "execution_count": 119,
   "metadata": {
    "scrolled": true
   },
   "outputs": [],
   "source": [
    "pts = np.array(pts)\n",
    "lp = len(pts)"
   ]
  },
  {
   "cell_type": "code",
   "execution_count": 120,
   "metadata": {},
   "outputs": [
    {
     "data": {
      "text/plain": [
       "<matplotlib.collections.PathCollection at 0x24f540dd4a8>"
      ]
     },
     "execution_count": 120,
     "metadata": {},
     "output_type": "execute_result"
    },
    {
     "data": {
      "image/png": "[encoded data removed]",
      "text/plain": [
       "<Figure size 432x288 with 1 Axes>"
      ]
     },
     "metadata": {
      "needs_background": "light"
     },
     "output_type": "display_data"
    }
   ],
   "source": [
    "import matplotlib.cm as cm\n",
    "plt.scatter(pts[:,0],pts[:,1], c = cm.hot(1-np.arange(lp)/lp), s = 10)"
   ]
  },
  {
   "cell_type": "code",
   "execution_count": 121,
   "metadata": {},
   "outputs": [
    {
     "data": {
      "text/plain": [
       "<mpl_toolkits.mplot3d.art3d.Path3DCollection at 0x24f5414a0f0>"
      ]
     },
     "execution_count": 121,
     "metadata": {},
     "output_type": "execute_result"
    },
    {
     "data": {
      "image/png": "[encoded data removed]",
      "text/plain": [
       "<Figure size 432x288 with 1 Axes>"
      ]
     },
     "metadata": {
      "needs_background": "light"
     },
     "output_type": "display_data"
    }
   ],
   "source": [
    "from mpl_toolkits.mplot3d import Axes3D\n",
    "fig = plt.figure()\n",
    "ax = fig.add_subplot(111, projection='3d')\n",
    "ax.scatter(np.arange(lp),pts[:,0],pts[:,1],c = cm.hot(1-np.arange(lp)/lp))"
   ]
  },
  {
   "cell_type": "code",
   "execution_count": 122,
   "metadata": {},
   "outputs": [],
   "source": [
    "# make linear regression with gradient decent with batch"
   ]
  },
  {
   "cell_type": "code",
   "execution_count": 21,
   "metadata": {},
   "outputs": [],
   "source": [
    "from sklearn.datasets import make_regression"
   ]
  },
  {
   "cell_type": "code",
   "execution_count": 48,
   "metadata": {},
   "outputs": [],
   "source": [
    "X,Y = make_regression(n_samples=100,n_features=1, noise= 10)"
   ]
  },
  {
   "cell_type": "code",
   "execution_count": 43,
   "metadata": {},
   "outputs": [],
   "source": [
    "import matplotlib.pyplot as plt"
   ]
  },
  {
   "cell_type": "code",
   "execution_count": 50,
   "metadata": {},
   "outputs": [
    {
     "data": {
      "text/plain": [
       "<matplotlib.collections.PathCollection at 0x18e9fefacf8>"
      ]
     },
     "execution_count": 50,
     "metadata": {},
     "output_type": "execute_result"
    },
    {
     "data": {
      "image/png": "[encoded data removed]",
      "text/plain": [
       "<Figure size 432x288 with 1 Axes>"
      ]
     },
     "metadata": {
      "needs_background": "light"
     },
     "output_type": "display_data"
    }
   ],
   "source": [
    "plt.scatter(X,Y)"
   ]
  },
  {
   "cell_type": "code",
   "execution_count": 51,
   "metadata": {},
   "outputs": [],
   "source": [
    "m = 0 \n",
    "c = 0"
   ]
  },
  {
   "cell_type": "code",
   "execution_count": 1,
   "metadata": {},
   "outputs": [],
   "source": [
    " import tensorflow as tf"
   ]
  },
  {
   "cell_type": "code",
   "execution_count": 2,
   "metadata": {},
   "outputs": [],
   "source": [
    "a = tf.constant('Hello World')"
   ]
  },
  {
   "cell_type": "code",
   "execution_count": 4,
   "metadata": {},
   "outputs": [
    {
     "data": {
      "text/plain": [
       "<tf.Tensor 'Const:0' shape=() dtype=string>"
      ]
     },
     "execution_count": 4,
     "metadata": {},
     "output_type": "execute_result"
    }
   ],
   "source": [
    "a"
   ]
  },
  {
   "cell_type": "code",
   "execution_count": 5,
   "metadata": {},
   "outputs": [
    {
     "name": "stdout",
     "output_type": "stream",
     "text": [
      "b'Hello World'\n"
     ]
    }
   ],
   "source": [
    "with tf.Session() as sess:\n",
    "    print(sess.run(a))"
   ]
  },
  {
   "cell_type": "code",
   "execution_count": null,
   "metadata": {},
   "outputs": [],
   "source": []
  }
 ],
 "metadata": {
  "kernelspec": {
   "display_name": "Python 3",
   "language": "python",
   "name": "python3"
  },
  "language_info": {
   "codemirror_mode": {
    "name": "ipython",
    "version": 3
   },
   "file_extension": ".py",
   "mimetype": "text/x-python",
   "name": "python",
   "nbconvert_exporter": "python",
   "pygments_lexer": "ipython3",
   "version": "3.6.8"
  }
 },
 "nbformat": 4,
 "nbformat_minor": 2
}
