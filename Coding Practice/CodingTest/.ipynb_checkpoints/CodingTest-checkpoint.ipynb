{
 "cells": [
  {
   "cell_type": "code",
   "execution_count": 1,
   "metadata": {},
   "outputs": [],
   "source": [
    "import pandas as pd\n",
    "import numpy as np"
   ]
  },
  {
   "cell_type": "code",
   "execution_count": 2,
   "metadata": {},
   "outputs": [],
   "source": [
    "data = pd.read_csv(r\"C:\\Users\\achintj\\Documents\\Python Scripts\\CodingTest\\dataSet2.csv\")"
   ]
  },
  {
   "cell_type": "code",
   "execution_count": 3,
   "metadata": {},
   "outputs": [
    {
     "data": {
      "text/html": [
       "<div>\n",
       "<style scoped>\n",
       "    .dataframe tbody tr th:only-of-type {\n",
       "        vertical-align: middle;\n",
       "    }\n",
       "\n",
       "    .dataframe tbody tr th {\n",
       "        vertical-align: top;\n",
       "    }\n",
       "\n",
       "    .dataframe thead th {\n",
       "        text-align: right;\n",
       "    }\n",
       "</style>\n",
       "<table border=\"1\" class=\"dataframe\">\n",
       "  <thead>\n",
       "    <tr style=\"text-align: right;\">\n",
       "      <th></th>\n",
       "      <th>DATE</th>\n",
       "      <th>CUSTOMER_ID</th>\n",
       "      <th>PRODUCT_ID</th>\n",
       "    </tr>\n",
       "  </thead>\n",
       "  <tbody>\n",
       "    <tr>\n",
       "      <th>0</th>\n",
       "      <td>4/1/2012</td>\n",
       "      <td>102-1000764</td>\n",
       "      <td>10822358</td>\n",
       "    </tr>\n",
       "    <tr>\n",
       "      <th>1</th>\n",
       "      <td>4/1/2012</td>\n",
       "      <td>102-1000764</td>\n",
       "      <td>12225805</td>\n",
       "    </tr>\n",
       "    <tr>\n",
       "      <th>2</th>\n",
       "      <td>4/1/2012</td>\n",
       "      <td>102-1000764</td>\n",
       "      <td>12448558</td>\n",
       "    </tr>\n",
       "    <tr>\n",
       "      <th>3</th>\n",
       "      <td>4/1/2012</td>\n",
       "      <td>102-1000764</td>\n",
       "      <td>12558706</td>\n",
       "    </tr>\n",
       "    <tr>\n",
       "      <th>4</th>\n",
       "      <td>4/1/2012</td>\n",
       "      <td>102-1000764</td>\n",
       "      <td>13004112</td>\n",
       "    </tr>\n",
       "  </tbody>\n",
       "</table>\n",
       "</div>"
      ],
      "text/plain": [
       "       DATE  CUSTOMER_ID  PRODUCT_ID\n",
       "0  4/1/2012  102-1000764    10822358\n",
       "1  4/1/2012  102-1000764    12225805\n",
       "2  4/1/2012  102-1000764    12448558\n",
       "3  4/1/2012  102-1000764    12558706\n",
       "4  4/1/2012  102-1000764    13004112"
      ]
     },
     "execution_count": 3,
     "metadata": {},
     "output_type": "execute_result"
    }
   ],
   "source": [
    "data.head()"
   ]
  },
  {
   "cell_type": "code",
   "execution_count": 4,
   "metadata": {},
   "outputs": [
    {
     "name": "stdout",
     "output_type": "stream",
     "text": [
      "<class 'pandas.core.frame.DataFrame'>\n",
      "RangeIndex: 1048575 entries, 0 to 1048574\n",
      "Data columns (total 3 columns):\n",
      "DATE           1048575 non-null object\n",
      "CUSTOMER_ID    1048575 non-null object\n",
      "PRODUCT_ID     1048575 non-null int64\n",
      "dtypes: int64(1), object(2)\n",
      "memory usage: 24.0+ MB\n"
     ]
    }
   ],
   "source": [
    "data.info()"
   ]
  },
  {
   "cell_type": "code",
   "execution_count": 5,
   "metadata": {},
   "outputs": [],
   "source": [
    "transition = data.groupby([\"CUSTOMER_ID\",\"DATE\"])"
   ]
  },
  {
   "cell_type": "code",
   "execution_count": 6,
   "metadata": {},
   "outputs": [
    {
     "data": {
      "text/plain": [
       "0    10822358\n",
       "1    12225805\n",
       "2    12448558\n",
       "3    12558706\n",
       "4    13004112\n",
       "5    13017369\n",
       "Name: PRODUCT_ID, dtype: int64"
      ]
     },
     "execution_count": 6,
     "metadata": {},
     "output_type": "execute_result"
    }
   ],
   "source": [
    "transition.get_group(('102-1000764','4/1/2012'))[\"PRODUCT_ID\"]"
   ]
  },
  {
   "cell_type": "code",
   "execution_count": 20,
   "metadata": {},
   "outputs": [
    {
     "data": {
      "text/plain": [
       "6"
      ]
     },
     "execution_count": 20,
     "metadata": {},
     "output_type": "execute_result"
    }
   ],
   "source": [
    "transition.get_group(('102-1000764','4/1/2012'))[\"PRODUCT_ID\"].count()"
   ]
  },
  {
   "cell_type": "code",
   "execution_count": 7,
   "metadata": {},
   "outputs": [
    {
     "name": "stdout",
     "output_type": "stream",
     "text": [
      "Total Transitions by all customers = 193913\n"
     ]
    }
   ],
   "source": [
    "total_transitions = len(transition)\n",
    "print(\"Total Transitions by all customers =\",total_transitions)"
   ]
  },
  {
   "cell_type": "code",
   "execution_count": 8,
   "metadata": {},
   "outputs": [],
   "source": [
    "# tuple(transition.get_group(('102-1000764','4/1/2012'))[\"PRODUCT_ID\"])"
   ]
  },
  {
   "cell_type": "code",
   "execution_count": 112,
   "metadata": {},
   "outputs": [],
   "source": [
    "# transition_product_list = (tuple(transition.get_group(name)[\"PRODUCT_ID\"]) for name,groups in transition)"
   ]
  },
  {
   "cell_type": "code",
   "execution_count": 23,
   "metadata": {},
   "outputs": [],
   "source": [
    "transition_product_list = np.array([tuple(transition.get_group(name)[\"PRODUCT_ID\"]) for name,groups in transition])"
   ]
  },
  {
   "cell_type": "code",
   "execution_count": 24,
   "metadata": {},
   "outputs": [
    {
     "data": {
      "text/plain": [
       "((10822358, 12225805, 12448558),\n",
       " (12225805, 12448558, 12558706),\n",
       " (12448558, 12558706, 13004112),\n",
       " (12558706, 13004112, 13017369))"
      ]
     },
     "execution_count": 24,
     "metadata": {},
     "output_type": "execute_result"
    }
   ],
   "source": [
    "def displaysublist(masterlist,n):\n",
    "    subcatcher = [] \n",
    "    for i in range(0,len(masterlist) + 1):   \n",
    "        for j in range(i + 1, len(masterlist) + 1):         \n",
    "            sub = masterlist[i:j]\n",
    "            if len(sub) == n:\n",
    "                subcatcher.append(sub) \n",
    "    return tuple(subcatcher)\n",
    "\n",
    "displaysublist(tuple(transition.get_group(('102-1000764','4/1/2012'))[\"PRODUCT_ID\"]),3)"
   ]
  },
  {
   "cell_type": "code",
   "execution_count": 25,
   "metadata": {},
   "outputs": [
    {
     "data": {
      "text/plain": [
       "(10822358, 12225805, 12448558, 12558706, 13004112, 13017369)"
      ]
     },
     "execution_count": 25,
     "metadata": {},
     "output_type": "execute_result"
    }
   ],
   "source": [
    "tuple(transition.get_group(('102-1000764','4/1/2012'))[\"PRODUCT_ID\"])"
   ]
  },
  {
   "cell_type": "code",
   "execution_count": 27,
   "metadata": {},
   "outputs": [
    {
     "data": {
      "text/plain": [
       "0.0008612109554284654"
      ]
     },
     "execution_count": 27,
     "metadata": {},
     "output_type": "execute_result"
    }
   ],
   "source": [
    "def support(itemset):\n",
    "    itemset_count = 0\n",
    "    for items in transition_product_list:\n",
    "        if all(elem in items for elem in itemset):\n",
    "            itemset_count += 1\n",
    "    return itemset_count/total_transitions\n",
    "\n",
    "support((12225805, ))"
   ]
  },
  {
   "cell_type": "code",
   "execution_count": 18,
   "metadata": {},
   "outputs": [
    {
     "name": "stdout",
     "output_type": "stream",
     "text": [
      "1 / 193913\n",
      "2 / 193913\n",
      "3 / 193913\n",
      "4 / 193913\n",
      "5 / 193913\n",
      "6 / 193913\n",
      "7 / 193913\n",
      "8 / 193913\n",
      "9 / 193913\n",
      "10 / 193913\n",
      "11 / 193913\n",
      "12 / 193913\n",
      "13 / 193913\n",
      "14 / 193913\n",
      "15 / 193913\n",
      "16 / 193913\n",
      "17 / 193913\n",
      "18 / 193913\n",
      "19 / 193913\n",
      "20 / 193913\n",
      "21 / 193913\n",
      "22 / 193913\n",
      "23 / 193913\n",
      "24 / 193913\n",
      "25 / 193913\n",
      "26 / 193913\n",
      "27 / 193913\n",
      "28 / 193913\n",
      "29 / 193913\n",
      "30 / 193913\n",
      "31 / 193913\n",
      "32 / 193913\n",
      "33 / 193913\n",
      "34 / 193913\n",
      "35 / 193913\n",
      "36 / 193913\n",
      "37 / 193913\n",
      "38 / 193913\n",
      "39 / 193913\n",
      "40 / 193913\n",
      "41 / 193913\n",
      "42 / 193913\n",
      "43 / 193913\n",
      "44 / 193913\n",
      "45 / 193913\n",
      "46 / 193913\n",
      "47 / 193913\n",
      "48 / 193913\n",
      "49 / 193913\n",
      "0.005920180699592085\n",
      "0.005920180699592085\n",
      "50 / 193913\n",
      "51 / 193913\n",
      "52 / 193913\n",
      "53 / 193913\n",
      "54 / 193913\n",
      "55 / 193913\n",
      "56 / 193913\n",
      "57 / 193913\n",
      "58 / 193913\n",
      "59 / 193913\n",
      "60 / 193913\n",
      "61 / 193913\n",
      "62 / 193913\n",
      "63 / 193913\n",
      "64 / 193913\n",
      "65 / 193913\n",
      "66 / 193913\n",
      "67 / 193913\n",
      "68 / 193913\n",
      "69 / 193913\n",
      "70 / 193913\n",
      "71 / 193913\n",
      "72 / 193913\n",
      "73 / 193913\n",
      "74 / 193913\n",
      "75 / 193913\n",
      "76 / 193913\n",
      "77 / 193913\n",
      "78 / 193913\n",
      "79 / 193913\n",
      "80 / 193913\n",
      "81 / 193913\n",
      "82 / 193913\n",
      "83 / 193913\n",
      "84 / 193913\n",
      "85 / 193913\n",
      "86 / 193913\n",
      "87 / 193913\n",
      "88 / 193913\n",
      "89 / 193913\n",
      "90 / 193913\n",
      "0.018786775512729937\n",
      "0.018786775512729937\n",
      "91 / 193913\n",
      "92 / 193913\n",
      "93 / 193913\n",
      "94 / 193913\n",
      "95 / 193913\n",
      "96 / 193913\n",
      "97 / 193913\n",
      "98 / 193913\n",
      "99 / 193913\n",
      "100 / 193913\n",
      "101 / 193913\n",
      "102 / 193913\n",
      "103 / 193913\n",
      "104 / 193913\n",
      "105 / 193913\n",
      "106 / 193913\n",
      "107 / 193913\n",
      "108 / 193913\n",
      "109 / 193913\n",
      "110 / 193913\n",
      "0.00556435102339709\n",
      "111 / 193913\n",
      "112 / 193913\n",
      "113 / 193913\n",
      "114 / 193913\n",
      "115 / 193913\n",
      "116 / 193913\n",
      "117 / 193913\n",
      "118 / 193913\n",
      "119 / 193913\n",
      "120 / 193913\n",
      "121 / 193913\n",
      "122 / 193913\n",
      "123 / 193913\n",
      "124 / 193913\n",
      "125 / 193913\n",
      "126 / 193913\n",
      "127 / 193913\n",
      "128 / 193913\n",
      "129 / 193913\n",
      "0.008854486290243564\n",
      "130 / 193913\n",
      "131 / 193913\n",
      "132 / 193913\n",
      "133 / 193913\n",
      "134 / 193913\n",
      "135 / 193913\n",
      "136 / 193913\n",
      "137 / 193913\n",
      "138 / 193913\n",
      "139 / 193913\n",
      "140 / 193913\n",
      "141 / 193913\n",
      "142 / 193913\n",
      "143 / 193913\n",
      "144 / 193913\n",
      "145 / 193913\n",
      "146 / 193913\n",
      "147 / 193913\n",
      "148 / 193913\n",
      "149 / 193913\n",
      "150 / 193913\n",
      "151 / 193913\n",
      "152 / 193913\n",
      "153 / 193913\n",
      "154 / 193913\n",
      "155 / 193913\n",
      "156 / 193913\n",
      "157 / 193913\n",
      "158 / 193913\n",
      "159 / 193913\n",
      "160 / 193913\n",
      "161 / 193913\n",
      "162 / 193913\n",
      "163 / 193913\n",
      "164 / 193913\n"
     ]
    },
    {
     "ename": "KeyboardInterrupt",
     "evalue": "",
     "output_type": "error",
     "traceback": [
      "\u001b[1;31m---------------------------------------------------------------------------\u001b[0m",
      "\u001b[1;31mKeyboardInterrupt\u001b[0m                         Traceback (most recent call last)",
      "\u001b[1;32m<ipython-input-18-feb98d154419>\u001b[0m in \u001b[0;36m<module>\u001b[1;34m\u001b[0m\n\u001b[0;32m     13\u001b[0m     \u001b[1;32mreturn\u001b[0m \u001b[0mprint\u001b[0m\u001b[1;33m(\u001b[0m\u001b[0mtuple\u001b[0m\u001b[1;33m(\u001b[0m\u001b[0mitemsets\u001b[0m\u001b[1;33m)\u001b[0m\u001b[1;33m)\u001b[0m\u001b[1;33m\u001b[0m\u001b[1;33m\u001b[0m\u001b[0m\n\u001b[0;32m     14\u001b[0m \u001b[1;33m\u001b[0m\u001b[0m\n\u001b[1;32m---> 15\u001b[1;33m \u001b[0mfind_itemsets\u001b[0m\u001b[1;33m(\u001b[0m\u001b[1;36m3\u001b[0m\u001b[1;33m,\u001b[0m\u001b[1;36m0.005\u001b[0m\u001b[1;33m)\u001b[0m\u001b[1;33m\u001b[0m\u001b[1;33m\u001b[0m\u001b[0m\n\u001b[0m",
      "\u001b[1;32m<ipython-input-18-feb98d154419>\u001b[0m in \u001b[0;36mfind_itemsets\u001b[1;34m(n, p)\u001b[0m\n\u001b[0;32m      7\u001b[0m         \u001b[0mprint\u001b[0m\u001b[1;33m(\u001b[0m\u001b[0mcount\u001b[0m\u001b[1;33m,\u001b[0m\u001b[1;34m\"/ 193913\"\u001b[0m\u001b[1;33m)\u001b[0m\u001b[1;33m\u001b[0m\u001b[1;33m\u001b[0m\u001b[0m\n\u001b[0;32m      8\u001b[0m         \u001b[1;32mfor\u001b[0m \u001b[0mfetched\u001b[0m \u001b[1;32min\u001b[0m \u001b[0mtuple\u001b[0m\u001b[1;33m(\u001b[0m\u001b[0mdisplaysublist\u001b[0m\u001b[1;33m(\u001b[0m\u001b[0mitem\u001b[0m\u001b[1;33m,\u001b[0m\u001b[0mn\u001b[0m\u001b[1;33m)\u001b[0m\u001b[1;33m)\u001b[0m\u001b[1;33m:\u001b[0m\u001b[1;33m\u001b[0m\u001b[1;33m\u001b[0m\u001b[0m\n\u001b[1;32m----> 9\u001b[1;33m             \u001b[0mlocal_support\u001b[0m \u001b[1;33m=\u001b[0m \u001b[0msupport\u001b[0m\u001b[1;33m(\u001b[0m\u001b[0mfetched\u001b[0m\u001b[1;33m)\u001b[0m\u001b[1;33m\u001b[0m\u001b[1;33m\u001b[0m\u001b[0m\n\u001b[0m\u001b[0;32m     10\u001b[0m             \u001b[1;32mif\u001b[0m \u001b[0mlocal_support\u001b[0m \u001b[1;33m>=\u001b[0m \u001b[0mp\u001b[0m\u001b[1;33m:\u001b[0m\u001b[1;33m\u001b[0m\u001b[1;33m\u001b[0m\u001b[0m\n\u001b[0;32m     11\u001b[0m                 \u001b[0mitemsets\u001b[0m\u001b[1;33m.\u001b[0m\u001b[0mappend\u001b[0m\u001b[1;33m(\u001b[0m\u001b[1;33m(\u001b[0m\u001b[0mfetched\u001b[0m\u001b[1;33m)\u001b[0m\u001b[1;33m)\u001b[0m\u001b[1;33m\u001b[0m\u001b[1;33m\u001b[0m\u001b[0m\n",
      "\u001b[1;32m<ipython-input-14-35104a6e1260>\u001b[0m in \u001b[0;36msupport\u001b[1;34m(itemset)\u001b[0m\n\u001b[0;32m      1\u001b[0m \u001b[1;32mdef\u001b[0m \u001b[0msupport\u001b[0m\u001b[1;33m(\u001b[0m\u001b[0mitemset\u001b[0m\u001b[1;33m)\u001b[0m\u001b[1;33m:\u001b[0m\u001b[1;33m\u001b[0m\u001b[1;33m\u001b[0m\u001b[0m\n\u001b[0;32m      2\u001b[0m     \u001b[0mitemset_count\u001b[0m \u001b[1;33m=\u001b[0m \u001b[1;36m0\u001b[0m\u001b[1;33m\u001b[0m\u001b[1;33m\u001b[0m\u001b[0m\n\u001b[1;32m----> 3\u001b[1;33m     \u001b[1;32mfor\u001b[0m \u001b[0mitems\u001b[0m \u001b[1;32min\u001b[0m \u001b[0mtransition_product_list\u001b[0m\u001b[1;33m:\u001b[0m\u001b[1;33m\u001b[0m\u001b[1;33m\u001b[0m\u001b[0m\n\u001b[0m\u001b[0;32m      4\u001b[0m         \u001b[1;32mif\u001b[0m \u001b[0mall\u001b[0m\u001b[1;33m(\u001b[0m\u001b[0melem\u001b[0m \u001b[1;32min\u001b[0m \u001b[0mitems\u001b[0m \u001b[1;32mfor\u001b[0m \u001b[0melem\u001b[0m \u001b[1;32min\u001b[0m \u001b[0mitemset\u001b[0m\u001b[1;33m)\u001b[0m\u001b[1;33m:\u001b[0m\u001b[1;33m\u001b[0m\u001b[1;33m\u001b[0m\u001b[0m\n\u001b[0;32m      5\u001b[0m             \u001b[0mitemset_count\u001b[0m \u001b[1;33m+=\u001b[0m \u001b[1;36m1\u001b[0m\u001b[1;33m\u001b[0m\u001b[1;33m\u001b[0m\u001b[0m\n",
      "\u001b[1;31mKeyboardInterrupt\u001b[0m: "
     ]
    }
   ],
   "source": [
    "def find_itemsets(n,p):\n",
    "    itemsets = []\n",
    "    count = 0\n",
    "    for item in transition_product_list:\n",
    "        fetchedset = []\n",
    "        count = count + 1\n",
    "        print(count,\"/ 193913\")\n",
    "        for fetched in tuple(displaysublist(item,n)):\n",
    "            local_support = support(fetched)\n",
    "            if local_support >= p and fetched not in itemsets:\n",
    "                itemsets.append((fetched))\n",
    "                print(local_support)\n",
    "    return print(tuple(itemsets))\n",
    "\n",
    "find_itemsets(3,0.005)"
   ]
  },
  {
   "cell_type": "code",
   "execution_count": 19,
   "metadata": {},
   "outputs": [
    {
     "ename": "NameError",
     "evalue": "name 'itemsets' is not defined",
     "output_type": "error",
     "traceback": [
      "\u001b[1;31m---------------------------------------------------------------------------\u001b[0m",
      "\u001b[1;31mNameError\u001b[0m                                 Traceback (most recent call last)",
      "\u001b[1;32m<ipython-input-19-d52bcc971809>\u001b[0m in \u001b[0;36m<module>\u001b[1;34m\u001b[0m\n\u001b[1;32m----> 1\u001b[1;33m \u001b[0mprint\u001b[0m\u001b[1;33m(\u001b[0m\u001b[0mtuple\u001b[0m\u001b[1;33m(\u001b[0m\u001b[0mitemsets\u001b[0m\u001b[1;33m)\u001b[0m\u001b[1;33m)\u001b[0m\u001b[1;33m\u001b[0m\u001b[1;33m\u001b[0m\u001b[0m\n\u001b[0m",
      "\u001b[1;31mNameError\u001b[0m: name 'itemsets' is not defined"
     ]
    }
   ],
   "source": [
    "print(tuple(itemsets))"
   ]
  },
  {
   "cell_type": "code",
   "execution_count": 69,
   "metadata": {},
   "outputs": [],
   "source": [
    "# t1 = ('123','234','345','456','567')\n",
    "# t2 = ('123','234')"
   ]
  },
  {
   "cell_type": "code",
   "execution_count": null,
   "metadata": {},
   "outputs": [],
   "source": [
    "# if all(elem in t1 for elem in t2):\n",
    "#     print(\"itemset_count\")\n",
    "# else:\n",
    "#     print(\"t2\")"
   ]
  },
  {
   "cell_type": "code",
   "execution_count": null,
   "metadata": {},
   "outputs": [],
   "source": [
    "# for items in transition_product_list:\n",
    "#     print(items)"
   ]
  },
  {
   "cell_type": "code",
   "execution_count": 149,
   "metadata": {},
   "outputs": [],
   "source": [
    "# ix = np.isin(transition_product_list,[(10418216, 11192116)])"
   ]
  },
  {
   "cell_type": "code",
   "execution_count": null,
   "metadata": {},
   "outputs": [],
   "source": [
    "# np.where(ix)"
   ]
  },
  {
   "cell_type": "code",
   "execution_count": null,
   "metadata": {},
   "outputs": [],
   "source": [
    "# for values in transition_product_list:\n",
    "#     print(values)"
   ]
  },
  {
   "cell_type": "code",
   "execution_count": null,
   "metadata": {},
   "outputs": [],
   "source": [
    "tran"
   ]
  }
 ],
 "metadata": {
  "kernelspec": {
   "display_name": "Python 3",
   "language": "python",
   "name": "python3"
  },
  "language_info": {
   "codemirror_mode": {
    "name": "ipython",
    "version": 3
   },
   "file_extension": ".py",
   "mimetype": "text/x-python",
   "name": "python",
   "nbconvert_exporter": "python",
   "pygments_lexer": "ipython3",
   "version": "3.6.8"
  }
 },
 "nbformat": 4,
 "nbformat_minor": 2
}
