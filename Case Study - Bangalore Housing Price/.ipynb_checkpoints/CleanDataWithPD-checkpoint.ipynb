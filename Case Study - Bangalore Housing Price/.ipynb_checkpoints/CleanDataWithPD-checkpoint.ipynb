{
 "cells": [
  {
   "cell_type": "code",
   "execution_count": 98,
   "metadata": {},
   "outputs": [],
   "source": [
    "import numpy as np\n",
    "import pandas as pd\n",
    "import re"
   ]
  },
  {
   "cell_type": "code",
   "execution_count": 99,
   "metadata": {},
   "outputs": [],
   "source": [
    "retext = re.compile(r\"\"\"[0-9]+[ ](BHK)\"\"\")\n",
    "retext_area = re.compile(r\"\"\"^[0-9]+\"\"\")"
   ]
  },
  {
   "cell_type": "code",
   "execution_count": 101,
   "metadata": {},
   "outputs": [
    {
     "data": {
      "text/html": [
       "<div>\n",
       "<style scoped>\n",
       "    .dataframe tbody tr th:only-of-type {\n",
       "        vertical-align: middle;\n",
       "    }\n",
       "\n",
       "    .dataframe tbody tr th {\n",
       "        vertical-align: top;\n",
       "    }\n",
       "\n",
       "    .dataframe thead th {\n",
       "        text-align: right;\n",
       "    }\n",
       "</style>\n",
       "<table border=\"1\" class=\"dataframe\">\n",
       "  <thead>\n",
       "    <tr style=\"text-align: right;\">\n",
       "      <th></th>\n",
       "      <th>Area</th>\n",
       "      <th>Price</th>\n",
       "      <th>Type</th>\n",
       "      <th>Size</th>\n",
       "    </tr>\n",
       "  </thead>\n",
       "  <tbody>\n",
       "    <tr>\n",
       "      <th>0</th>\n",
       "      <td>Devanahalli</td>\n",
       "      <td>1.35 Cr</td>\n",
       "      <td>Residential Plot</td>\n",
       "      <td>2490 sqft</td>\n",
       "    </tr>\n",
       "    <tr>\n",
       "      <th>1</th>\n",
       "      <td>Kanakapura Road</td>\n",
       "      <td>86.9 Lac</td>\n",
       "      <td>3 BHK 1665 Sq-ft Flat</td>\n",
       "      <td>1665 sqft</td>\n",
       "    </tr>\n",
       "    <tr>\n",
       "      <th>2</th>\n",
       "      <td>Hesaraghatta Main Road</td>\n",
       "      <td>52.6 Lac</td>\n",
       "      <td>3 BHK 1210 Sq-ft Flat</td>\n",
       "      <td>1210 sqft</td>\n",
       "    </tr>\n",
       "    <tr>\n",
       "      <th>3</th>\n",
       "      <td>Whitefield</td>\n",
       "      <td>70.0 Lac</td>\n",
       "      <td>2 BHK 1390 Sq-ft Flat</td>\n",
       "      <td>1390 sqft</td>\n",
       "    </tr>\n",
       "    <tr>\n",
       "      <th>4</th>\n",
       "      <td>Sarjapur Road</td>\n",
       "      <td>2.11 Cr</td>\n",
       "      <td>3 BHK Villa</td>\n",
       "      <td>3275 sqft</td>\n",
       "    </tr>\n",
       "  </tbody>\n",
       "</table>\n",
       "</div>"
      ],
      "text/plain": [
       "                     Area     Price                   Type       Size\n",
       "0             Devanahalli   1.35 Cr       Residential Plot  2490 sqft\n",
       "1         Kanakapura Road  86.9 Lac  3 BHK 1665 Sq-ft Flat  1665 sqft\n",
       "2  Hesaraghatta Main Road  52.6 Lac  3 BHK 1210 Sq-ft Flat  1210 sqft\n",
       "3              Whitefield  70.0 Lac  2 BHK 1390 Sq-ft Flat  1390 sqft\n",
       "4           Sarjapur Road   2.11 Cr            3 BHK Villa  3275 sqft"
      ]
     },
     "execution_count": 101,
     "metadata": {},
     "output_type": "execute_result"
    }
   ],
   "source": [
    "rs_data = pd.read_csv(r\"C:\\Users\\Achintj\\Python Code\\Web Scraping\\MBFinal\\BangaloreRealStateData.csv\",encoding = \"latin-1\")\n",
    "rs_data.head()"
   ]
  },
  {
   "cell_type": "code",
   "execution_count": 102,
   "metadata": {},
   "outputs": [
    {
     "name": "stdout",
     "output_type": "stream",
     "text": [
      "<class 'pandas.core.frame.DataFrame'>\n",
      "RangeIndex: 14951 entries, 0 to 14950\n",
      "Data columns (total 4 columns):\n",
      "Area     14920 non-null object\n",
      "Price    14920 non-null object\n",
      "Type     14920 non-null object\n",
      "Size     14920 non-null object\n",
      "dtypes: object(4)\n",
      "memory usage: 467.3+ KB\n"
     ]
    }
   ],
   "source": [
    "rs_data.info()"
   ]
  },
  {
   "cell_type": "code",
   "execution_count": 103,
   "metadata": {},
   "outputs": [
    {
     "data": {
      "text/html": [
       "<div>\n",
       "<style scoped>\n",
       "    .dataframe tbody tr th:only-of-type {\n",
       "        vertical-align: middle;\n",
       "    }\n",
       "\n",
       "    .dataframe tbody tr th {\n",
       "        vertical-align: top;\n",
       "    }\n",
       "\n",
       "    .dataframe thead th {\n",
       "        text-align: right;\n",
       "    }\n",
       "</style>\n",
       "<table border=\"1\" class=\"dataframe\">\n",
       "  <thead>\n",
       "    <tr style=\"text-align: right;\">\n",
       "      <th></th>\n",
       "      <th>Area</th>\n",
       "      <th>Price</th>\n",
       "      <th>Type</th>\n",
       "      <th>Size</th>\n",
       "    </tr>\n",
       "  </thead>\n",
       "  <tbody>\n",
       "    <tr>\n",
       "      <th>count</th>\n",
       "      <td>14920</td>\n",
       "      <td>14920</td>\n",
       "      <td>14920</td>\n",
       "      <td>14920</td>\n",
       "    </tr>\n",
       "    <tr>\n",
       "      <th>unique</th>\n",
       "      <td>1301</td>\n",
       "      <td>1032</td>\n",
       "      <td>4019</td>\n",
       "      <td>1909</td>\n",
       "    </tr>\n",
       "    <tr>\n",
       "      <th>top</th>\n",
       "      <td>Unknown</td>\n",
       "      <td>65.0 Lac</td>\n",
       "      <td>Residential Plot</td>\n",
       "      <td>1200 sqft</td>\n",
       "    </tr>\n",
       "    <tr>\n",
       "      <th>freq</th>\n",
       "      <td>1332</td>\n",
       "      <td>418</td>\n",
       "      <td>3918</td>\n",
       "      <td>1770</td>\n",
       "    </tr>\n",
       "  </tbody>\n",
       "</table>\n",
       "</div>"
      ],
      "text/plain": [
       "           Area     Price              Type       Size\n",
       "count     14920     14920             14920      14920\n",
       "unique     1301      1032              4019       1909\n",
       "top     Unknown  65.0 Lac  Residential Plot  1200 sqft\n",
       "freq       1332       418              3918       1770"
      ]
     },
     "execution_count": 103,
     "metadata": {},
     "output_type": "execute_result"
    }
   ],
   "source": [
    "rs_data.describe()"
   ]
  },
  {
   "cell_type": "code",
   "execution_count": 105,
   "metadata": {},
   "outputs": [
    {
     "name": "stdout",
     "output_type": "stream",
     "text": [
      "<class 'pandas.core.frame.DataFrame'>\n",
      "RangeIndex: 14951 entries, 0 to 14950\n",
      "Data columns (total 4 columns):\n",
      "Area     14951 non-null object\n",
      "Price    14951 non-null object\n",
      "Type     14951 non-null object\n",
      "Size     14951 non-null object\n",
      "dtypes: object(4)\n",
      "memory usage: 467.3+ KB\n"
     ]
    }
   ],
   "source": [
    "rs_data[\"Area\"].fillna( method ='ffill', inplace = True)\n",
    "rs_data[\"Size\"].fillna(method ='ffill', inplace = True)\n",
    "rs_data[\"Price\"].fillna( method ='ffill', inplace = True)\n",
    "rs_data[\"Type\"].fillna( method ='ffill', inplace = True)\n",
    "rs_data.info()"
   ]
  },
  {
   "cell_type": "code",
   "execution_count": 106,
   "metadata": {},
   "outputs": [],
   "source": [
    "def priceconverter(original):\n",
    "    if 'Cr' in original:\n",
    "        r = float(original.strip(' Cr'))\n",
    "        r = r * 10000000\n",
    "        return r\n",
    "    elif 'Lac' in original:\n",
    "        r = float(original.strip(' Lac'))\n",
    "        r = r * 100000\n",
    "        return r\n",
    "    return float(original)\n",
    "\n",
    "def sizeconverter(original):\n",
    "    if 'sqft' in original:\n",
    "        try:\n",
    "            r = int(re.search(retext_area,original).group())\n",
    "        except:\n",
    "            r = int(original)\n",
    "        return r\n",
    "    elif 'sqm' in original:\n",
    "        try:\n",
    "            r = int(re.search(retext_area,original).group())\n",
    "        except:\n",
    "            r = int(original)\n",
    "        r = r * 3.28084\n",
    "        return r\n",
    "    elif 'sqyrd' in original:\n",
    "        try:\n",
    "            r = int(re.search(retext_area,original).group())\n",
    "        except:\n",
    "            r = int(original)\n",
    "        r = r * 3\n",
    "        return r\n",
    "    else:\n",
    "        try:\n",
    "            r = re.search(retext_area,original).group()\n",
    "        except:\n",
    "            r = 0\n",
    "        return int(r)\n",
    "\n",
    "def housetype(original):\n",
    "    try:\n",
    "        r = re.search(retext,original).group()\n",
    "    except:\n",
    "        r = original\n",
    "    return r"
   ]
  },
  {
   "cell_type": "code",
   "execution_count": 107,
   "metadata": {},
   "outputs": [],
   "source": [
    "rs_data['Price'] = rs_data['Price'].apply(priceconverter)\n",
    "rs_data['Size'] = rs_data['Size'].apply(sizeconverter)\n",
    "rs_data['Type']= rs_data['Type'].apply(housetype)"
   ]
  },
  {
   "cell_type": "code",
   "execution_count": 108,
   "metadata": {},
   "outputs": [
    {
     "data": {
      "text/html": [
       "<div>\n",
       "<style scoped>\n",
       "    .dataframe tbody tr th:only-of-type {\n",
       "        vertical-align: middle;\n",
       "    }\n",
       "\n",
       "    .dataframe tbody tr th {\n",
       "        vertical-align: top;\n",
       "    }\n",
       "\n",
       "    .dataframe thead th {\n",
       "        text-align: right;\n",
       "    }\n",
       "</style>\n",
       "<table border=\"1\" class=\"dataframe\">\n",
       "  <thead>\n",
       "    <tr style=\"text-align: right;\">\n",
       "      <th></th>\n",
       "      <th>Area</th>\n",
       "      <th>Price</th>\n",
       "      <th>Type</th>\n",
       "      <th>Size</th>\n",
       "    </tr>\n",
       "  </thead>\n",
       "  <tbody>\n",
       "    <tr>\n",
       "      <th>0</th>\n",
       "      <td>Devanahalli</td>\n",
       "      <td>13500000.0</td>\n",
       "      <td>Residential Plot</td>\n",
       "      <td>2490.0</td>\n",
       "    </tr>\n",
       "    <tr>\n",
       "      <th>1</th>\n",
       "      <td>Kanakapura Road</td>\n",
       "      <td>8690000.0</td>\n",
       "      <td>3 BHK</td>\n",
       "      <td>1665.0</td>\n",
       "    </tr>\n",
       "    <tr>\n",
       "      <th>2</th>\n",
       "      <td>Hesaraghatta Main Road</td>\n",
       "      <td>5260000.0</td>\n",
       "      <td>3 BHK</td>\n",
       "      <td>1210.0</td>\n",
       "    </tr>\n",
       "    <tr>\n",
       "      <th>3</th>\n",
       "      <td>Whitefield</td>\n",
       "      <td>7000000.0</td>\n",
       "      <td>2 BHK</td>\n",
       "      <td>1390.0</td>\n",
       "    </tr>\n",
       "    <tr>\n",
       "      <th>4</th>\n",
       "      <td>Sarjapur Road</td>\n",
       "      <td>21100000.0</td>\n",
       "      <td>3 BHK</td>\n",
       "      <td>3275.0</td>\n",
       "    </tr>\n",
       "  </tbody>\n",
       "</table>\n",
       "</div>"
      ],
      "text/plain": [
       "                     Area       Price              Type    Size\n",
       "0             Devanahalli  13500000.0  Residential Plot  2490.0\n",
       "1         Kanakapura Road   8690000.0             3 BHK  1665.0\n",
       "2  Hesaraghatta Main Road   5260000.0             3 BHK  1210.0\n",
       "3              Whitefield   7000000.0             2 BHK  1390.0\n",
       "4           Sarjapur Road  21100000.0             3 BHK  3275.0"
      ]
     },
     "execution_count": 108,
     "metadata": {},
     "output_type": "execute_result"
    }
   ],
   "source": [
    "rs_data.head()"
   ]
  },
  {
   "cell_type": "code",
   "execution_count": 109,
   "metadata": {},
   "outputs": [
    {
     "name": "stdout",
     "output_type": "stream",
     "text": [
      "<class 'pandas.core.frame.DataFrame'>\n",
      "RangeIndex: 14951 entries, 0 to 14950\n",
      "Data columns (total 4 columns):\n",
      "Area     14951 non-null object\n",
      "Price    14951 non-null float64\n",
      "Type     14951 non-null object\n",
      "Size     14951 non-null float64\n",
      "dtypes: float64(2), object(2)\n",
      "memory usage: 467.3+ KB\n"
     ]
    }
   ],
   "source": [
    "rs_data.info()"
   ]
  },
  {
   "cell_type": "code",
   "execution_count": 110,
   "metadata": {},
   "outputs": [
    {
     "data": {
      "text/plain": [
       "2 BHK                5053\n",
       "3 BHK                3957\n",
       "Residential Plot     3927\n",
       "4 BHK                 874\n",
       "1 BHK                 352\n",
       "5 BHK                 266\n",
       "6 BHK                 161\n",
       "10 BHK                 92\n",
       "7 BHK                  89\n",
       "8 BHK                  67\n",
       "9 BHK                  48\n",
       "Residential House      42\n",
       "Studio Apartment       14\n",
       "Villa                   5\n",
       "Flat                    4\n",
       "Name: Type, dtype: int64"
      ]
     },
     "execution_count": 110,
     "metadata": {},
     "output_type": "execute_result"
    }
   ],
   "source": [
    "rs_data.Type.value_counts()"
   ]
  },
  {
   "cell_type": "code",
   "execution_count": 111,
   "metadata": {},
   "outputs": [],
   "source": [
    "rs_data.drop_duplicates(inplace = True)"
   ]
  },
  {
   "cell_type": "code",
   "execution_count": 112,
   "metadata": {},
   "outputs": [
    {
     "data": {
      "text/plain": [
       "2 BHK                4706\n",
       "3 BHK                3749\n",
       "Residential Plot     3334\n",
       "4 BHK                 831\n",
       "1 BHK                 334\n",
       "5 BHK                 259\n",
       "6 BHK                 154\n",
       "10 BHK                 87\n",
       "7 BHK                  83\n",
       "8 BHK                  67\n",
       "9 BHK                  46\n",
       "Residential House      41\n",
       "Studio Apartment       13\n",
       "Villa                   5\n",
       "Flat                    4\n",
       "Name: Type, dtype: int64"
      ]
     },
     "execution_count": 112,
     "metadata": {},
     "output_type": "execute_result"
    }
   ],
   "source": [
    "rs_data.Type.value_counts()"
   ]
  },
  {
   "cell_type": "code",
   "execution_count": 113,
   "metadata": {},
   "outputs": [],
   "source": [
    "from sklearn.compose import ColumnTransformer\n",
    "from sklearn.pipeline import Pipeline\n",
    "from sklearn.base import BaseEstimator, TransformerMixin\n",
    "from sklearn.tree import DecisionTreeClassifier\n",
    "from sklearn.linear_model import LogisticRegression, SGDRegressor, LinearRegression, Ridge, RANSACRegressor, Lasso, HuberRegressor, TheilSenRegressor\n",
    "from sklearn.preprocessing import OneHotEncoder \n",
    "from sklearn.ensemble import RandomForestRegressor\n",
    "from sklearn.tree import DecisionTreeRegressor, ExtraTreeRegressor\n",
    "from sklearn.neighbors import KNeighborsRegressor,RadiusNeighborsRegressor\n",
    "from sklearn.naive_bayes import BernoulliNB, MultinomialNB\n",
    "\n",
    "from sklearn.preprocessing import RobustScaler, MinMaxScaler, StandardScaler\n",
    "\n",
    "from sklearn.model_selection import train_test_split"
   ]
  },
  {
   "cell_type": "code",
   "execution_count": 170,
   "metadata": {},
   "outputs": [],
   "source": [
    "\n",
    "# rs_data.drop(rs_data['AreaSqft'].idxmax(),axis = 0, inplace = True)\n",
    "rs_data.drop(rs_data[rs_data.Size >= 10000].index,axis = 0, inplace = True)\n",
    "rs_data.drop(rs_data[rs_data.Size == 0].index,axis = 0, inplace = True)\n",
    "rs_data.drop(rs_data[rs_data.Price > (0.10 * 10**9)].index,axis = 0, inplace = True)"
   ]
  },
  {
   "cell_type": "code",
   "execution_count": 171,
   "metadata": {},
   "outputs": [],
   "source": [
    "X = rs_data.drop('Price',axis =1)\n",
    "Y = rs_data.Price"
   ]
  },
  {
   "cell_type": "code",
   "execution_count": 157,
   "metadata": {},
   "outputs": [
    {
     "name": "stdout",
     "output_type": "stream",
     "text": [
      "<class 'pandas.core.frame.DataFrame'>\n",
      "Int64Index: 13680 entries, 0 to 14950\n",
      "Data columns (total 3 columns):\n",
      "Area    13680 non-null object\n",
      "Type    13680 non-null object\n",
      "Size    13680 non-null float64\n",
      "dtypes: float64(1), object(2)\n",
      "memory usage: 427.5+ KB\n"
     ]
    }
   ],
   "source": [
    "X.info()"
   ]
  },
  {
   "cell_type": "code",
   "execution_count": 158,
   "metadata": {},
   "outputs": [
    {
     "data": {
      "text/plain": [
       "Area     vayunandana layout\n",
       "Price               2.5e+08\n",
       "Type                  Villa\n",
       "Size                  24000\n",
       "dtype: object"
      ]
     },
     "execution_count": 158,
     "metadata": {},
     "output_type": "execute_result"
    }
   ],
   "source": [
    "rs_data.max()"
   ]
  },
  {
   "cell_type": "code",
   "execution_count": 159,
   "metadata": {},
   "outputs": [],
   "source": [
    "Y.fillna( np.mean, inplace = True)"
   ]
  },
  {
   "cell_type": "code",
   "execution_count": 177,
   "metadata": {},
   "outputs": [],
   "source": [
    "mypipeline_ohe = Pipeline(steps = [\n",
    "    ('encoder', OneHotEncoder(handle_unknown='ignore'))\n",
    "])\n",
    "mypipeline_ohe2 = Pipeline(steps = [\n",
    "    ('encoder2', OneHotEncoder(handle_unknown='ignore'))\n",
    "])\n",
    "mypipeline_scaler = Pipeline(steps = [\n",
    "    ('scaler', RobustScaler())\n",
    "])\n",
    "\n",
    "preprocessor = ColumnTransformer(\n",
    "    transformers = [\n",
    "        ('encoderonehot',mypipeline_ohe,['Area']),\n",
    "        ('encoderonehot2',mypipeline_ohe2,['Type']),\n",
    "        ('scale', mypipeline_scaler, ['Size'])\n",
    "    ])"
   ]
  },
  {
   "cell_type": "code",
   "execution_count": 178,
   "metadata": {},
   "outputs": [],
   "source": [
    "AllModels = [ExtraTreeRegressor(),RadiusNeighborsRegressor(radius=3),HuberRegressor(),KNeighborsRegressor(weights = 'distance'),DecisionTreeRegressor(),RandomForestRegressor(n_estimators = 100),RANSACRegressor(),SGDRegressor(max_iter = 1000, tol = 0.001),LinearRegression(),Ridge(alpha =10,max_iter=1000, tol=0.001) ,Lasso(alpha =100,max_iter=1000, tol=0.001)]\n",
    "AllModelsName = ['ExtraTreeRegressor()','RadiusNeighborsRegressor(radius=3)','HuberRegressor()','KNeighborsRegressor(weights = distance)','DecisionTreeRegressor()','RandomForestRegressor(n_estimators = 100)','RANSACRegressor()','SGDRegressor(max_iter = 1000, tol = 0.001)','LinearRegression()','Ridge(alpha =10,max_iter=1000, tol=0.001)' ,'Lasso(alpha =10,max_iter=1000, tol=0.001)']\n"
   ]
  },
  {
   "cell_type": "code",
   "execution_count": 179,
   "metadata": {},
   "outputs": [],
   "source": [
    "pipelines= []\n",
    "for models in AllModels:\n",
    "    pipeline = Pipeline(steps = [\n",
    "        ('preprocessor',preprocessor),\n",
    "        ('Classifier',models)\n",
    "    ])\n",
    "    pipelines.append(pipeline)"
   ]
  },
  {
   "cell_type": "code",
   "execution_count": 180,
   "metadata": {},
   "outputs": [],
   "source": [
    "trainX,testX,trainY,testY = train_test_split(X,Y)"
   ]
  },
  {
   "cell_type": "code",
   "execution_count": 181,
   "metadata": {},
   "outputs": [
    {
     "name": "stdout",
     "output_type": "stream",
     "text": [
      "Pipeline(memory=None,\n",
      "     steps=[('preprocessor', ColumnTransformer(n_jobs=None, remainder='drop', sparse_threshold=0.3,\n",
      "         transformer_weights=None,\n",
      "         transformers=[('encoderonehot', Pipeline(memory=None,\n",
      "     steps=[('encoder', OneHotEncoder(categorical_features=None, categories=None,\n",
      "       dtype=<class 'nump...s_split=2,\n",
      "          min_weight_fraction_leaf=0.0, random_state=None,\n",
      "          splitter='random'))])\n",
      "Pipeline(memory=None,\n",
      "     steps=[('preprocessor', ColumnTransformer(n_jobs=None, remainder='drop', sparse_threshold=0.3,\n",
      "         transformer_weights=None,\n",
      "         transformers=[('encoderonehot', Pipeline(memory=None,\n",
      "     steps=[('encoder', OneHotEncoder(categorical_features=None, categories=None,\n",
      "       dtype=<class 'nump...ski',\n",
      "             metric_params=None, n_jobs=None, p=2, radius=3,\n",
      "             weights='uniform'))])\n",
      "Pipeline(memory=None,\n",
      "     steps=[('preprocessor', ColumnTransformer(n_jobs=None, remainder='drop', sparse_threshold=0.3,\n",
      "         transformer_weights=None,\n",
      "         transformers=[('encoderonehot', Pipeline(memory=None,\n",
      "     steps=[('encoder', OneHotEncoder(categorical_features=None, categories=None,\n",
      "       dtype=<class 'nump...alpha=0.0001, epsilon=1.35, fit_intercept=True, max_iter=100,\n",
      "        tol=1e-05, warm_start=False))])\n",
      "Pipeline(memory=None,\n",
      "     steps=[('preprocessor', ColumnTransformer(n_jobs=None, remainder='drop', sparse_threshold=0.3,\n",
      "         transformer_weights=None,\n",
      "         transformers=[('encoderonehot', Pipeline(memory=None,\n",
      "     steps=[('encoder', OneHotEncoder(categorical_features=None, categories=None,\n",
      "       dtype=<class 'nump...ski',\n",
      "          metric_params=None, n_jobs=None, n_neighbors=5, p=2,\n",
      "          weights='distance'))])\n",
      "Pipeline(memory=None,\n",
      "     steps=[('preprocessor', ColumnTransformer(n_jobs=None, remainder='drop', sparse_threshold=0.3,\n",
      "         transformer_weights=None,\n",
      "         transformers=[('encoderonehot', Pipeline(memory=None,\n",
      "     steps=[('encoder', OneHotEncoder(categorical_features=None, categories=None,\n",
      "       dtype=<class 'nump...lit=2, min_weight_fraction_leaf=0.0,\n",
      "           presort=False, random_state=None, splitter='best'))])\n",
      "Pipeline(memory=None,\n",
      "     steps=[('preprocessor', ColumnTransformer(n_jobs=None, remainder='drop', sparse_threshold=0.3,\n",
      "         transformer_weights=None,\n",
      "         transformers=[('encoderonehot', Pipeline(memory=None,\n",
      "     steps=[('encoder', OneHotEncoder(categorical_features=None, categories=None,\n",
      "       dtype=<class 'nump...tors=100, n_jobs=None,\n",
      "           oob_score=False, random_state=None, verbose=0, warm_start=False))])\n",
      "Pipeline(memory=None,\n",
      "     steps=[('preprocessor', ColumnTransformer(n_jobs=None, remainder='drop', sparse_threshold=0.3,\n",
      "         transformer_weights=None,\n",
      "         transformers=[('encoderonehot', Pipeline(memory=None,\n",
      "     steps=[('encoder', OneHotEncoder(categorical_features=None, categories=None,\n",
      "       dtype=<class 'nump...=None, residual_threshold=None,\n",
      "        stop_n_inliers=inf, stop_probability=0.99, stop_score=inf))])\n",
      "Pipeline(memory=None,\n",
      "     steps=[('preprocessor', ColumnTransformer(n_jobs=None, remainder='drop', sparse_threshold=0.3,\n",
      "         transformer_weights=None,\n",
      "         transformers=[('encoderonehot', Pipeline(memory=None,\n",
      "     steps=[('encoder', OneHotEncoder(categorical_features=None, categories=None,\n",
      "       dtype=<class 'nump..._state=None, shuffle=True, tol=0.001, validation_fraction=0.1,\n",
      "       verbose=0, warm_start=False))])\n",
      "Pipeline(memory=None,\n",
      "     steps=[('preprocessor', ColumnTransformer(n_jobs=None, remainder='drop', sparse_threshold=0.3,\n",
      "         transformer_weights=None,\n",
      "         transformers=[('encoderonehot', Pipeline(memory=None,\n",
      "     steps=[('encoder', OneHotEncoder(categorical_features=None, categories=None,\n",
      "       dtype=<class 'nump...ssifier', LinearRegression(copy_X=True, fit_intercept=True, n_jobs=None,\n",
      "         normalize=False))])\n",
      "Pipeline(memory=None,\n",
      "     steps=[('preprocessor', ColumnTransformer(n_jobs=None, remainder='drop', sparse_threshold=0.3,\n",
      "         transformer_weights=None,\n",
      "         transformers=[('encoderonehot', Pipeline(memory=None,\n",
      "     steps=[('encoder', OneHotEncoder(categorical_features=None, categories=None,\n",
      "       dtype=<class 'nump...it_intercept=True, max_iter=1000,\n",
      "   normalize=False, random_state=None, solver='auto', tol=0.001))])\n",
      "Pipeline(memory=None,\n",
      "     steps=[('preprocessor', ColumnTransformer(n_jobs=None, remainder='drop', sparse_threshold=0.3,\n",
      "         transformer_weights=None,\n",
      "         transformers=[('encoderonehot', Pipeline(memory=None,\n",
      "     steps=[('encoder', OneHotEncoder(categorical_features=None, categories=None,\n",
      "       dtype=<class 'nump...ve=False, precompute=False, random_state=None,\n",
      "   selection='cyclic', tol=0.001, warm_start=False))])\n"
     ]
    }
   ],
   "source": [
    "for pipeline in pipelines:    \n",
    "    pipeline.fit(trainX,trainY)\n",
    "    print(pipeline)"
   ]
  },
  {
   "cell_type": "code",
   "execution_count": 182,
   "metadata": {},
   "outputs": [
    {
     "name": "stdout",
     "output_type": "stream",
     "text": [
      "ExtraTreeRegressor()  =  0.24137511490950359\n",
      "RadiusNeighborsRegressor(radius=3)  =  0.2728779394403146\n",
      "HuberRegressor()  =  0.35038849841921116\n",
      "KNeighborsRegressor(weights = distance)  =  0.4177935448093172\n",
      "DecisionTreeRegressor()  =  0.22309719738404873\n",
      "RandomForestRegressor(n_estimators = 100)  =  0.3803656793151339\n",
      "RANSACRegressor()  =  0.3799288471743001\n",
      "SGDRegressor(max_iter = 1000, tol = 0.001)  =  0.4529442801518885\n",
      "LinearRegression()  =  0.4431795219790488\n",
      "Ridge(alpha =10,max_iter=1000, tol=0.001)  =  0.4616135735659442\n",
      "Lasso(alpha =10,max_iter=1000, tol=0.001)  =  0.44675492335166217\n"
     ]
    }
   ],
   "source": [
    "preds = []\n",
    "for index,pipeline in enumerate(pipelines):        \n",
    "    print(str(AllModelsName[index]),\" = \",pipeline.score(testX,testY))\n",
    "    pred = pipeline.predict(X)\n",
    "    preds.append(pred)"
   ]
  },
  {
   "cell_type": "code",
   "execution_count": 136,
   "metadata": {},
   "outputs": [],
   "source": [
    "import matplotlib.pyplot as plt\n",
    "%matplotlib inline"
   ]
  },
  {
   "cell_type": "code",
   "execution_count": 163,
   "metadata": {},
   "outputs": [
    {
     "name": "stdout",
     "output_type": "stream",
     "text": [
      "<class 'pandas.core.frame.DataFrame'>\n",
      "Int64Index: 13680 entries, 0 to 14950\n",
      "Data columns (total 4 columns):\n",
      "Area     13680 non-null object\n",
      "Price    13680 non-null float64\n",
      "Type     13680 non-null object\n",
      "Size     13680 non-null float64\n",
      "dtypes: float64(2), object(2)\n",
      "memory usage: 534.4+ KB\n"
     ]
    }
   ],
   "source": [
    "rs_data.info()"
   ]
  },
  {
   "cell_type": "code",
   "execution_count": 176,
   "metadata": {},
   "outputs": [
    {
     "data": {
      "text/plain": [
       "(<matplotlib.collections.PathCollection at 0xb029663550>,\n",
       " <matplotlib.collections.PathCollection at 0xb029663860>)"
      ]
     },
     "execution_count": 176,
     "metadata": {},
     "output_type": "execute_result"
    },
    {
     "data": {
      "image/png": "[encoded data removed]",
      "text/plain": [
       "<Figure size 432x288 with 1 Axes>"
      ]
     },
     "metadata": {
      "needs_background": "light"
     },
     "output_type": "display_data"
    }
   ],
   "source": [
    "plt.scatter(y=rs_data.Size,x= rs_data.Price,s = 1), plt.scatter(y=rs_data.Size,x= preds[9],s = 1), "
   ]
  },
  {
   "cell_type": "code",
   "execution_count": 69,
   "metadata": {},
   "outputs": [
    {
     "data": {
      "text/plain": [
       "[ExtraTreeRegressor(criterion='mse', max_depth=None, max_features='auto',\n",
       "           max_leaf_nodes=None, min_impurity_decrease=0.0,\n",
       "           min_impurity_split=None, min_samples_leaf=1, min_samples_split=2,\n",
       "           min_weight_fraction_leaf=0.0, random_state=None,\n",
       "           splitter='random'),\n",
       " RadiusNeighborsRegressor(algorithm='auto', leaf_size=30, metric='minkowski',\n",
       "              metric_params=None, n_jobs=None, p=2, radius=3,\n",
       "              weights='uniform'),\n",
       " HuberRegressor(alpha=0.0001, epsilon=1.35, fit_intercept=True, max_iter=100,\n",
       "         tol=1e-05, warm_start=False),\n",
       " KNeighborsRegressor(algorithm='auto', leaf_size=30, metric='minkowski',\n",
       "           metric_params=None, n_jobs=None, n_neighbors=5, p=2,\n",
       "           weights='distance'),\n",
       " DecisionTreeRegressor(criterion='mse', max_depth=None, max_features=None,\n",
       "            max_leaf_nodes=None, min_impurity_decrease=0.0,\n",
       "            min_impurity_split=None, min_samples_leaf=1,\n",
       "            min_samples_split=2, min_weight_fraction_leaf=0.0,\n",
       "            presort=False, random_state=None, splitter='best'),\n",
       " RandomForestRegressor(bootstrap=True, criterion='mse', max_depth=None,\n",
       "            max_features='auto', max_leaf_nodes=None,\n",
       "            min_impurity_decrease=0.0, min_impurity_split=None,\n",
       "            min_samples_leaf=1, min_samples_split=2,\n",
       "            min_weight_fraction_leaf=0.0, n_estimators=100, n_jobs=None,\n",
       "            oob_score=False, random_state=None, verbose=0, warm_start=False),\n",
       " RANSACRegressor(base_estimator=None, is_data_valid=None, is_model_valid=None,\n",
       "         loss='absolute_loss', max_skips=inf, max_trials=100,\n",
       "         min_samples=None, random_state=None, residual_threshold=None,\n",
       "         stop_n_inliers=inf, stop_probability=0.99, stop_score=inf),\n",
       " SGDRegressor(alpha=0.0001, average=False, early_stopping=False, epsilon=0.1,\n",
       "        eta0=0.01, fit_intercept=True, l1_ratio=0.15,\n",
       "        learning_rate='invscaling', loss='squared_loss', max_iter=1000,\n",
       "        n_iter=None, n_iter_no_change=5, penalty='l2', power_t=0.25,\n",
       "        random_state=None, shuffle=True, tol=0.001, validation_fraction=0.1,\n",
       "        verbose=0, warm_start=False),\n",
       " LinearRegression(copy_X=True, fit_intercept=True, n_jobs=None,\n",
       "          normalize=False),\n",
       " Ridge(alpha=1, copy_X=True, fit_intercept=True, max_iter=1000,\n",
       "    normalize=False, random_state=None, solver='auto', tol=0.0001),\n",
       " Lasso(alpha=1, copy_X=True, fit_intercept=True, max_iter=10000,\n",
       "    normalize=False, positive=False, precompute=False, random_state=None,\n",
       "    selection='cyclic', tol=0.001, warm_start=False)]"
      ]
     },
     "execution_count": 69,
     "metadata": {},
     "output_type": "execute_result"
    }
   ],
   "source": [
    "AllModels"
   ]
  },
  {
   "cell_type": "code",
   "execution_count": 68,
   "metadata": {},
   "outputs": [
    {
     "data": {
      "text/plain": [
       "array([10143640.5448494 ,  9961377.51129024,  8490530.40481191,\n",
       "        8179455.85665804, 17997668.72504648,  5220626.67512319,\n",
       "       11191737.47387437, 11911822.39100941,  5267859.87556028,\n",
       "        8459886.35748206])"
      ]
     },
     "execution_count": 68,
     "metadata": {},
     "output_type": "execute_result"
    }
   ],
   "source": [
    "preds[9][:10]"
   ]
  },
  {
   "cell_type": "code",
   "execution_count": 61,
   "metadata": {},
   "outputs": [
    {
     "data": {
      "text/plain": [
       "0    13500000.0\n",
       "1     8690000.0\n",
       "2     5260000.0\n",
       "3     7000000.0\n",
       "4    21100000.0\n",
       "5     2340000.0\n",
       "6     7590000.0\n",
       "7    12500000.0\n",
       "8     4500000.0\n",
       "9     6830000.0\n",
       "Name: Price, dtype: float64"
      ]
     },
     "execution_count": 61,
     "metadata": {},
     "output_type": "execute_result"
    }
   ],
   "source": [
    "Y[:10]"
   ]
  }
 ],
 "metadata": {
  "kernelspec": {
   "display_name": "Python 3",
   "language": "python",
   "name": "python3"
  },
  "language_info": {
   "codemirror_mode": {
    "name": "ipython",
    "version": 3
   },
   "file_extension": ".py",
   "mimetype": "text/x-python",
   "name": "python",
   "nbconvert_exporter": "python",
   "pygments_lexer": "ipython3",
   "version": "3.6.8"
  }
 },
 "nbformat": 4,
 "nbformat_minor": 2
}
