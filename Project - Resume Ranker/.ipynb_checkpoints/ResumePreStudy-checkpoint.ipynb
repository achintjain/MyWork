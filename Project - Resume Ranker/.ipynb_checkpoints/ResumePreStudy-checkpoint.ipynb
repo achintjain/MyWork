{
 "cells": [
  {
   "cell_type": "code",
   "execution_count": 1,
   "metadata": {},
   "outputs": [
    {
     "name": "stderr",
     "output_type": "stream",
     "text": [
      "[nltk_data] Downloading package stopwords to\n",
      "[nltk_data]     C:\\Users\\achintj\\AppData\\Roaming\\nltk_data...\n",
      "[nltk_data]   Unzipping corpora\\stopwords.zip.\n"
     ]
    }
   ],
   "source": [
    "import numpy as np  \n",
    "import re  \n",
    "import nltk  \n",
    "from sklearn.datasets import load_files  \n",
    "nltk.download('stopwords')  \n",
    "import pickle  \n",
    "from nltk.corpus import stopwords  "
   ]
  },
  {
   "cell_type": "code",
   "execution_count": 2,
   "metadata": {},
   "outputs": [
    {
     "name": "stderr",
     "output_type": "stream",
     "text": [
      "[nltk_data] Downloading package wordnet to\n",
      "[nltk_data]     C:\\Users\\achintj\\AppData\\Roaming\\nltk_data...\n",
      "[nltk_data]   Unzipping corpora\\wordnet.zip.\n"
     ]
    },
    {
     "data": {
      "text/plain": [
       "True"
      ]
     },
     "execution_count": 2,
     "metadata": {},
     "output_type": "execute_result"
    }
   ],
   "source": [
    "nltk.download('wordnet')"
   ]
  },
  {
   "cell_type": "code",
   "execution_count": 3,
   "metadata": {},
   "outputs": [],
   "source": [
    "from sklearn.ensemble import RandomForestClassifier\n",
    "from sklearn.linear_model import LogisticRegression\n",
    "from sklearn.naive_bayes import MultinomialNB\n",
    "from sklearn.svm import SVC"
   ]
  },
  {
   "cell_type": "code",
   "execution_count": 4,
   "metadata": {},
   "outputs": [],
   "source": [
    "movie_data = load_files(r\"D:\\MyWork\\DSWork\\Project - Resume Ranker\\txt_sentoken\")"
   ]
  },
  {
   "cell_type": "code",
   "execution_count": 10,
   "metadata": {},
   "outputs": [],
   "source": [
    "X,Y = movie_data.data,movie_data.target"
   ]
  },
  {
   "cell_type": "code",
   "execution_count": 21,
   "metadata": {},
   "outputs": [],
   "source": [
    "documents = []\n",
    "\n",
    "from nltk.stem import WordNetLemmatizer\n",
    "\n",
    "stemmer = WordNetLemmatizer()\n",
    "\n",
    "for sen in range(0, len(X)):  \n",
    "    # Remove all the special characters\n",
    "    document = re.sub(r'\\W', ' ', str(X[sen]))\n",
    "\n",
    "    # remove all single characters\n",
    "    document = re.sub(r'\\s+[a-zA-Z]\\s+', ' ', document)\n",
    "\n",
    "    # Remove single characters from the start\n",
    "    document = re.sub(r'\\^[a-zA-Z]\\s+', ' ', document) \n",
    "\n",
    "    # Substituting multiple spaces with single space\n",
    "    document = re.sub(r'\\s+', ' ', document, flags=re.I)\n",
    "\n",
    "    # Removing prefixed 'b'\n",
    "    document = re.sub(r'^b\\s+', '', document)\n",
    "\n",
    "    # Converting to Lowercase\n",
    "    document = document.lower()\n",
    "\n",
    "    # Lemmatization\n",
    "    document = document.split()\n",
    "\n",
    "    document = [stemmer.lemmatize(word) for word in document]\n",
    "    document = ' '.join(document)\n",
    "    documents.append(document) "
   ]
  },
  {
   "cell_type": "code",
   "execution_count": 22,
   "metadata": {},
   "outputs": [],
   "source": [
    "from sklearn.feature_extraction.text import CountVectorizer  \n",
    "vectorizer = CountVectorizer(max_features=1500, min_df=5, max_df=0.7, stop_words=stopwords.words('english'))  \n",
    "X = vectorizer.fit_transform(documents).toarray()  "
   ]
  },
  {
   "cell_type": "code",
   "execution_count": 25,
   "metadata": {},
   "outputs": [],
   "source": [
    "from sklearn.feature_extraction.text import TfidfTransformer  \n",
    "tfidfconverter = TfidfTransformer()  \n",
    "X = tfidfconverter.fit_transform(X).toarray() "
   ]
  },
  {
   "cell_type": "code",
   "execution_count": 26,
   "metadata": {},
   "outputs": [],
   "source": [
    "from sklearn.model_selection import train_test_split  \n",
    "X_train, X_test, y_train, y_test = train_test_split(X, Y, test_size=0.2, random_state=0) "
   ]
  },
  {
   "cell_type": "code",
   "execution_count": 64,
   "metadata": {},
   "outputs": [
    {
     "data": {
      "text/plain": [
       "RandomForestClassifier(bootstrap=True, class_weight=None, criterion='gini',\n",
       "            max_depth=None, max_features='auto', max_leaf_nodes=None,\n",
       "            min_impurity_decrease=0.0, min_impurity_split=None,\n",
       "            min_samples_leaf=1, min_samples_split=2,\n",
       "            min_weight_fraction_leaf=0.0, n_estimators=5000, n_jobs=None,\n",
       "            oob_score=False, random_state=1, verbose=0, warm_start=False)"
      ]
     },
     "execution_count": 64,
     "metadata": {},
     "output_type": "execute_result"
    }
   ],
   "source": [
    "classifier = RandomForestClassifier(n_estimators=5000, random_state=1)  \n",
    "classifier.fit(X_train, y_train) "
   ]
  },
  {
   "cell_type": "code",
   "execution_count": 62,
   "metadata": {},
   "outputs": [],
   "source": [
    "y_pred = classifier.predict(X_test)  "
   ]
  },
  {
   "cell_type": "code",
   "execution_count": 63,
   "metadata": {},
   "outputs": [
    {
     "name": "stdout",
     "output_type": "stream",
     "text": [
      "[[178  30]\n",
      " [ 33 159]]\n",
      "              precision    recall  f1-score   support\n",
      "\n",
      "           0       0.84      0.86      0.85       208\n",
      "           1       0.84      0.83      0.83       192\n",
      "\n",
      "   micro avg       0.84      0.84      0.84       400\n",
      "   macro avg       0.84      0.84      0.84       400\n",
      "weighted avg       0.84      0.84      0.84       400\n",
      "\n",
      "0.8425\n"
     ]
    }
   ],
   "source": [
    "from sklearn.metrics import classification_report, confusion_matrix, accuracy_score\n",
    "\n",
    "print(confusion_matrix(y_test,y_pred))  \n",
    "print(classification_report(y_test,y_pred))  \n",
    "print(accuracy_score(y_test, y_pred)) "
   ]
  },
  {
   "cell_type": "code",
   "execution_count": 32,
   "metadata": {},
   "outputs": [
    {
     "name": "stdout",
     "output_type": "stream",
     "text": [
      "[[160  48]\n",
      " [ 34 158]]\n",
      "              precision    recall  f1-score   support\n",
      "\n",
      "           0       0.82      0.77      0.80       208\n",
      "           1       0.77      0.82      0.79       192\n",
      "\n",
      "   micro avg       0.80      0.80      0.80       400\n",
      "   macro avg       0.80      0.80      0.79       400\n",
      "weighted avg       0.80      0.80      0.80       400\n",
      "\n",
      "0.795\n"
     ]
    }
   ],
   "source": [
    "classifier = MultinomialNB()  \n",
    "classifier.fit(X_train, y_train) \n",
    "y_pred = classifier.predict(X_test)  \n",
    "print(confusion_matrix(y_test,y_pred))  \n",
    "print(classification_report(y_test,y_pred))  \n",
    "print(accuracy_score(y_test, y_pred)) "
   ]
  },
  {
   "cell_type": "code",
   "execution_count": 36,
   "metadata": {},
   "outputs": [
    {
     "name": "stdout",
     "output_type": "stream",
     "text": [
      "[[167  41]\n",
      " [ 26 166]]\n",
      "              precision    recall  f1-score   support\n",
      "\n",
      "           0       0.87      0.80      0.83       208\n",
      "           1       0.80      0.86      0.83       192\n",
      "\n",
      "   micro avg       0.83      0.83      0.83       400\n",
      "   macro avg       0.83      0.83      0.83       400\n",
      "weighted avg       0.83      0.83      0.83       400\n",
      "\n",
      "0.8325\n"
     ]
    }
   ],
   "source": [
    "classifier = SVC(kernel='rbf',C=100, gamma=1)  \n",
    "classifier.fit(X_train, y_train) \n",
    "y_pred = classifier.predict(X_test)  \n",
    "print(confusion_matrix(y_test,y_pred))  \n",
    "print(classification_report(y_test,y_pred))  \n",
    "print(accuracy_score(y_test, y_pred)) "
   ]
  },
  {
   "cell_type": "code",
   "execution_count": 38,
   "metadata": {},
   "outputs": [
    {
     "name": "stdout",
     "output_type": "stream",
     "text": [
      "[[168  40]\n",
      " [ 28 164]]\n",
      "              precision    recall  f1-score   support\n",
      "\n",
      "           0       0.86      0.81      0.83       208\n",
      "           1       0.80      0.85      0.83       192\n",
      "\n",
      "   micro avg       0.83      0.83      0.83       400\n",
      "   macro avg       0.83      0.83      0.83       400\n",
      "weighted avg       0.83      0.83      0.83       400\n",
      "\n",
      "0.83\n"
     ]
    }
   ],
   "source": [
    "classifier = LogisticRegression(solver='lbfgs')  \n",
    "classifier.fit(X_train, y_train) \n",
    "y_pred = classifier.predict(X_test)  \n",
    "print(confusion_matrix(y_test,y_pred))  \n",
    "print(classification_report(y_test,y_pred))  \n",
    "print(accuracy_score(y_test, y_pred)) "
   ]
  },
  {
   "cell_type": "code",
   "execution_count": 39,
   "metadata": {},
   "outputs": [],
   "source": [
    "from sklearn.metrics.pairwise import cosine_similarity"
   ]
  },
  {
   "cell_type": "code",
   "execution_count": 40,
   "metadata": {},
   "outputs": [],
   "source": [
    "res = cosine_similarity(X)"
   ]
  },
  {
   "cell_type": "code",
   "execution_count": 41,
   "metadata": {},
   "outputs": [
    {
     "data": {
      "text/plain": [
       "(2000, 2000)"
      ]
     },
     "execution_count": 41,
     "metadata": {},
     "output_type": "execute_result"
    }
   ],
   "source": [
    "res.shape"
   ]
  },
  {
   "cell_type": "code",
   "execution_count": 57,
   "metadata": {},
   "outputs": [],
   "source": [
    "d = pd.Series(data =res[920:921][0])"
   ]
  },
  {
   "cell_type": "code",
   "execution_count": 58,
   "metadata": {},
   "outputs": [
    {
     "data": {
      "text/plain": [
       "920     1.000000\n",
       "306     0.433130\n",
       "1579    0.231836\n",
       "1543    0.213240\n",
       "1257    0.205831\n",
       "1357    0.196988\n",
       "450     0.196464\n",
       "1171    0.192482\n",
       "404     0.190404\n",
       "297     0.188462\n",
       "dtype: float64"
      ]
     },
     "execution_count": 58,
     "metadata": {},
     "output_type": "execute_result"
    }
   ],
   "source": [
    "d.sort_values(ascending=False)[:10]"
   ]
  },
  {
   "cell_type": "code",
   "execution_count": 59,
   "metadata": {},
   "outputs": [
    {
     "data": {
      "text/plain": [
       "b'susan granger\\'s review of \" american outlaws \" ( warner bros . ) \\nthomas edison\\'s \" the great train robbery \" ( 1903 ) was the first western ever made and \" jesse james under the black flag \" ( 1923 ) first introduced the outlaw folk hero . \\nnow , more than 20 similarly-themed pictures later , jesse james and his notorious gang of outlaws ride again in a banal mtv spin on an american legend . \\nthe story begins as jesse ( charasmatic colin farrell ) and his brother frank ( gabriel macht ) , cole and scott younger ( scott caan , will mccormack ) and trusty comanche tom ( nathaniel arcand ) , after four years of fighting for the rebs in the civil war , return to liberty , missouri - only to discover union troops are occupying their hometown . \\nand an avaricious east coast railroad baron , thaddeus rains ( harris yulin ) , is forcing farmers to sell their land at less than true value , aided by allan pinkerton ( timothy dalton ) and his infamous detectives who , back then , were just thugs who provided security . \\nbut when ma james ( kathy bates ) becomes one of their victims , jesse and the rest of the guys ( gregory smith , ty o\\'neal , joe stevens ) form the james-younger gang to wreak revenge by attacking the railroad\\'s supply lines , sabotaging track and robbing the banks where the payroll is kept . \\nplus there\\'s romance - between jesse and a spunky hometown gal , lee mimms ( ali larter ) . \\nworking from a politically-correct , clich ? -drenched , sanitized and revisionist screenplay by roderick taylor and john rodgers , director les mayfield keeps the action fast-paced and goes for lightweight laughs when he can . \\nthe choppy editing hurts but russell boyd\\'s cinematography , luke reichle\\'s designer duds and trevor rabin\\'s music lend authenticity . \\non the granger movie gauge of 1 to 10 , \" american outlaws \" is a galloping , formulaic 3 . \\nit\\'s the wild west re-visited as a date movie . \\n'"
      ]
     },
     "execution_count": 59,
     "metadata": {},
     "output_type": "execute_result"
    }
   ],
   "source": [
    "movie_data.data[920]"
   ]
  },
  {
   "cell_type": "code",
   "execution_count": 60,
   "metadata": {},
   "outputs": [
    {
     "data": {
      "text/plain": [
       "b\"not so long ago , men by the names of peckinpah , ford , leone , and eastwood made westerns . \\nreal westerns . \\nthese were some of the best films of the twentieth century . \\nthose days are gone . \\nnow we have crap like wild wild west to pass for the western . \\nand that record is not improved with the unbearable tale of american outlaws . \\noutlaws is yet another re-telling of the jesse james legend , courtesy of b-movie king james g . robinson ( producer of such classics as wrongfully accused and chill factor ) . \\ndelayed since the spring , this version stars the irish hunka hunka burning love colin farrell ( the best part of schumacher's tigerland ) as the bad-ass jesse james . \\nalas , any sense of his character has been left on the ranch , leaving us with only cute chicks like ali larter ( minus the whipped cream ) to watch . \\nthe spin this time around : fresh from serving as southern militiamen in the civil war , jesse james ( farrell ) , his brother frank ( gabriel macht ) , and his pal cole younger ( scott caan ) lay down their arms and head home to missouri to tend the family farms after the war has ended . \\nbut trouble is brewing in their small town of liberty when evil railroad baron thaddeus rains ( harris yulin ) and his cronies rollin parker ( terry o'quinn ) and allan pinkerton ( timothy dalton ) demand the boys turn over their lands to the railroads . \\nthe jameses and the youngers then join forces to fight the railroad -- by robbing banks up and down missouri , thus cutting off the railroad's financial surplus and playing robin hood to the local people . \\nalong the way , the boys squabble over who's the cutest of the gang , who's the most popular cowboy in the gang , and who ought to go on mtv's total request live . \\nthey rob numerous banks with identical interiors , always with the kindest of hearts , strutting in their grungy dusters as moby songs play in the background . \\nthe witty banter they share could be plastered within a hallmark card . \\nthe biggest disappointment here lies in the acting of colin farrell . \\nafter a great job in tigerland , farrell walks through this role easier then nicolas cage in gone in 60 seconds . \\nand his american accent rivals richard gere's irish accent in the jackal . \\ncombined with feeling like bonanza : the teen years , this homogenized production ( toned down to get the ever-popular pg-13 rating ) gives us an invincible jesse james that quickly grows tiresome and boring . \\nthe unbearable villains courtesy of timothy dalton and thaddeus rains spend the entire film proclaiming that everyone should be hanged , sucking out any energy left in the film . \\nnot to mention : the real story of jesse james and his gang bears no resemblance to the plot of american outlaws . \\ninstead , the movie is full of old , outrageous tales about the wild west -- tales which went out of style in 5-cent magazines about a century ago . \\n\""
      ]
     },
     "execution_count": 60,
     "metadata": {},
     "output_type": "execute_result"
    }
   ],
   "source": [
    "movie_data.data[306]"
   ]
  }
 ],
 "metadata": {
  "kernelspec": {
   "display_name": "Python 3",
   "language": "python",
   "name": "python3"
  },
  "language_info": {
   "codemirror_mode": {
    "name": "ipython",
    "version": 3
   },
   "file_extension": ".py",
   "mimetype": "text/x-python",
   "name": "python",
   "nbconvert_exporter": "python",
   "pygments_lexer": "ipython3",
   "version": "3.7.1"
  }
 },
 "nbformat": 4,
 "nbformat_minor": 2
}
