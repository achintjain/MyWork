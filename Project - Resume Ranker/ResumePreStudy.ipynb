{
 "cells": [
  {
   "cell_type": "markdown",
   "metadata": {},
   "source": [
    "# Case Study - NLP - Finding review is a positive or negative"
   ]
  },
  {
   "cell_type": "code",
   "execution_count": 3,
   "metadata": {},
   "outputs": [
    {
     "name": "stderr",
     "output_type": "stream",
     "text": [
      "[nltk_data] Downloading package stopwords to\n",
      "[nltk_data]     C:\\Users\\achintj\\AppData\\Roaming\\nltk_data...\n",
      "[nltk_data]   Package stopwords is already up-to-date!\n"
     ]
    }
   ],
   "source": [
    "# Importing Important pakages\n",
    "\n",
    "import numpy as np  \n",
    "import re  \n",
    "import nltk  \n",
    "from sklearn.datasets import load_files  \n",
    "nltk.download('stopwords')  \n",
    "import pickle  \n",
    "from nltk.corpus import stopwords  "
   ]
  },
  {
   "cell_type": "code",
   "execution_count": 4,
   "metadata": {},
   "outputs": [
    {
     "name": "stderr",
     "output_type": "stream",
     "text": [
      "[nltk_data] Downloading package wordnet to\n",
      "[nltk_data]     C:\\Users\\achintj\\AppData\\Roaming\\nltk_data...\n",
      "[nltk_data]   Package wordnet is already up-to-date!\n"
     ]
    },
    {
     "data": {
      "text/plain": [
       "True"
      ]
     },
     "execution_count": 4,
     "metadata": {},
     "output_type": "execute_result"
    }
   ],
   "source": [
    "nltk.download('wordnet')"
   ]
  },
  {
   "cell_type": "code",
   "execution_count": 5,
   "metadata": {},
   "outputs": [],
   "source": [
    "# Importing Machine Learning and preprocessing packages\n",
    "\n",
    "from sklearn.ensemble import RandomForestClassifier\n",
    "from sklearn.linear_model import LogisticRegression\n",
    "from sklearn.naive_bayes import MultinomialNB\n",
    "from sklearn.svm import SVC\n",
    "import pandas as pd"
   ]
  },
  {
   "cell_type": "code",
   "execution_count": 6,
   "metadata": {},
   "outputs": [],
   "source": [
    "# Importing movie data.\n",
    "# Data was extracted and was put into simple txt format.\n",
    "# the folder txt_sentoken contains two seperate folders 'neg' for negative review and 'pos' for positive review.\n",
    "\n",
    "movie_data = load_files(r\"D:\\MyWork\\DSWork\\Project - Resume Ranker\\txt_sentoken\")"
   ]
  },
  {
   "cell_type": "code",
   "execution_count": 61,
   "metadata": {},
   "outputs": [
    {
     "data": {
      "text/plain": [
       "[b\"arnold schwarzenegger has been an icon for action enthusiasts , since the late 80's , but lately his films have been very sloppy and the one-liners are getting worse . \\nit's hard seeing arnold as mr . freeze in batman and robin , especially when he says tons of ice jokes , but hey he got 15 million , what's it matter to him ? \\nonce again arnold has signed to do another expensive blockbuster , that can't compare with the likes of the terminator series , true lies and even eraser . \\nin this so called dark thriller , the devil ( gabriel byrne ) has come upon earth , to impregnate a woman ( robin tunney ) which happens every 1000 years , and basically destroy the world , but apparently god has chosen one man , and that one man is jericho cane ( arnold himself ) . \\nwith the help of a trusty sidekick ( kevin pollack ) , they will stop at nothing to let the devil take over the world ! \\nparts of this are actually so absurd , that they would fit right in with dogma . \\nyes , the film is that weak , but it's better than the other blockbuster right now ( sleepy hollow ) , but it makes the world is not enough look like a 4 star film . \\nanyway , this definitely doesn't seem like an arnold movie . \\nit just wasn't the type of film you can see him doing . \\nsure he gave us a few chuckles with his well known one-liners , but he seemed confused as to where his character and the film was going . \\nit's understandable , especially when the ending had to be changed according to some sources . \\naside form that , he still walked through it , much like he has in the past few films . \\ni'm sorry to say this arnold but maybe these are the end of your action days . \\nspeaking of action , where was it in this film ? \\nthere was hardly any explosions or fights . \\nthe devil made a few places explode , but arnold wasn't kicking some devil butt . \\nthe ending was changed to make it more spiritual , which undoubtedly ruined the film . \\ni was at least hoping for a cool ending if nothing else occurred , but once again i was let down . \\ni also don't know why the film took so long and cost so much . \\nthere was really no super affects at all , unless you consider an invisible devil , who was in it for 5 minutes tops , worth the overpriced budget . \\nthe budget should have gone into a better script , where at least audiences could be somewhat entertained instead of facing boredom . \\nit's pitiful to see how scripts like these get bought and made into a movie . \\ndo they even read these things anymore ? \\nit sure doesn't seem like it . \\nthankfully gabriel's performance gave some light to this poor film . \\nwhen he walks down the street searching for robin tunney , you can't help but feel that he looked like a devil . \\nthe guy is creepy looking anyway ! \\nwhen it's all over , you're just glad it's the end of the movie . \\ndon't bother to see this , if you're expecting a solid action flick , because it's neither solid nor does it have action . \\nit's just another movie that we are suckered in to seeing , due to a strategic marketing campaign . \\nsave your money and see the world is not enough for an entertaining experience . \\n\"]"
      ]
     },
     "execution_count": 61,
     "metadata": {},
     "output_type": "execute_result"
    }
   ],
   "source": [
    "# Looking at first review\n",
    "movie_data.data[0:1]"
   ]
  },
  {
   "cell_type": "code",
   "execution_count": 8,
   "metadata": {},
   "outputs": [],
   "source": [
    "# Seperating  feature data from target data\n",
    "X,Y = movie_data.data,movie_data.target"
   ]
  },
  {
   "cell_type": "code",
   "execution_count": 9,
   "metadata": {},
   "outputs": [],
   "source": [
    "# Text preprocessing on feature data \n",
    "documents = []\n",
    "\n",
    "from nltk.stem import WordNetLemmatizer\n",
    "\n",
    "stemmer = WordNetLemmatizer()\n",
    "\n",
    "for sen in range(0, len(X)):  \n",
    "    # Remove all the special characters\n",
    "    document = re.sub(r'\\W', ' ', str(X[sen]))\n",
    "\n",
    "    # remove all single characters\n",
    "    document = re.sub(r'\\s+[a-zA-Z]\\s+', ' ', document)\n",
    "\n",
    "    # Remove single characters from the start\n",
    "    document = re.sub(r'\\^[a-zA-Z]\\s+', ' ', document) \n",
    "\n",
    "    # Substituting multiple spaces with single space\n",
    "    document = re.sub(r'\\s+', ' ', document, flags=re.I)\n",
    "\n",
    "    # Removing prefixed 'b'\n",
    "    document = re.sub(r'^b\\s+', '', document)\n",
    "\n",
    "    # Converting to Lowercase\n",
    "    document = document.lower()\n",
    "\n",
    "    # Lemmatization\n",
    "    document = document.split()\n",
    "\n",
    "    document = [stemmer.lemmatize(word) for word in document]\n",
    "    document = ' '.join(document)\n",
    "    documents.append(document) "
   ]
  },
  {
   "cell_type": "code",
   "execution_count": 62,
   "metadata": {},
   "outputs": [
    {
     "data": {
      "text/plain": [
       "'arnold schwarzenegger ha been an icon for action enthusiast since the late 80 but lately his film have been very sloppy and the one liner are getting worse nit hard seeing arnold a mr freeze in batman and robin especially when he say ton of ice joke but hey he got 15 million what it matter to him nonce again arnold ha signed to do another expensive blockbuster that can compare with the like of the terminator series true lie and even eraser nin this so called dark thriller the devil gabriel byrne'"
      ]
     },
     "execution_count": 62,
     "metadata": {},
     "output_type": "execute_result"
    }
   ],
   "source": [
    "# Checking if text is cleaned or not\n",
    "documents[0][:500]"
   ]
  },
  {
   "cell_type": "code",
   "execution_count": 11,
   "metadata": {},
   "outputs": [],
   "source": [
    "# Count Vectorization for feature data, this step will remove all stop words like 'is', 'the', 'a'.\n",
    "\n",
    "from sklearn.feature_extraction.text import CountVectorizer  \n",
    "vectorizer = CountVectorizer(max_features=1500, min_df=5, max_df=0.7, stop_words=stopwords.words('english'))  \n",
    "X = vectorizer.fit_transform(documents).toarray()  "
   ]
  },
  {
   "cell_type": "code",
   "execution_count": 12,
   "metadata": {},
   "outputs": [
    {
     "name": "stdout",
     "output_type": "stream",
     "text": [
      "{'action': 18, 'since': 1194, 'late': 703, '80': 7, 'liner': 735, 'getting': 539, 'worse': 1483, 'nit': 888, 'hard': 578, 'seeing': 1152, 'mr': 830, 'batman': 113, 'robin': 1110, 'especially': 411, 'say': 1130, 'ice': 618, 'joke': 671, 'got': 555, 'million': 807, 'matter': 781, 'nonce': 902, 'another': 62, 'series': 1163, 'true': 1377, 'lie': 728, 'even': 413, 'nin': 886, 'called': 180, 'dark': 300, 'thriller': 1341, 'devil': 331, 'come': 242, 'upon': 1398, 'earth': 376, 'woman': 1471, 'happens': 576, 'every': 417, 'year': 1494, 'basically': 112, 'world': 1482, 'apparently': 72, 'god': 549, 'man': 765, 'nwith': 935, 'help': 588, 'kevin': 681, 'stop': 1259, 'nothing': 906, 'let': 726, 'take': 1301, 'actually': 22, 'would': 1487, 'fit': 485, 'right': 1105, 'nyes': 936, 'weak': 1439, 'better': 130, 'make': 762, 'enough': 401, 'look': 744, 'star': 1245, 'definitely': 317, 'seem': 1153, 'type': 1390, 'see': 1151, 'nsure': 916, 'gave': 529, 'well': 1445, 'known': 693, 'seemed': 1154, 'confused': 258, 'going': 551, 'ending': 395, 'form': 506, 'still': 1257, 'much': 831, 'past': 975, 'ni': 880, 'maybe': 785, 'end': 394, 'day': 304, 'nthere': 920, 'hardly': 579, 'explosion': 433, 'fight': 471, 'made': 758, 'place': 998, 'least': 718, 'cool': 269, 'else': 390, 'also': 45, 'know': 692, 'took': 1354, 'long': 742, 'really': 1079, 'consider': 260, 'minute': 810, 'top': 1355, 'worth': 1485, 'budget': 170, 'gone': 552, 'script': 1145, 'audience': 96, 'could': 272, 'somewhat': 1221, 'instead': 643, 'get': 538, 'read': 1071, 'thing': 1332, 'sure': 1292, 'performance': 984, 'light': 730, 'poor': 1013, 'nwhen': 932, 'walk': 1427, 'street': 1265, 'feel': 463, 'looked': 745, 'guy': 567, 'creepy': 287, 'looking': 746, 'anyway': 67, 'ndon': 858, 'solid': 1216, 'flick': 490, 'neither': 864, 'doe': 351, 'due': 370, 'money': 819, 'entertaining': 402, 'experience': 431, 'good': 553, 'find': 481, 'beyond': 131, 'rare': 1064, 'life': 729, 'russell': 1121, 'two': 1389, 'rescue': 1094, 'na': 839, 'drama': 362, 'strong': 1267, 'subtle': 1280, 'acting': 17, 'intelligent': 645, 'directing': 339, 'together': 1350, 'delivers': 319, 'something': 1219, 'virtually': 1420, 'industry': 637, 'genuine': 536, 'story': 1261, 'strange': 1264, 'making': 763, 'move': 828, 'wife': 1454, 'played': 1003, 'ryan': 1122, 'real': 1074, 'married': 772, 'outside': 960, 'seen': 1157, 'chemistry': 217, 'actor': 19, 'masterpiece': 777, 'nbut': 854, 'review': 1100, 'around': 83, 'peter': 991, 'david': 303, 'american': 50, 'working': 1481, 'america': 49, 'anti': 64, 'government': 556, 'soldier': 1215, 'decide': 312, 'problem': 1037, 'company': 249, 'work': 1478, 'step': 1252, 'forward': 509, 'choice': 220, 'highly': 592, 'return': 1098, 'husband': 617, 'go': 547, 'wrong': 1492, 'always': 47, 'situation': 1200, 'team': 1314, 'includes': 631, 'surprising': 1295, 'casting': 200, 'hand': 571, 'simple': 1192, 'line': 734, 'creates': 283, 'complex': 253, 'vehicle': 1410, 'filled': 475, 'written': 1491, 'dialogue': 332, 'convincing': 268, 'based': 110, 'book': 150, 'screenwriter': 1144, 'biggest': 133, 'surprise': 1293, 'hell': 587, 'pull': 1052, 'gun': 566, 'humor': 614, 'cry': 294, 'lot': 749, 'many': 768, 'everyone': 418, 'camp': 185, 'hate': 581, 'provides': 1050, 'memorable': 792, 'turn': 1383, 'piece': 997, 'scene': 1134, 'extremely': 435, 'device': 330, 'amazing': 48, 'ndirector': 857, 'mix': 815, 'old': 947, 'school': 1135, 'style': 1276, 'filmmaking': 478, 'thinking': 1334, 'men': 794, 'face': 437, 'love': 751, 'war': 1431, 'night': 885, 'taken': 1302, 'early': 375, 'nhe': 874, 'run': 1118, 'last': 702, 'amusing': 53, 'battle': 114, 'result': 1097, 'mouth': 827, 'brain': 157, 'call': 179, 'deal': 307, 'nsince': 912, 'die': 333, 'able': 10, 'ntheir': 918, 'first': 484, 'town': 1363, 'without': 1469, 'ninstead': 887, 'girl': 542, 'course': 276, 'nice': 881, 'however': 610, 'young': 1498, 'nof': 899, 'probably': 1036, 'tell': 1320, 'plot': 1008, 'silly': 1189, 'seriously': 1165, 'unlike': 1397, 'eddie': 380, 'serious': 1164, 'nyou': 937, 'comedy': 244, 'laugh': 707, 'fine': 482, 'hero': 590, 'journey': 673, 'appealing': 74, 'voice': 1424, 'provide': 1049, 'truly': 1378, 'nso': 913, 'epic': 406, 'nif': 884, 'plenty': 1007, 'boring': 151, 'part': 969, 'mind': 808, 'start': 1247, 'nthat': 917, 'fair': 442, 'nall': 841, 'child': 218, 'given': 545, 'doubt': 357, 'chance': 210, 'nafter': 840, 'think': 1333, 'talent': 1305, 'effort': 386, 'wonder': 1472, 'director': 341, 'john': 669, 'latest': 705, 'success': 1281, 'ed': 379, 'wood': 1475, 'romance': 1114, 'nthough': 924, 'task': 1312, 'actress': 20, 'nshe': 911, 'nearly': 860, 'emotion': 391, 'mother': 825, 'memory': 793, 'son': 1223, 'supposed': 1291, 'show': 1182, 'may': 784, 'give': 544, 'thanks': 1328, 'hope': 602, 'keep': 678, 'moving': 829, 'nwhy': 934, 'remains': 1091, 'mystery': 838, 'though': 1337, 'nmaybe': 892, 'dramatic': 363, 'hour': 608, 'half': 569, 'political': 1012, 'killing': 687, 'country': 274, 'technical': 1315, 'credit': 286, 'bad': 104, 'blue': 144, 'screen': 1142, 'nalso': 842, 'odd': 941, 'obvious': 938, 'sound': 1228, 'le': 711, 'nand': 847, 'mistake': 814, 'extra': 434, 'different': 335, 'theme': 1330, 'opinion': 952, 'play': 1002, 'likely': 732, 'five': 486, 'boy': 155, 'taking': 1303, 'care': 191, 'rather': 1068, 'cause': 203, 'wanted': 1430, 'spend': 1236, 'writing': 1490, 'production': 1042, 'value': 1405, 'high': 591, 'nthis': 923, 'father': 457, 'wrote': 1493, 'directed': 338, 'best': 129, 'language': 700, 'couple': 275, 'saw': 1129, 'away': 99, 'oscar': 957, 'english': 397, 'people': 981, 'idea': 619, 'cross': 292, 'television': 1319, 'used': 1401, 'younger': 1499, 'thought': 1338, 'tv': 1385, 'brother': 165, 'hit': 596, 'head': 582, 'pretty': 1029, 'truman': 1379, 'jim': 666, 'carrey': 193, 'whose': 1452, 'entire': 404, 'public': 1051, 'living': 740, 'island': 655, 'giant': 541, 'set': 1166, 'hollywood': 599, 'sign': 1187, 'watch': 1435, 'live': 739, 'commercial': 247, 'product': 1041, 'friend': 518, 'tone': 1353, 'rise': 1106, 'neven': 865, 'detail': 326, 'trailer': 1366, 'anything': 66, 'far': 451, 'entertainment': 403, 'news': 869, 'way': 1438, 'premise': 1024, 'otherwise': 959, 'begin': 122, 'alive': 38, 'weird': 1444, 'stage': 1242, 'dead': 306, 'nwe': 929, 'learn': 716, 'flashback': 487, 'death': 308, 'put': 1056, 'fear': 461, 'water': 1437, 'leaving': 720, 'truth': 1380, 'ever': 416, 'eye': 436, 'emotional': 392, 'music': 834, 'never': 866, 'behind': 124, 'harry': 580, 'capture': 189, 'key': 682, 'direction': 340, 'comic': 245, 'sense': 1159, 'drive': 366, 'talking': 1308, 'nmost': 894, 'interesting': 649, 'follow': 496, 'along': 43, 'person': 988, 'camera': 183, 'imagine': 623, 'genre': 535, '90': 8, 'reality': 1076, 'jerry': 665, 'use': 1400, 'done': 354, 'name': 844, 'mean': 786, 'word': 1477, 'air': 35, 'none': 903, 'happen': 574, 'machine': 756, 'hong': 601, 'kong': 694, 'stunt': 1274, 'stuff': 1272, 'want': 1429, 'admit': 27, 'double': 356, 'stick': 1256, 'quick': 1060, 'hot': 606, 'jean': 662, 'van': 1407, 'career': 192, 'dumb': 372, 'mess': 799, 'fun': 522, 'jack': 657, 'ex': 421, 'agent': 33, 'brought': 166, 'back': 102, 'mission': 813, 'phone': 993, 'named': 845, 'trick': 1372, 'wear': 1441, 'nan': 846, 'park': 967, 'private': 1035, 'various': 1408, 'house': 609, 'plane': 1000, 'car': 190, 'become': 119, 'shoot': 1178, 'filmed': 476, 'nthey': 922, 'reason': 1080, 'us': 1399, 'foot': 500, 'often': 945, 'touch': 1358, 'family': 447, 'bit': 136, 'human': 612, 'element': 388, 'playing': 1005, 'weapon': 1440, 'funny': 523, 'natural': 850, 'deserves': 321, 'fast': 455, 'murder': 832, 'new': 868, 'fact': 438, 'sam': 1125, 'tried': 1373, 'little': 738, 'everything': 419, 'wide': 1453, 'suspect': 1297, 'red': 1085, 'deep': 316, 'front': 519, 'found': 510, 'fairly': 443, 'killer': 686, 'ultimately': 1392, 'cast': 199, 'fill': 474, 'simply': 1193, 'watching': 1436, 'recently': 1082, 'three': 1339, 'giving': 546, 'reading': 1072, 'nsome': 914, 'include': 630, 'buddy': 169, 'mysterious': 837, 'somehow': 1217, 'nfor': 872, 'merely': 798, 'future': 524, 'nher': 875, 'told': 1351, 'remember': 1093, 'involved': 652, 'meet': 790, 'king': 689, 'immediately': 624, 'nat': 849, 'party': 973, 'lawyer': 710, 'possibly': 1019, 'happened': 575, 'home': 600, 'level': 727, '1999': 5, 'game': 526, 'picture': 996, 'several': 1169, 'viewer': 1415, 'intriguing': 650, 'individual': 636, 'mark': 770, 'horror': 604, 'center': 204, 'talented': 1306, 'protagonist': 1047, 'realistic': 1075, 'trouble': 1376, 'attitude': 95, 'towards': 1362, 'material': 779, 'might': 803, 'bright': 160, 'performer': 985, 'role': 1113, 'following': 497, 'win': 1459, 'excellent': 424, 'leave': 719, 'difficult': 336, 'believe': 127, 'ability': 9, 'room': 1116, 'slow': 1206, 'understand': 1393, 'dream': 365, 'small': 1208, 'turned': 1384, 'yet': 1496, 'stunning': 1273, 'supporting': 1289, 'usual': 1403, 'impression': 628, 'aspect': 90, 'atmosphere': 91, 'almost': 41, 'editing': 382, 'bob': 147, 'successful': 1282, 'effect': 384, 'score': 1139, 'christopher': 223, 'scary': 1133, 'screenplay': 1143, 'billy': 135, 'tom': 1352, 'setting': 1167, 'thrill': 1340, 'offer': 942, 'share': 1175, 'original': 956, 'ride': 1103, 'running': 1119, 'despite': 325, 'whatever': 1448, 'flaw': 489, 'thin': 1331, '20': 6, 'saving': 1128, 'necessary': 861, 'evil': 420, 'moral': 823, 'waste': 1433, 'nwhile': 933, 'realize': 1077, 'great': 559, 'message': 800, 'point': 1009, 'view': 1414, 'cinematography': 226, 'question': 1059, 'fighting': 472, 'beauty': 117, 'present': 1026, 'whether': 1449, 'angry': 57, 'coming': 246, 'sometimes': 1220, 'image': 621, 'already': 44, 'completely': 252, 'self': 1158, 'shot': 1181, 'across': 15, 'hill': 594, 'toward': 1361, 'nick': 883, 'trying': 1382, 'captain': 188, 'blood': 142, 'cannot': 187, 'travolta': 1369, 'george': 537, 'worst': 1484, 'cameo': 182, 'interest': 647, 'lack': 696, 'clearly': 232, 'nwhat': 931, 'law': 709, 'crowd': 293, 'romantic': 1115, 'state': 1248, 'lead': 712, 'must': 836, 'familiar': 446, 'nnow': 898, 'heard': 584, 'crazy': 280, 'nno': 896, 'teenage': 1317, 'witch': 1467, 'girlfriend': 543, 'someone': 1218, 'big': 132, 'dance': 298, 'date': 301, 'teen': 1316, 'surprisingly': 1296, 'term': 1324, 'wait': 1425, '10': 1, 'writer': 1489, 'write': 1488, 'smart': 1209, 'nhere': 876, 'njust': 889, 'kid': 683, 'job': 667, 'finally': 480, 'case': 197, 'second': 1149, 'song': 1224, 'brief': 159, 'fi': 468, 'fan': 449, 'note': 905, 'appearance': 76, 'stephen': 1253, 'trek': 1371, 'motion': 826, 'final': 479, '13': 2, 'cinema': 224, 'history': 595, 'cut': 296, 'alien': 37, 'wild': 1455, 'bunch': 174, 'blade': 139, 'example': 423, 'filmmaker': 477, 'later': 704, 'studio': 1271, 'classic': 230, 'release': 1088, 'version': 1411, 'professional': 1044, 'player': 1004, 'certain': 207, 'including': 632, 'search': 1147, 'store': 1260, 'follows': 498, 'crew': 288, 'danny': 299, 'next': 870, 'door': 355, 'drug': 368, 'cop': 270, 'kill': 684, 'apartment': 69, 'save': 1127, 'learns': 717, 'decides': 314, 'fall': 445, 'manages': 766, 'within': 1468, 'kept': 680, 'difference': 334, 'contains': 265, 'footage': 501, 'relationship': 1087, 'development': 329, 'handle': 572, 'involving': 654, 'french': 516, 'queen': 1058, 'la': 695, 'brings': 163, 'draw': 364, 'bond': 149, 'missing': 812, 'becomes': 120, 'heavy': 586, 'beginning': 123, 'nmy': 895, 'throw': 1343, 'twenty': 1386, 'pick': 995, 'cinematic': 225, 'producer': 1040, 'starring': 1246, 'sex': 1170, 'expect': 428, 'summer': 1285, 'male': 764, 'adult': 28, 'boyfriend': 156, 'wish': 1465, 'parent': 966, 'talk': 1307, 'hair': 568, 'single': 1196, 'rich': 1101, 'entirely': 405, 'depth': 320, 'fascinating': 453, 'superb': 1286, 'seems': 1156, 'throughout': 1342, 'charm': 213, 'ndespite': 856, 'limited': 733, 'quite': 1062, 'middle': 802, 'large': 701, 'perhaps': 986, 'totally': 1357, 'daughter': 302, 'pleasure': 1006, 'carter': 195, 'pathetic': 976, 'sweet': 1299, 'british': 164, 'appears': 77, 'treat': 1370, 'woody': 1476, 'allen': 39, 'steal': 1251, 'attempt': 93, 'except': 425, 'minor': 809, 'nfirst': 871, 'subplot': 1279, 'lover': 753, 'elizabeth': 389, 'novel': 908, 'tale': 1304, 'criminal': 290, 'conclusion': 256, 'de': 305, 'rock': 1111, 'genius': 534, 'nnot': 897, 'produced': 1039, 'max': 783, 'soon': 1225, 'stand': 1243, 'visit': 1422, 'woo': 1474, 'thrown': 1344, 'personality': 990, 'asks': 89, 'thus': 1345, 'spent': 1238, 'black': 138, 'occasionally': 940, 'quickly': 1061, 'change': 211, 'cliche': 234, 'number': 926, 'suspense': 1298, 'discovers': 345, 'purpose': 1055, 'body': 148, 'possible': 1018, 'wasted': 1434, 'appear': 75, 'debut': 309, 'chris': 221, 'saying': 1131, 'nto': 925, 'certainly': 208, 'pop': 1015, 'pointless': 1010, 'complete': 251, 'predictable': 1023, 'period': 987, 'frank': 514, 'singer': 1195, 'york': 1497, 'struggle': 1268, 'club': 237, 'robert': 1109, 'track': 1365, 'suddenly': 1283, 'figure': 473, 'scream': 1141, 'relief': 1090, 'video': 1413, 'said': 1124, 'target': 1310, 'impossible': 627, 'member': 791, 'important': 626, 'record': 1084, 'oh': 946, 'whole': 1451, 'pain': 964, 'stay': 1250, 'tim': 1346, 'burton': 175, 'brilliant': 161, 'crap': 278, 'planet': 1001, 'ape': 70, 'force': 502, 'impact': 625, 'co': 238, 'project': 1045, 'enjoyable': 399, 'lose': 747, 'ship': 1176, 'space': 1230, 'crash': 279, 'land': 699, 'century': 206, 'fox': 512, 'group': 563, 'slave': 1204, 'paul': 979, 'kind': 688, 'fellow': 465, 'escape': 410, 'general': 531, 'michael': 801, 'band': 106, 'horrible': 603, 'ball': 105, 'physical': 994, 'presence': 1025, 'carry': 194, 'sequence': 1162, 'remake': 1092, 'intelligence': 644, 'wit': 1466, 'specie': 1233, 'military': 806, 'amount': 52, 'ridiculous': 1104, 'shallow': 1173, 'main': 760, 'edward': 383, 'adventure': 29, 'suppose': 1290, 'bill': 134, 'monster': 820, 'gay': 530, 'james': 660, 'viewing': 1416, 'came': 181, 'fantasy': 450, 'went': 1446, 'decided': 313, 'age': 32, 'became': 118, 'opening': 951, 'answer': 63, 'nbecause': 852, 'episode': 407, 'exactly': 422, 'white': 1450, 'becoming': 121, 'moment': 818, 'seemingly': 1155, 'forced': 503, 'sexual': 1171, 'liked': 731, 'apart': 68, 'sad': 1123, 'others': 958, 'knew': 691, 'meant': 788, 'sort': 1226, 'nalthough': 843, 'feeling': 464, 'hold': 597, 'guess': 565, 'tension': 1323, 'slowly': 1207, 'build': 172, 'felt': 466, 'bar': 108, 'side': 1185, 'fully': 521, 'meaning': 787, 'left': 723, 'anyone': 65, 'personal': 989, 'business': 176, 'satire': 1126, 'jackson': 659, 'plan': 999, 'pay': 980, 'unfunny': 1395, 'race': 1063, 'effective': 385, 'hear': 583, 'support': 1288, 'match': 778, 'gag': 525, 'bizarre': 137, 'mad': 757, 'scientist': 1138, 'dr': 360, 'average': 97, 'joe': 668, 'mike': 804, 'subject': 1278, 'favorite': 459, 'science': 1137, 'theater': 1329, 'nicely': 882, 'dog': 352, 'spends': 1237, 'catch': 201, 'break': 158, 'wise': 1464, 'murphy': 833, 'sit': 1198, 'sci': 1136, 'hilarious': 593, 'explain': 432, 'wind': 1460, 'although': 46, 'introduced': 651, 'bring': 162, 'short': 1180, 'concept': 255, 'full': 520, 'annoying': 61, 'laughing': 708, 'straight': 1263, 'overall': 961, 'crime': 289, 'fire': 483, 'earlier': 374, 'twist': 1388, 'hundred': 616, 'bos': 153, 'police': 1011, 'winner': 1462, 'academy': 12, 'award': 98, 'greatest': 560, 'obviously': 939, 'detective': 327, 'released': 1089, 'revenge': 1099, 'shooting': 1179, 'cash': 198, 'terrific': 1326, 'rest': 1096, 'violence': 1418, 'open': 950, 'contact': 264, 'building': 173, 'expectation': 429, 'created': 282, 'prof': 1043, 'spirit': 1240, 'huge': 611, 'system': 1300, 'particularly': 971, 'asked': 88, 'powerful': 1022, 'eventually': 415, 'month': 821, 'caught': 202, 'medium': 789, 'join': 670, 'desperate': 324, 'among': 51, 'ready': 1073, 'spot': 1241, 'failed': 439, 'belief': 125, 'president': 1028, 'nfrom': 873, 'power': 1021, 'process': 1038, 'near': 859, 'free': 515, 'telling': 1321, 'cameron': 184, 'born': 152, 'order': 955, 'famous': 448, 'lost': 748, 'costume': 271, 'title': 1348, 'musical': 835, 'exception': 426, 'cover': 277, 'energy': 396, 'flat': 488, 'city': 227, 'baby': 101, 'sitting': 1199, 'four': 511, 'martin': 774, 'suit': 1284, 'speak': 1231, 'appeal': 73, 'road': 1108, 'drag': 361, 'low': 754, 'quality': 1057, 'appropriate': 80, 'pace': 963, 'wonderful': 1473, 'potential': 1020, 'stuck': 1269, 'nhis': 877, 'angel': 55, 'generation': 533, 'fresh': 517, 'poorly': 1014, 'perfect': 982, 'rate': 1066, 'slightly': 1205, 'heart': 585, 'equally': 408, 'reach': 1070, 'exciting': 427, 'gang': 527, 'intended': 646, 'loved': 752, 'blair': 140, 'phantom': 992, 'menace': 795, 'worked': 1479, 'nwell': 930, 'dollar': 353, 'absolutely': 11, 'try': 1381, 'test': 1327, 'noh': 900, 'lady': 697, 'folk': 495, 'chase': 215, 'recommend': 1083, 'imagination': 622, 'create': 281, 'either': 387, 'snake': 1212, 'need': 862, 'special': 1232, 'awful': 100, 'count': 273, 'constantly': 263, 'bank': 107, 'approach': 79, 'prison': 1033, 'wedding': 1442, 'mention': 796, 'titanic': 1347, 'adam': 23, 'recent': 1081, 'happy': 577, 'soul': 1227, 'julia': 675, 'allows': 40, 'matthew': 782, 'interested': 648, 'yes': 1495, 'particular': 970, 'nunfortunately': 928, 'inside': 640, 'trip': 1374, 'pure': 1054, 'touching': 1359, 'expected': 430, '1998': 4, 'magic': 759, 'realized': 1078, 'victim': 1412, 'focus': 494, 'numerous': 927, 'easily': 377, 'close': 236, 'information': 638, 'fashion': 454, 'modern': 817, 'college': 240, 'student': 1270, 'field': 470, 'animal': 58, 'edge': 381, 'sister': 1197, 'fate': 456, 'animated': 59, 'central': 205, 'soundtrack': 1229, 'art': 84, 'adaptation': 24, 'lame': 698, 'impressive': 629, 'fiction': 469, 'disney': 346, 'miss': 811, 'dozen': 359, 'formula': 508, 'decision': 315, 'driver': 367, 'control': 267, 'owner': 962, 'actual': 21, 'winning': 1463, 'shock': 1177, 'major': 761, 'green': 561, 'usually': 1404, 'comedic': 243, 'generally': 532, 'developed': 328, 'hole': 598, 'nperhaps': 910, 'blame': 141, 'former': 507, 'notice': 907, 'villain': 1417, 'leaf': 715, 'nhowever': 879, 'strike': 1266, 'barely': 109, 'sight': 1186, 'indeed': 635, 'opportunity': 953, 'accent': 13, 'perfectly': 983, 'humorous': 615, 'clever': 233, 'society': 1214, 'today': 1349, 'ago': 34, 'christmas': 222, 'vega': 1409, 'showing': 1183, 'latter': 706, 'add': 25, 'affair': 30, 'fake': 444, 'using': 1402, 'prove': 1048, 'presented': 1027, 'etc': 412, 'popular': 1016, 'train': 1367, 'alone': 42, 'sequel': 1161, 'third': 1335, 'nthen': 919, 'charming': 214, 'feature': 462, 'length': 725, 'class': 229, 'travel': 1368, 'speech': 1234, 'jones': 672, 'loud': 750, 'steve': 1254, 'smile': 1210, 'wall': 1428, 'smith': 1211, 'culture': 295, 'nlet': 890, 'inspired': 641, 'grace': 557, 'desire': 323, 'appreciate': 78, 'respect': 1095, 'previous': 1030, 'enjoy': 398, 'mood': 822, 'design': 322, 'vision': 1421, 'nstill': 915, 'critic': 291, 'nby': 855, 'discover': 344, 'climax': 235, 'innocent': 639, 'instance': 642, 'hotel': 607, 'ask': 87, 'guard': 564, 'jump': 677, 'unique': 1396, 'shame': 1174, 'storyline': 1262, 'visual': 1423, '1997': 3, 'box': 154, 'office': 943, 'sean': 1146, 'leading': 714, 'legend': 724, 'non': 901, 'promise': 1046, 'nlike': 891, 'background': 103, 'onto': 949, 'nevery': 867, 'local': 741, 'act': 16, 'alan': 36, 'reference': 1086, 'needed': 863, 'fails': 440, 'price': 1031, 'nmeanwhile': 893, 'female': 467, 'master': 776, 'easy': 378, 'apparent': 71, 'twice': 1387, 'graphic': 558, 'mostly': 824, 'cheap': 216, 'richard': 1102, '000': 0, 'superior': 1287, 'killed': 685, 'nature': 851, 'beautiful': 116, 'claim': 228, 'issue': 656, 'spielberg': 1239, 'list': 736, 'officer': 944, 'manner': 767, 'social': 1213, 'jeff': 663, 'anderson': 54, 'ten': 1322, 'rated': 1067, 'roger': 1112, 'speed': 1235, 'pulp': 1053, 'tarantino': 1309, 'lucas': 755, 'similar': 1190, 'ii': 620, 'beat': 115, 'nhow': 878, 'shown': 1184, 'angle': 56, 'continues': 266, 'older': 948, 'terrible': 1325, 'floor': 491, 'doctor': 349, 'patient': 977, 'standard': 1244, 'basic': 111, 'incredibly': 634, 'dull': 371, 'stupid': 1275, 'considering': 262, 'attack': 92, 'cute': 297, 'dimensional': 337, 'thomas': 1336, 'considered': 261, 'pas': 974, 'believable': 126, 'rule': 1117, 'jr': 674, 'ben': 128, 'affleck': 31, 'parody': 968, 'gangster': 528, 'nthese': 921, 'dy': 373, 'decent': 311, 'decade': 310, 'accident': 14, 'jason': 661, 'encounter': 393, 'sent': 1160, 'mar': 769, 'somewhere': 1222, 'secret': 1150, 'enjoyed': 400, 'computer': 254, 'teacher': 1313, 'common': 248, 'literally': 737, 'lee': 722, 'gore': 554, 'longer': 743, 'typical': 1391, 'bug': 171, 'normal': 904, 'partner': 972, 'attention': 94, 'color': 241, 'henry': 589, 'west': 1447, 'involves': 653, 'william': 1456, 'worker': 1480, 'douglas': 358, 'waiting': 1426, 'surprised': 1294, 'patrick': 978, 'era': 409, 'week': 1443, 'seven': 1168, 'jackie': 658, 'chan': 209, 'martial': 773, 'artist': 85, 'skill': 1202, 'board': 145, 'rush': 1120, 'cage': 178, 'disappointing': 342, 'ghost': 540, 'food': 499, 'mary': 775, 'incredible': 633, 'addition': 26, 'mentioned': 797, 'cold': 239, 'princess': 1032, 'fare': 452, 'bruce': 168, 'tarzan': 1311, 'fbi': 460, 'jennifer': 664, 'dude': 369, 'godzilla': 550, 'creature': 285, 'horse': 605, 'steven': 1255, 'mile': 805, 'fault': 458, 'brown': 167, 'witty': 1470, 'pair': 965, 'kelly': 679, 'campbell': 186, 'slasher': 1203, 'aside': 86, 'silent': 1188, 'station': 1249, 'nowhere': 909, 'disturbing': 348, 'goal': 548, 'characterization': 212, 'clear': 231, 'portrayal': 1017, 'deliver': 318, 'creating': 284, 'ground': 562, 'williams': 1457, 'forever': 504, 'event': 414, 'led': 721, 'humanity': 613, 'conflict': 257, 'flying': 493, 'rating': 1069, 'marriage': 771, 'disaster': 343, 'animation': 60, 'leader': 713, 'warrior': 1432, 'teenager': 1318, 'comparison': 250, 'prisoner': 1034, 'six': 1201, 'unfortunately': 1394, 'cartoon': 196, 'model': 816, 'failure': 441, 'nanother': 848, 'kiss': 690, 'hank': 573, 'sub': 1277, 'shakespeare': 1172, 'blow': 143, 'simon': 1191, 'buy': 177, 'stone': 1258, 'trooper': 1375, 'display': 347, 'fly': 492, 'scott': 1140, 'frame': 513, 'worthy': 1486, 'documentary': 350, 'seat': 1148, 'nboth': 853, 'violent': 1419, 'hall': 570, 'total': 1356, 'willis': 1458, 'army': 82, 'tough': 1360, 'window': 1461, 'boat': 146, 'rarely': 1065, 'chinese': 219, 'forget': 505, 'confusing': 259, 'julie': 676, 'matrix': 780, 'opposite': 954, 'scare': 1132, 'arm': 81, 'vampire': 1406, 'rising': 1107, 'toy': 1364}\n"
     ]
    }
   ],
   "source": [
    "print(vectorizer.vocabulary_)"
   ]
  },
  {
   "cell_type": "code",
   "execution_count": 13,
   "metadata": {},
   "outputs": [],
   "source": [
    "# Tfidf Transformer will give more weights to less occuring words\n",
    "\n",
    "from sklearn.feature_extraction.text import TfidfTransformer  \n",
    "tfidfconverter = TfidfTransformer()  \n",
    "X = tfidfconverter.fit_transform(X).toarray() "
   ]
  },
  {
   "cell_type": "code",
   "execution_count": 16,
   "metadata": {},
   "outputs": [
    {
     "name": "stdout",
     "output_type": "stream",
     "text": [
      "[4.06880284 3.37565566 4.2193757  3.99623215 3.94744198 4.10159266\n",
      " 4.11276596 4.09054283 3.71105321 3.48941455]\n"
     ]
    }
   ],
   "source": [
    "print(tfidfconverter.idf_[:10])"
   ]
  },
  {
   "cell_type": "code",
   "execution_count": 17,
   "metadata": {},
   "outputs": [],
   "source": [
    "# Spliting feature data and target data into training data and testing data\n",
    "\n",
    "from sklearn.model_selection import train_test_split  \n",
    "X_train, X_test, y_train, y_test = train_test_split(X, Y, test_size=0.2, random_state=0) "
   ]
  },
  {
   "cell_type": "code",
   "execution_count": 18,
   "metadata": {},
   "outputs": [],
   "source": [
    "# Importing grid search for best params \n",
    "from sklearn.model_selection import GridSearchCV"
   ]
  },
  {
   "cell_type": "code",
   "execution_count": 21,
   "metadata": {},
   "outputs": [],
   "source": [
    "params = {\n",
    "    'n_estimators': [10,100,500,1000,5000],\n",
    "    'random_state' : [1,2,3,4,5]\n",
    "}\n",
    "\n",
    "classifier = RandomForestClassifier()  "
   ]
  },
  {
   "cell_type": "code",
   "execution_count": 23,
   "metadata": {},
   "outputs": [],
   "source": [
    "gs = GridSearchCV(classifier,param_grid=params,cv = 5,n_jobs= -1)"
   ]
  },
  {
   "cell_type": "code",
   "execution_count": 25,
   "metadata": {},
   "outputs": [
    {
     "data": {
      "text/plain": [
       "GridSearchCV(cv=5, error_score='raise-deprecating',\n",
       "       estimator=RandomForestClassifier(bootstrap=True, class_weight=None, criterion='gini',\n",
       "            max_depth=None, max_features='auto', max_leaf_nodes=None,\n",
       "            min_impurity_decrease=0.0, min_impurity_split=None,\n",
       "            min_samples_leaf=1, min_samples_split=2,\n",
       "            min_weight_fraction_leaf=0.0, n_estimators='warn', n_jobs=None,\n",
       "            oob_score=False, random_state=None, verbose=0,\n",
       "            warm_start=False),\n",
       "       fit_params=None, iid='warn', n_jobs=-1,\n",
       "       param_grid={'n_estimators': [10, 100, 500, 1000, 5000], 'random_state': [1, 2, 3, 4, 5]},\n",
       "       pre_dispatch='2*n_jobs', refit=True, return_train_score='warn',\n",
       "       scoring=None, verbose=0)"
      ]
     },
     "execution_count": 25,
     "metadata": {},
     "output_type": "execute_result"
    }
   ],
   "source": [
    "# Training Data (this takes time)\n",
    "gs.fit(X_train,y_train)"
   ]
  },
  {
   "cell_type": "code",
   "execution_count": 26,
   "metadata": {},
   "outputs": [
    {
     "data": {
      "text/plain": [
       "{'n_estimators': 5000, 'random_state': 3}"
      ]
     },
     "execution_count": 26,
     "metadata": {},
     "output_type": "execute_result"
    }
   ],
   "source": [
    "# Finding best params\n",
    "gs.best_params_"
   ]
  },
  {
   "cell_type": "code",
   "execution_count": 27,
   "metadata": {},
   "outputs": [
    {
     "data": {
      "text/plain": [
       "0.82125"
      ]
     },
     "execution_count": 27,
     "metadata": {},
     "output_type": "execute_result"
    }
   ],
   "source": [
    "# Best cv score\n",
    "gs.best_score_"
   ]
  },
  {
   "cell_type": "code",
   "execution_count": 28,
   "metadata": {},
   "outputs": [],
   "source": [
    "# Predicting results for test data\n",
    "y_pred = gs.predict(X_test)  "
   ]
  },
  {
   "cell_type": "code",
   "execution_count": 29,
   "metadata": {},
   "outputs": [
    {
     "name": "stdout",
     "output_type": "stream",
     "text": [
      "[[176  32]\n",
      " [ 32 160]]\n",
      "              precision    recall  f1-score   support\n",
      "\n",
      "           0       0.85      0.85      0.85       208\n",
      "           1       0.83      0.83      0.83       192\n",
      "\n",
      "   micro avg       0.84      0.84      0.84       400\n",
      "   macro avg       0.84      0.84      0.84       400\n",
      "weighted avg       0.84      0.84      0.84       400\n",
      "\n",
      "0.84\n"
     ]
    }
   ],
   "source": [
    "# Confusion matrix and score for Random Forest\n",
    "from sklearn.metrics import classification_report, confusion_matrix, accuracy_score\n",
    "\n",
    "print(confusion_matrix(y_test,y_pred))  \n",
    "print(classification_report(y_test,y_pred))  \n",
    "print(accuracy_score(y_test, y_pred)) "
   ]
  },
  {
   "cell_type": "code",
   "execution_count": 30,
   "metadata": {},
   "outputs": [
    {
     "name": "stdout",
     "output_type": "stream",
     "text": [
      "[[160  48]\n",
      " [ 34 158]]\n",
      "              precision    recall  f1-score   support\n",
      "\n",
      "           0       0.82      0.77      0.80       208\n",
      "           1       0.77      0.82      0.79       192\n",
      "\n",
      "   micro avg       0.80      0.80      0.80       400\n",
      "   macro avg       0.80      0.80      0.79       400\n",
      "weighted avg       0.80      0.80      0.80       400\n",
      "\n",
      "0.795\n"
     ]
    }
   ],
   "source": [
    "# Checking and comparing with MultinomialNB\n",
    "classifier = MultinomialNB()  \n",
    "classifier.fit(X_train, y_train) \n",
    "y_pred = classifier.predict(X_test)  \n",
    "print(confusion_matrix(y_test,y_pred))  \n",
    "print(classification_report(y_test,y_pred))  \n",
    "print(accuracy_score(y_test, y_pred)) "
   ]
  },
  {
   "cell_type": "code",
   "execution_count": 31,
   "metadata": {},
   "outputs": [
    {
     "name": "stdout",
     "output_type": "stream",
     "text": [
      "[[168  40]\n",
      " [ 28 164]]\n",
      "              precision    recall  f1-score   support\n",
      "\n",
      "           0       0.86      0.81      0.83       208\n",
      "           1       0.80      0.85      0.83       192\n",
      "\n",
      "   micro avg       0.83      0.83      0.83       400\n",
      "   macro avg       0.83      0.83      0.83       400\n",
      "weighted avg       0.83      0.83      0.83       400\n",
      "\n",
      "0.83\n"
     ]
    }
   ],
   "source": [
    "# Checking and comparing with SVC\n",
    "\n",
    "classifier = SVC(kernel='rbf',C=1000, gamma='auto')  \n",
    "classifier.fit(X_train, y_train) \n",
    "y_pred = classifier.predict(X_test)  \n",
    "print(confusion_matrix(y_test,y_pred))  \n",
    "print(classification_report(y_test,y_pred))  \n",
    "print(accuracy_score(y_test, y_pred)) "
   ]
  },
  {
   "cell_type": "code",
   "execution_count": 32,
   "metadata": {},
   "outputs": [
    {
     "name": "stdout",
     "output_type": "stream",
     "text": [
      "[[168  40]\n",
      " [ 28 164]]\n",
      "              precision    recall  f1-score   support\n",
      "\n",
      "           0       0.86      0.81      0.83       208\n",
      "           1       0.80      0.85      0.83       192\n",
      "\n",
      "   micro avg       0.83      0.83      0.83       400\n",
      "   macro avg       0.83      0.83      0.83       400\n",
      "weighted avg       0.83      0.83      0.83       400\n",
      "\n",
      "0.83\n"
     ]
    }
   ],
   "source": [
    "# Checking and comparing with LogisticRegression\n",
    "classifier = LogisticRegression(solver = 'lbfgs')  \n",
    "classifier.fit(X_train, y_train) \n",
    "y_pred = classifier.predict(X_test)  \n",
    "print(confusion_matrix(y_test,y_pred))  \n",
    "print(classification_report(y_test,y_pred))  \n",
    "print(accuracy_score(y_test, y_pred)) "
   ]
  },
  {
   "cell_type": "markdown",
   "metadata": {},
   "source": [
    "# Finding similar reviews with cosine similarity, this can be used to find profiles with similar details"
   ]
  },
  {
   "cell_type": "code",
   "execution_count": 34,
   "metadata": {},
   "outputs": [],
   "source": [
    "from sklearn.metrics.pairwise import cosine_similarity"
   ]
  },
  {
   "cell_type": "code",
   "execution_count": 35,
   "metadata": {},
   "outputs": [],
   "source": [
    "res = cosine_similarity(X)"
   ]
  },
  {
   "cell_type": "code",
   "execution_count": 36,
   "metadata": {},
   "outputs": [
    {
     "data": {
      "text/plain": [
       "(2000, 2000)"
      ]
     },
     "execution_count": 36,
     "metadata": {},
     "output_type": "execute_result"
    }
   ],
   "source": [
    "res.shape"
   ]
  },
  {
   "cell_type": "code",
   "execution_count": 50,
   "metadata": {},
   "outputs": [],
   "source": [
    "d = pd.Series(data =res[99:100][0])"
   ]
  },
  {
   "cell_type": "code",
   "execution_count": 51,
   "metadata": {},
   "outputs": [
    {
     "data": {
      "text/plain": [
       "99      1.000000\n",
       "1869    0.443045\n",
       "1355    0.411150\n",
       "173     0.382429\n",
       "1635    0.287857\n",
       "1044    0.265687\n",
       "1961    0.260260\n",
       "1750    0.256967\n",
       "242     0.250926\n",
       "481     0.240499\n",
       "dtype: float64"
      ]
     },
     "execution_count": 51,
     "metadata": {},
     "output_type": "execute_result"
    }
   ],
   "source": [
    "d.sort_values(ascending=False)[:10]"
   ]
  },
  {
   "cell_type": "code",
   "execution_count": null,
   "metadata": {},
   "outputs": [],
   "source": [
    "# Most simolar review to review at 99 is review at 1869 with a 44% match"
   ]
  },
  {
   "cell_type": "code",
   "execution_count": 54,
   "metadata": {},
   "outputs": [
    {
     "name": "stdout",
     "output_type": "stream",
     "text": [
      "b'if there were a subject just screaming to be made into a film , it was studio 54 , the late steve rubell\\'s infamous new york discotheque , which came to symbolize the taboo-smashing excesses of the disco era\\'s heyday : easy drugs and even easier sex between everyone , all set to a thumping dance beat . \\nso when miramax started production on _54_ last year , the buzz of hype and resulting anticipation began : an edgy film as down-and-dirty as the club itself , written and directed by a promising first-timer ( mark christopher ) and starring some hot young talent ( salma hayek , neve campbell , newcomer ryan phillippe , and mike myers in his dramatic debut ) . \\nmy , how easily does the worm turn . \\nhype turned into damage control when word got out about 11th-hour reshoots ( wrapped only a month ago ) , a rash of studio-imposed edits that left virtually the entire cast and crew ( especially christopher ) unhappy , and the very likely possibility that miramax would not screen the finished film for critics . \\nat the last minute , though , miramax did decide to screen the film ( so hastily scheduled was the screening that myers\\'s last name was misspelled on the invitation , not to mention the numerous typos in the press notes ) for a media audience that came away noticeably less than impressed , myself included . \\nand with good reason--somehow , some way , the supremely disappointing _54_ has made the historically hip haven of hedonism . . . \\nboring . \\nalthough christopher has distanced himself from the finished film , he still must shoulder some of the blame for _54_\\'s lifelessness . \\n_54_ focuses , for the most part , on a tight-knit trio of employees at the club : coat check girl/aspiring disco diva anita ( a wasted hayek ) ; her busboy husband , greg ( breckin meyer ) ; and , most prominently , the fresh-from-jersey shane o\\'shea ( phillippe ) , who enjoys a quick rise from busboy to head bartender . \\nthese characters are about as generic as those descriptions . \\nin focusing on the hired help , christopher really missed the boat . \\nwith the exception of the flamboyant , always-woozy rubell ( myers , in a well-modulated turn ) , the meaty stories to be told at studio 54 are not the workers\\' but those of the people who went there to party ; not necessarily the numerous vip guests , but the wild eccentrics who managed to be picked from the crowd by the club\\'s famously hard-ass doormen and dance ( among other things ) the night away with the rich , famous , and infamous ( the only taste of the crowd comes by way of ellen dow\\'s feisty dottie , a disco- and drug-crazed granny , but she\\'s a peripheral character at best ) . \\nas such , aside from the expected overhead crowd shots , there is precious little actual _dancing_ in _54_ . \\nwhat is a disco film--especially one about the pinnacle of the movement--without the dancing ? \\neven whit stillman\\'s _the_last_days_of_disco_ , which wasn\\'t so much concerned with disco as it was witty dialogue within a group of hip-to-only-themselves club-hopping preppies , featured at least one extended dance scene . \\ndancing isn\\'t the only thing glazed over in _54_--so is the sex , but that may not be entirely christopher\\'s fault . \\nfrom what i\\'ve heard , his original vision was something considerably more dark and daring , starting with the shane character : he was conceived ( and actually filmed ) as a wild , morally ambiguous bisexual , which would have made an efficient springboard to cover the pansexual pleasure palace aspect of studio 54\\'s legend . \\nbut somewhere between principal photography and the final cut , shane was defanged and quite literally straightened out ; consequently , so was the film . \\naside from a brief glimpse of erotic encounters toward the beginning of the film , shane\\'s fleeting dalliance with seductive socialite billie ( sela ward ) , and an abbreviated bedhopping montage , the sexual dimension is just about ignored . \\nshane , in this incarnation , is sanitized to the point of blandness , an idealistic do-gooder who pines for a frequent guest at the club , julie black ( campbell ) , a worldly soap star with , yes , a heart of gold . \\nthis tacked-on \" romance \" would have been slightly less tedious if either campbell or phillippe made some connection with each other or the audience . \\nthey fail on both counts . \\nultimately , _54_\\'s failure comes down to three letters : f-u-n . \\nas in , there isn\\'t any to be had for the audience . \\ntoo much time is spent with the boring shane , and too little is spent on the club floor , where all the action took place . \\nanyhow , though , whatever time is spent on the 54 floor is not used very effectively . \\nwhen anita finally gets her big break and perform onstage at the club , it should be a euphoric height , for her , the crowd , and the audience ; however , the moment doesn\\'t get a chance to reach that level , for it is cut short by a moment of forced sentimentality , which also mars the film\\'s conclusion ( one of the last-minute reshoots ) . \\nstrangely upbeat and wistful , the resolution is wholly unconvincing and unsatisfying . \\nthere is an interesting portrait of studio 54 out there--two of them , in fact--but _54_ is not one of them . \\nthey\\'re on cable tv : a couple of documentaries produced by e ! and vh1 . \\nthese two fascinating looks at the club and all the sordid goings-on within it show that there\\'s still a great disco movie to be made . \\nthe problem is , after the critical and certain box office failure of _54_ , the subject may have run its hollywood course . \\n'\n"
     ]
    }
   ],
   "source": [
    "print(movie_data.data[99])"
   ]
  },
  {
   "cell_type": "code",
   "execution_count": 55,
   "metadata": {},
   "outputs": [
    {
     "data": {
      "text/plain": [
       "b'for a movie about disco-era excess , \" 54 \" comes up surprisingly short on the sleazy happenings at the titular late 1970s and early 1980s manhattan dance club . \\nthink of it as a sort of \" boogie nights \" -lite - where that similarly-structured and -set portrayal of the porn industry was loaded with salacious goings-on and skidded on a destructive midpoint tone shift , \" 54 \" leaves the kinkier details to your imagination . \\nit never needlessly revels in its seedy subject matter , but it thankfully never resorts to preaching , either . \\nin fact , were it not for the rampant drug use and the intermittent dark moment , \" 54 \" would be about as feathery as the time period\\'s popular female hairstyle . \\nstudio 54 was a haven for the rich , famous and generally good-looking before it closed its doors forever in 1986 . \\ninside , anything went and , we are told , everything did . \\nthe film\\'s fictional main character is shane o\\'shea ( ryan phillippe , the jerky jock from \" i know what you did last summer \" ) , a fresh-faced 19-year-old who dreams of venturing beyond the club\\'s velvet rope and coming face-to-face with the wild decadence he can only read about in magazines . \\nhis wish comes true when studio 54 owner steve rubell ( mike myers ) spots him amongst a crowd of gawkers one night in \\'79 and permits him passage - but not before he doffs his hideous shirt , of course . \\nonce inside , shane becomes seduced by the club\\'s dizzying vortex of sex and drugs . \\nhe has such a good time that he doesn\\'t want to leave , so he seeks employment as a busboy . \\nhe quickly becomes friends with greg ( breckin meyer ) and anita ( salma hayek ) , a married couple who work along side of him ; greg\\'s a fellow busboy with aspirations to make the big money as a studio 54 bartender , while anita checks coats but desires a recording contract to call her own . \\nafter rubbing elbows ( among other things ) with a renowned socialite ( sela ward ) and gaining the personal interest of rubell , shane begins to ascend to the upper echelons of 54 . \\nbut fame doesn\\'t come without a price . \\n \" 54 \" \\'s major shortcomings lie within its handling of the supporting players - at a slim hour-and-a-half , the film is too short to take on such a multi-character focus , and more than a few balls are dropped in the resulting juggling act . \\nalleged last-minute edits and reshoots are more than likely to blame for the occasionally rushed development and ambiguous interaction , since \" 54 \" sometimes feels like it\\'s missing a scene here or there . \\nnowhere is this more apparent than in shane\\'s relationship with soap opera actress julie black ( neve campbell ) , a frequent studio 54 patron whom he\\'s long admired from afar . \\nthe romance is prodded along before it has a chance to transform into something special . \\nthat \" 54 \" works despite these limitations , then , is largely due to the competence and energy with which it\\'s assembled . \\nsure , it\\'s shallow , slick , sanitized portrait of a bygone age , and sure , we\\'ve seen the rags-to-riches story gazillions of times , but debut director and screenwriter mark christopher keeps things moving with lively snapshots of the studio 54 hustle and bustle and an even livelier cast to inhabit his bouncy vision . \\nthe film boasts some fine comic creativity , the pinnacle of which is disco dottie ( \" the wedding singer \" \\'s ellen dow ) , an elderly dancing queen who plays the loving grandmother in public , but slides up to shane behind 54\\'s closed doors and asks for a \" funky little treat . \" \\nthe solid , sexy cast smooths out - if only while you\\'re caught up in the film - any rough spots belonging to their alter-egos or the plot . \\nnewcomer phillippe has the charisma and joisey accent down pat ; he and campbell , as fetching as ever , look so good together it\\'s a shame their subplot goes nowhere . \\nmeyer exhibits the congenial appeal that made him a delight to watch in \" clueless \" ( he was the stoner with the joker-smile ) , while hayek simply sizzles , especially when leading a dance class with the mantra , \" one , two , three , attitude ! \" \\nsherry stringfield , unidentifiable under big \\'70s hair , takes on her first big-screen gig since she left \" er \" as rubell\\'s accountant , but she\\'s criminally underused . \\nas the droopy-eyed , drug-addled steve rubell , myers is worth the price of admission alone . \\nwhen he\\'s not playing the life of the party , the ex- \" saturday night live \" comedian strips away all of rubell\\'s confidence and swagger to show a man desperately trying to fill his empty , unhappy life with exorbitance ; it\\'s a moment worthy of pity when , while lounging on a bed of money and vomiting from a particularly heavy evening , he attempts to seduce one of his employees . \\nand while his performance is largely serious , myers mixes the empathy with a delicate \" austin powers \" -esque wink , thus keeping consistent with \" 54 \" \\'s overall feel - gaudy , larger-than-life and satisfyingly ornamental , not unlike a giant disco ball . \\n'"
      ]
     },
     "execution_count": 55,
     "metadata": {},
     "output_type": "execute_result"
    }
   ],
   "source": [
    "movie_data.data[1869]"
   ]
  },
  {
   "cell_type": "code",
   "execution_count": null,
   "metadata": {},
   "outputs": [],
   "source": []
  }
 ],
 "metadata": {
  "kernelspec": {
   "display_name": "Python 3",
   "language": "python",
   "name": "python3"
  },
  "language_info": {
   "codemirror_mode": {
    "name": "ipython",
    "version": 3
   },
   "file_extension": ".py",
   "mimetype": "text/x-python",
   "name": "python",
   "nbconvert_exporter": "python",
   "pygments_lexer": "ipython3",
   "version": "3.7.1"
  }
 },
 "nbformat": 4,
 "nbformat_minor": 2
}
