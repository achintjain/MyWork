{
 "cells": [
  {
   "cell_type": "code",
   "execution_count": 1,
   "metadata": {},
   "outputs": [
    {
     "name": "stderr",
     "output_type": "stream",
     "text": [
      "[nltk_data] Downloading package stopwords to\n",
      "[nltk_data]     C:\\Users\\achintj\\AppData\\Roaming\\nltk_data...\n",
      "[nltk_data]   Package stopwords is already up-to-date!\n"
     ]
    }
   ],
   "source": [
    "import numpy as np  \n",
    "import re  \n",
    "import nltk  \n",
    "from sklearn.datasets import load_files  \n",
    "nltk.download('stopwords')  \n",
    "import pickle  \n",
    "from nltk.corpus import stopwords  "
   ]
  },
  {
   "cell_type": "code",
   "execution_count": 2,
   "metadata": {},
   "outputs": [
    {
     "name": "stderr",
     "output_type": "stream",
     "text": [
      "[nltk_data] Downloading package wordnet to\n",
      "[nltk_data]     C:\\Users\\achintj\\AppData\\Roaming\\nltk_data...\n",
      "[nltk_data]   Package wordnet is already up-to-date!\n"
     ]
    },
    {
     "data": {
      "text/plain": [
       "True"
      ]
     },
     "execution_count": 2,
     "metadata": {},
     "output_type": "execute_result"
    }
   ],
   "source": [
    "nltk.download('wordnet')"
   ]
  },
  {
   "cell_type": "code",
   "execution_count": 3,
   "metadata": {},
   "outputs": [],
   "source": [
    "from sklearn.ensemble import RandomForestClassifier\n",
    "from sklearn.linear_model import LogisticRegression\n",
    "from sklearn.naive_bayes import MultinomialNB\n",
    "from sklearn.svm import SVC\n",
    "import pandas as pd"
   ]
  },
  {
   "cell_type": "code",
   "execution_count": 4,
   "metadata": {},
   "outputs": [],
   "source": [
    "movie_data = load_files(r\"D:\\MyWork\\DSWork\\Project - Resume Ranker\\txt_sentoken\")"
   ]
  },
  {
   "cell_type": "code",
   "execution_count": 5,
   "metadata": {},
   "outputs": [],
   "source": [
    "X,Y = movie_data.data,movie_data.target"
   ]
  },
  {
   "cell_type": "code",
   "execution_count": 6,
   "metadata": {},
   "outputs": [],
   "source": [
    "documents = []\n",
    "\n",
    "from nltk.stem import WordNetLemmatizer\n",
    "\n",
    "stemmer = WordNetLemmatizer()\n",
    "\n",
    "for sen in range(0, len(X)):  \n",
    "    # Remove all the special characters\n",
    "    document = re.sub(r'\\W', ' ', str(X[sen]))\n",
    "\n",
    "    # remove all single characters\n",
    "    document = re.sub(r'\\s+[a-zA-Z]\\s+', ' ', document)\n",
    "\n",
    "    # Remove single characters from the start\n",
    "    document = re.sub(r'\\^[a-zA-Z]\\s+', ' ', document) \n",
    "\n",
    "    # Substituting multiple spaces with single space\n",
    "    document = re.sub(r'\\s+', ' ', document, flags=re.I)\n",
    "\n",
    "    # Removing prefixed 'b'\n",
    "    document = re.sub(r'^b\\s+', '', document)\n",
    "\n",
    "    # Converting to Lowercase\n",
    "    document = document.lower()\n",
    "\n",
    "    # Lemmatization\n",
    "    document = document.split()\n",
    "\n",
    "    document = [stemmer.lemmatize(word) for word in document]\n",
    "    document = ' '.join(document)\n",
    "    documents.append(document) "
   ]
  },
  {
   "cell_type": "code",
   "execution_count": 50,
   "metadata": {},
   "outputs": [
    {
     "data": {
      "text/plain": [
       "'arnold schwarzenegger ha been an icon for action enthusiast since the late 80 but lately his film have been very sloppy and the one liner are getting worse nit hard seeing arnold a mr freeze in batman and robin especially when he say ton of ice joke but hey he got 15 million what it matter to him nonce again arnold ha signed to do another expensive blockbuster that can compare with the like of the terminator series true lie and even eraser nin this so called dark thriller the devil gabriel byrne ha come upon earth to impregnate woman robin tunney which happens every 1000 year and basically destroy the world but apparently god ha chosen one man and that one man is jericho cane arnold himself nwith the help of trusty sidekick kevin pollack they will stop at nothing to let the devil take over the world nparts of this are actually so absurd that they would fit right in with dogma nyes the film is that weak but it better than the other blockbuster right now sleepy hollow but it make the world is not enough look like 4 star film nanyway this definitely doesn seem like an arnold movie nit just wasn the type of film you can see him doing nsure he gave u few chuckle with his well known one liner but he seemed confused a to where his character and the film wa going nit understandable especially when the ending had to be changed according to some source naside form that he still walked through it much like he ha in the past few film ni sorry to say this arnold but maybe these are the end of your action day nspeaking of action where wa it in this film nthere wa hardly any explosion or fight nthe devil made few place explode but arnold wasn kicking some devil butt nthe ending wa changed to make it more spiritual which undoubtedly ruined the film ni wa at least hoping for cool ending if nothing else occurred but once again wa let down ni also don know why the film took so long and cost so much nthere wa really no super affect at all unless you consider an invisible devil who wa in it for 5 minute top worth the overpriced budget nthe budget should have gone into better script where at least audience could be somewhat entertained instead of facing boredom nit pitiful to see how script like these get bought and made into movie ndo they even read these thing anymore nit sure doesn seem like it nthankfully gabriel performance gave some light to this poor film nwhen he walk down the street searching for robin tunney you can help but feel that he looked like devil nthe guy is creepy looking anyway nwhen it all over you re just glad it the end of the movie ndon bother to see this if you re expecting solid action flick because it neither solid nor doe it have action nit just another movie that we are suckered in to seeing due to strategic marketing campaign nsave your money and see the world is not enough for an entertaining experience'"
      ]
     },
     "execution_count": 50,
     "metadata": {},
     "output_type": "execute_result"
    }
   ],
   "source": [
    "documents[0]"
   ]
  },
  {
   "cell_type": "code",
   "execution_count": 7,
   "metadata": {},
   "outputs": [],
   "source": [
    "from sklearn.feature_extraction.text import CountVectorizer  \n",
    "vectorizer = CountVectorizer(max_features=1500, min_df=5, max_df=0.7, stop_words=stopwords.words('english'))  \n",
    "X = vectorizer.fit_transform(documents).toarray()  "
   ]
  },
  {
   "cell_type": "code",
   "execution_count": 8,
   "metadata": {},
   "outputs": [],
   "source": [
    "from sklearn.feature_extraction.text import TfidfTransformer  \n",
    "tfidfconverter = TfidfTransformer()  \n",
    "X = tfidfconverter.fit_transform(X).toarray() "
   ]
  },
  {
   "cell_type": "code",
   "execution_count": 9,
   "metadata": {},
   "outputs": [],
   "source": [
    "from sklearn.model_selection import train_test_split  \n",
    "X_train, X_test, y_train, y_test = train_test_split(X, Y, test_size=0.2, random_state=0) "
   ]
  },
  {
   "cell_type": "code",
   "execution_count": 10,
   "metadata": {},
   "outputs": [
    {
     "data": {
      "text/plain": [
       "RandomForestClassifier(bootstrap=True, class_weight=None, criterion='gini',\n",
       "            max_depth=None, max_features='auto', max_leaf_nodes=None,\n",
       "            min_impurity_decrease=0.0, min_impurity_split=None,\n",
       "            min_samples_leaf=1, min_samples_split=2,\n",
       "            min_weight_fraction_leaf=0.0, n_estimators=5000, n_jobs=None,\n",
       "            oob_score=False, random_state=1, verbose=0, warm_start=False)"
      ]
     },
     "execution_count": 10,
     "metadata": {},
     "output_type": "execute_result"
    }
   ],
   "source": [
    "classifier = RandomForestClassifier(n_estimators=5000, random_state=1,n_jobs=-1)  \n",
    "classifier.fit(X_train, y_train) "
   ]
  },
  {
   "cell_type": "code",
   "execution_count": 11,
   "metadata": {},
   "outputs": [],
   "source": [
    "y_pred = classifier.predict(X_test)  "
   ]
  },
  {
   "cell_type": "code",
   "execution_count": 12,
   "metadata": {},
   "outputs": [
    {
     "name": "stdout",
     "output_type": "stream",
     "text": [
      "[[179  29]\n",
      " [ 31 161]]\n",
      "              precision    recall  f1-score   support\n",
      "\n",
      "           0       0.85      0.86      0.86       208\n",
      "           1       0.85      0.84      0.84       192\n",
      "\n",
      "   micro avg       0.85      0.85      0.85       400\n",
      "   macro avg       0.85      0.85      0.85       400\n",
      "weighted avg       0.85      0.85      0.85       400\n",
      "\n",
      "0.85\n"
     ]
    }
   ],
   "source": [
    "from sklearn.metrics import classification_report, confusion_matrix, accuracy_score\n",
    "\n",
    "print(confusion_matrix(y_test,y_pred))  \n",
    "print(classification_report(y_test,y_pred))  \n",
    "print(accuracy_score(y_test, y_pred)) "
   ]
  },
  {
   "cell_type": "code",
   "execution_count": 15,
   "metadata": {},
   "outputs": [
    {
     "name": "stdout",
     "output_type": "stream",
     "text": [
      "[[160  48]\n",
      " [ 34 158]]\n",
      "              precision    recall  f1-score   support\n",
      "\n",
      "           0       0.82      0.77      0.80       208\n",
      "           1       0.77      0.82      0.79       192\n",
      "\n",
      "   micro avg       0.80      0.80      0.80       400\n",
      "   macro avg       0.80      0.80      0.79       400\n",
      "weighted avg       0.80      0.80      0.80       400\n",
      "\n",
      "0.795\n"
     ]
    }
   ],
   "source": [
    "classifier = MultinomialNB()  \n",
    "classifier.fit(X_train, y_train) \n",
    "y_pred = classifier.predict(X_test)  \n",
    "print(confusion_matrix(y_test,y_pred))  \n",
    "print(classification_report(y_test,y_pred))  \n",
    "print(accuracy_score(y_test, y_pred)) "
   ]
  },
  {
   "cell_type": "code",
   "execution_count": 36,
   "metadata": {},
   "outputs": [
    {
     "name": "stdout",
     "output_type": "stream",
     "text": [
      "[[168  40]\n",
      " [ 28 164]]\n",
      "              precision    recall  f1-score   support\n",
      "\n",
      "           0       0.86      0.81      0.83       208\n",
      "           1       0.80      0.85      0.83       192\n",
      "\n",
      "   micro avg       0.83      0.83      0.83       400\n",
      "   macro avg       0.83      0.83      0.83       400\n",
      "weighted avg       0.83      0.83      0.83       400\n",
      "\n",
      "0.83\n"
     ]
    }
   ],
   "source": [
    "classifier = SVC(kernel='rbf',C=1000, gamma='auto')  \n",
    "classifier.fit(X_train, y_train) \n",
    "y_pred = classifier.predict(X_test)  \n",
    "print(confusion_matrix(y_test,y_pred))  \n",
    "print(classification_report(y_test,y_pred))  \n",
    "print(accuracy_score(y_test, y_pred)) "
   ]
  },
  {
   "cell_type": "code",
   "execution_count": 28,
   "metadata": {},
   "outputs": [
    {
     "name": "stdout",
     "output_type": "stream",
     "text": [
      "[[168  40]\n",
      " [ 28 164]]\n",
      "              precision    recall  f1-score   support\n",
      "\n",
      "           0       0.86      0.81      0.83       208\n",
      "           1       0.80      0.85      0.83       192\n",
      "\n",
      "   micro avg       0.83      0.83      0.83       400\n",
      "   macro avg       0.83      0.83      0.83       400\n",
      "weighted avg       0.83      0.83      0.83       400\n",
      "\n",
      "0.83\n"
     ]
    }
   ],
   "source": [
    "classifier = LogisticRegression(solver = 'lbfgs')  \n",
    "classifier.fit(X_train, y_train) \n",
    "y_pred = classifier.predict(X_test)  \n",
    "print(confusion_matrix(y_test,y_pred))  \n",
    "print(classification_report(y_test,y_pred))  \n",
    "print(accuracy_score(y_test, y_pred)) "
   ]
  },
  {
   "cell_type": "code",
   "execution_count": 37,
   "metadata": {},
   "outputs": [],
   "source": [
    "from sklearn.metrics.pairwise import cosine_similarity"
   ]
  },
  {
   "cell_type": "code",
   "execution_count": 38,
   "metadata": {},
   "outputs": [],
   "source": [
    "res = cosine_similarity(X)"
   ]
  },
  {
   "cell_type": "code",
   "execution_count": 39,
   "metadata": {},
   "outputs": [
    {
     "data": {
      "text/plain": [
       "(2000, 2000)"
      ]
     },
     "execution_count": 39,
     "metadata": {},
     "output_type": "execute_result"
    }
   ],
   "source": [
    "res.shape"
   ]
  },
  {
   "cell_type": "code",
   "execution_count": 45,
   "metadata": {},
   "outputs": [],
   "source": [
    "d = pd.Series(data =res[929:930][0])"
   ]
  },
  {
   "cell_type": "code",
   "execution_count": 46,
   "metadata": {},
   "outputs": [
    {
     "data": {
      "text/plain": [
       "929     1.000000\n",
       "620     0.976600\n",
       "1028    0.371128\n",
       "650     0.364354\n",
       "857     0.271096\n",
       "696     0.265979\n",
       "901     0.257583\n",
       "1298    0.257534\n",
       "40      0.256231\n",
       "1833    0.246169\n",
       "dtype: float64"
      ]
     },
     "execution_count": 46,
     "metadata": {},
     "output_type": "execute_result"
    }
   ],
   "source": [
    "d.sort_values(ascending=False)[:10]"
   ]
  },
  {
   "cell_type": "code",
   "execution_count": 48,
   "metadata": {},
   "outputs": [
    {
     "name": "stdout",
     "output_type": "stream",
     "text": [
      "b'it rocks-actually , lots of rocks fly at us or from us , in slow or fast motion , at several points in the film . \\nthey seem like dangerous rocks because they kind of twirl through the air instead of just propelling forward , and when they land-once in a while , when we need a break from the space sequences-they cause damage enough to destroy the chrysler building and the like . \\n ( nary a mention of these apocalyptic events is made after they occur . ) \\nthey also just might be the most interesting element of armageddon , a steroid user\\'s answer to deep impact . \\nbruce willis stars as harry stamper , a famed oil-driller commissioned by the white house and nasa to stop a giant asteroid before it travels beyond \" zero barrier \" and destroys our planet . \\nwhy an oil driller ? \\nthey require someone experience with deep-core mining to plant a nuclear missile into said asteroid . \\n ( in one unintentionally ( ? ) \\nhilarious sequence , nasa asks harry to inspect a deep-core driller they built based on his blueprints ; it is poorly constructed-harry criticizes almost every aspect of it . \\nwe trust nasa to build space shuttles ? ) \\nharry assembles the obligatory \" ragtag \" bunch of \" cowboys \" , including a blond guy , a fat guy , a black guy , a wiseass , and the man who is sleeping with his daughter ( affleck ) . \\nonce they reach space , we experience sequence after sequence of something going wrong-perhaps the fact that they sent a bunch of nincompoops into outer space has something to do with it ; i cannot count the number of times they almost fail the mission on all my fingers and toes . \\nwhether or not they save the day , i will not reveal . \\nnor will you care . \\ni will say this : you know you\\'re in trouble when deep impact dwarfs your asteroid movie in terms of emotion and scope . \\nwillis has barely a chance to come alive ; ditto for affleck . \\ntheir big scenes are mostly reserved for the third act , in a last minute-and futile-attempt to inject warmth into the material . \\nsteve buscemi\\'s character-the wiseass-is exceptionally problematic . \\n \" rockhound \" , as he\\'s called , is sarcastic and foolish , so they tape him to a chair , where he spends most of the film . \\nso why did they bring him up there to begin with ? \\nrather , why write him into the film ? -give \\nhis almost-witty one-liners to serious willis , who scowls and mopes and demonstrates psychotic tendencies : at one point he chases after affleck with his shotgun for screwing his daughter , firing often and causing significant damage to his oil rig . \\ni\\'m guessing he qualifies under nasa guidelines as someone unfit for space travel , at least in my world where the sky is blue . \\nliv tyler is pretty and humourless , as always ; suspiciously , four of her father\\'s band\\'s ( \" aerosmith \" ) songs grace the soundtrack . \\ndirector michael bay lays the visual and sound effects on thick , like ketchup , eventually drowning the movie on-screen . \\n ( the middle hour is a non-sensical , pyrotechnic assault on the average primate\\'s brain . ) \\nwhenever someone dies in this movie , a crew member inevitably yells out \" we lost ( insert dead person\\'s last name here ) ! \" \\ni must admit that not once could i distinguish a dead oil-guy-cum-astronaut from a live one , and close-ups of the corpses\\' faces beneath cracked helmets provided little assistance , as their skin was often covered in fake blood . \\narmageddon is not as terrible movie as godzilla . \\nit looks nicer , and has fewer plot-holes within its equally ludicrous framework . \\nit has a vivid soundmix . \\nbut at almost two-and-a-half hours , i could not believe how little actually happened over the course of the story . \\nthe love story has been played up in the ads , perhaps hoping to catch people before they recover from titanic-fever . \\nbollocks ! \\nthe lovers in the film are miles apart throughout-erase all thoughts of nude sketching or car-sex and replace them with obligatory shots of liv tyler tearing up while ben affleck dicks around in a moon-crawler . \\nremember a little film called jaws ? \\nin this film , three independent-minded men suddenly found themselves on a fishing boat in pursuit of a deadly shark . \\nthey didn\\'t much like each other at first ; eventually , they started to respect one another . \\none of jaws\\' great scenes involved the would-be-ahabs drinking and singing songs and telling stories . \\nthis is the sort of male-bonding foreign to bay or his producer , jerry bruckheimer , who throw too many characters into the mix and expect we\\'ll care about them on the grounds that the world is about to end . \\nnot once do we get the feeling that these characters are even acquaintances-i\\'d be surprised if these actors bothered to introduce themselves to one another before \" action \" was called . \\na male friend who loved the film suggested to me that perhaps i cannot relate to a bunch of men who don\\'t bare their souls , who believe in dying macho concepts like heroism and a kind of chest-beating bravery . \\nto this , i will respond that the boys in armageddon are neither heroic , nor brave , nor smart , even : this team couldn\\'t build a birdhouse . \\nand if i get no respect for disliking a movie with all the synthetic feeling of a trailer-a trailer for a movie written by a team of body-builders and greeting card authors-i\\'ve never been a prouder wimp my whole life . \\n'\n"
     ]
    }
   ],
   "source": [
    "print(movie_data.data[929])"
   ]
  },
  {
   "cell_type": "code",
   "execution_count": 49,
   "metadata": {},
   "outputs": [
    {
     "data": {
      "text/plain": [
       "b'new address . \\nsame old attitude . \\ndon\\'t forget to recommend a film , read the journal , or send me some of that nasty hate mail . ) \\nstarring bruce willis , billy bob thornton , liv tyler , ben affleck written by jonathan hensleigh and j . j . \\nabrams directed by michael bay \\nit rocks-actually , lots of rocks fly at us or from us , in slow or fast motion , at several points in the film . \\nthey seem like dangerous rocks because they kind of twirl through the air instead of just propelling forward , and when they land-once in a while , when we need a break from the space sequences-they cause damage enough to destroy the chrysler building and the like . \\n ( nary a mention of these apocalyptic events is made after they occur . ) \\nthey also just might be the most interesting element of armageddon , a steroid user\\'s answer to deep impact . \\nbruce willis stars as harry stamper , a famed oil-driller commissioned by the white house and nasa to stop a giant asteroid before it travels beyond \" zero barrier \" and destroys our planet . \\nwhy an oil driller ? \\nthey require someone experienced with deep-core mining to plant a nuclear missile into said asteroid . \\n ( in one unintentionally ( ? ) \\nhilarious sequence , nasa asks harry to inspect a deep-core driller they built based on his own blueprints ; it is poorly constructed-harry criticizes almost every aspect of it . \\nwe trust nasa to build space shuttles that can land on twirling asteroids ? ) \\nharry assembles the obligatory \" ragtag \" bunch of \" cowboys \" , including a blond guy , a fat guy , a black guy , a wiseass , and the man who is sleeping with his daughter ( affleck ) . \\nonce they reach space , we experience sequence after sequence of something going wrong-perhaps the fact that they sent a bunch of nincompoops into outer space has something to do with it ; i cannot count the number of times they almost fail the mission on all my fingers and toes . \\nwhether or not they save the day , i will not reveal . \\nnor will you care . \\ni will say this : you know you\\'re in trouble when deep impact dwarfs your asteroid movie in terms of emotion and scope . \\nwillis has barely a chance to come alive ; ditto for affleck . \\ntheir big scenes are mostly reserved for the third act , in a last minute-and futile-attempt to inject warmth into the material . \\nsteve buscemi\\'s character-the wiseass-is exceptionally problematic . \\n \" rockhound \" , as he\\'s called , is sarcastic and foolish , so they tape him to a chair , where he spends most of the film . \\nso why did they bring him up there to begin with ? \\nrather , why write him into the film ? -give \\nhis almost-witty one-liners to serious willis , who scowls and mopes and demonstrates psychotic tendencies : at one point he chases after affleck with his shotgun for screwing his daughter , firing often and causing significant damage to his oil rig . \\ni\\'m guessing he qualifies under nasa guidelines as someone unfit for space travel , at least in my world where the sky is blue . \\nliv tyler is pretty and humourless , as always ; suspiciously , four of her father\\'s band\\'s ( \" aerosmith \" ) songs grace the soundtrack . \\ndirector michael bay lays the visual and sound effects on thick , like ketchup , eventually drowning the movie on-screen . \\n ( the middle hour is a non-sensical , pyrotechnic assault on the average primate\\'s brain . ) \\nwhenever someone dies in this movie , a crew member inevitably yells out \" we lost ( insert dead person\\'s last name here ) ! \" \\ni must admit that not once could i distinguish a dead oil-guy-cum-astronaut from a live one , and close-ups of the corpses\\' faces beneath cracked helmets provided little assistance , as their skin was often covered in fake blood . \\narmageddon is not as terrible movie as godzilla . \\nit looks nicer , and has fewer plot-holes within its equally ludicrous framework . \\nit has a vivid soundmix . \\nbut at almost two-and-a-half hours , i could not believe how little actually happened over the course of the story . \\nthe love story has been played up in the ads , perhaps hoping to catch people before they recover from titanic-fever . \\nbollocks ! \\nthe lovers in the film are miles apart throughout-erase all thoughts of nude sketching or car-sex and replace them with obligatory shots of liv tyler tearing up while ben affleck dicks around in a moon-crawler . \\nremember a little film called jaws ? \\nin this film , three independent-minded men suddenly found themselves on a fishing boat in pursuit of a deadly shark . \\nthey didn\\'t much like each other at first ; eventually , they started to respect one another . \\none of jaws\\' great scenes involved the would-be-ahabs drinking and singing songs and telling stories . \\nthis is the sort of male-bonding foreign to bay or his producer , jerry bruckheimer , who throw too many characters into the mix and expect we\\'ll care about them on the grounds that the world is about to end . \\nnot once do we get the feeling that these characters are even acquaintances-i\\'d be surprised if these actors bothered to introduce themselves to one another before \" action \" was called . \\na male friend who loved the film suggested to me that perhaps i cannot relate to a bunch of men who don\\'t bare their souls , who believe in dying macho concepts like heroism and a kind of chest-beating bravery . \\nto this , i will respond that the boys in armageddon are neither heroic , nor brave , nor smart , even : this team couldn\\'t build a birdhouse . \\nand if i get no respect for disliking a movie with all the synthetic feeling of a trailer-a trailer for a movie written by a team of body-builders and greeting card authors-i\\'ve never been a prouder wimp my whole life . \\n'"
      ]
     },
     "execution_count": 49,
     "metadata": {},
     "output_type": "execute_result"
    }
   ],
   "source": [
    "movie_data.data[620]"
   ]
  },
  {
   "cell_type": "code",
   "execution_count": null,
   "metadata": {},
   "outputs": [],
   "source": []
  }
 ],
 "metadata": {
  "kernelspec": {
   "display_name": "Python 3",
   "language": "python",
   "name": "python3"
  },
  "language_info": {
   "codemirror_mode": {
    "name": "ipython",
    "version": 3
   },
   "file_extension": ".py",
   "mimetype": "text/x-python",
   "name": "python",
   "nbconvert_exporter": "python",
   "pygments_lexer": "ipython3",
   "version": "3.7.1"
  }
 },
 "nbformat": 4,
 "nbformat_minor": 2
}
