{
 "cells": [
  {
   "cell_type": "code",
   "execution_count": 2,
   "metadata": {},
   "outputs": [],
   "source": [
    "from sklearn.ensemble import RandomForestClassifier\n",
    "from sklearn.feature_extraction.text import TfidfVectorizer           \n",
    "import pandas as pd\n",
    "import numpy as np\n",
    "import re\n",
    "from nltk.corpus import stopwords  \n"
   ]
  },
  {
   "cell_type": "code",
   "execution_count": 3,
   "metadata": {},
   "outputs": [
    {
     "data": {
      "text/html": [
       "<div>\n",
       "<style scoped>\n",
       "    .dataframe tbody tr th:only-of-type {\n",
       "        vertical-align: middle;\n",
       "    }\n",
       "\n",
       "    .dataframe tbody tr th {\n",
       "        vertical-align: top;\n",
       "    }\n",
       "\n",
       "    .dataframe thead th {\n",
       "        text-align: right;\n",
       "    }\n",
       "</style>\n",
       "<table border=\"1\" class=\"dataframe\">\n",
       "  <thead>\n",
       "    <tr style=\"text-align: right;\">\n",
       "      <th></th>\n",
       "      <th>Utterances</th>\n",
       "      <th>Intent</th>\n",
       "    </tr>\n",
       "  </thead>\n",
       "  <tbody>\n",
       "    <tr>\n",
       "      <th>0</th>\n",
       "      <td>What is my balance</td>\n",
       "      <td>Balance Inquiry</td>\n",
       "    </tr>\n",
       "    <tr>\n",
       "      <th>1</th>\n",
       "      <td>Please tell my balance amount</td>\n",
       "      <td>Balance Inquiry</td>\n",
       "    </tr>\n",
       "    <tr>\n",
       "      <th>2</th>\n",
       "      <td>Show me the balance amount</td>\n",
       "      <td>Balance Inquiry</td>\n",
       "    </tr>\n",
       "    <tr>\n",
       "      <th>3</th>\n",
       "      <td>Balance of my account</td>\n",
       "      <td>Balance Inquiry</td>\n",
       "    </tr>\n",
       "    <tr>\n",
       "      <th>4</th>\n",
       "      <td>Tell me the prepaid packs available</td>\n",
       "      <td>Prepaid Packs</td>\n",
       "    </tr>\n",
       "    <tr>\n",
       "      <th>5</th>\n",
       "      <td>What are the prepaid packs</td>\n",
       "      <td>Prepaid Packs</td>\n",
       "    </tr>\n",
       "    <tr>\n",
       "      <th>6</th>\n",
       "      <td>Prepaid packs</td>\n",
       "      <td>Prepaid Packs</td>\n",
       "    </tr>\n",
       "    <tr>\n",
       "      <th>7</th>\n",
       "      <td>Prepaid packs available with you</td>\n",
       "      <td>Prepaid Packs</td>\n",
       "    </tr>\n",
       "    <tr>\n",
       "      <th>8</th>\n",
       "      <td>Please recharge with the 350 pack</td>\n",
       "      <td>Recharge Order</td>\n",
       "    </tr>\n",
       "    <tr>\n",
       "      <th>9</th>\n",
       "      <td>Recharge my phone with 150 pack</td>\n",
       "      <td>Recharge Order</td>\n",
       "    </tr>\n",
       "    <tr>\n",
       "      <th>10</th>\n",
       "      <td>150 pack recharge</td>\n",
       "      <td>Recharge Order</td>\n",
       "    </tr>\n",
       "    <tr>\n",
       "      <th>11</th>\n",
       "      <td>Can you please recharge my phone with 150 pack</td>\n",
       "      <td>Recharge Order</td>\n",
       "    </tr>\n",
       "  </tbody>\n",
       "</table>\n",
       "</div>"
      ],
      "text/plain": [
       "                                        Utterances           Intent\n",
       "0                               What is my balance  Balance Inquiry\n",
       "1                    Please tell my balance amount  Balance Inquiry\n",
       "2                       Show me the balance amount  Balance Inquiry\n",
       "3                            Balance of my account  Balance Inquiry\n",
       "4              Tell me the prepaid packs available    Prepaid Packs\n",
       "5                       What are the prepaid packs    Prepaid Packs\n",
       "6                                    Prepaid packs    Prepaid Packs\n",
       "7                 Prepaid packs available with you    Prepaid Packs\n",
       "8                Please recharge with the 350 pack   Recharge Order\n",
       "9                  Recharge my phone with 150 pack   Recharge Order\n",
       "10                               150 pack recharge   Recharge Order\n",
       "11  Can you please recharge my phone with 150 pack   Recharge Order"
      ]
     },
     "execution_count": 3,
     "metadata": {},
     "output_type": "execute_result"
    }
   ],
   "source": [
    "def preprocessing(userQuery):     \n",
    "    letters_only = re.sub(\"[^a-zA-Z\\\\d]\", \" \", userQuery)\n",
    "    words = letters_only.lower().split()                  \n",
    "    return( \" \".join(words ))\n",
    "\n",
    "#read utterance data from a csv file\n",
    "train = pd.read_csv('Uters.csv')\n",
    "train"
   ]
  },
  {
   "cell_type": "code",
   "execution_count": 5,
   "metadata": {},
   "outputs": [
    {
     "name": "stdout",
     "output_type": "stream",
     "text": [
      " prediction:  ['Balance Inquiry']\n"
     ]
    }
   ],
   "source": [
    "query_features = train['Utterances']\n",
    "\n",
    "tfidf_vectorizer = TfidfVectorizer(max_features=1500, stop_words=stopwords.words('english'))\n",
    "new_query = [preprocessing(query) for query in query_features]\n",
    "features = tfidf_vectorizer.fit_transform(new_query).toarray()\n",
    "\n",
    "model = RandomForestClassifier(n_estimators = 100)\n",
    "model.fit(features, train['Intent'])\n",
    "\n",
    "userQuery = \"amount \"\n",
    "userQueryList=[]\n",
    "\n",
    "userQueryList.append(preprocessing(userQuery))\n",
    "\n",
    "utfidf = tfidf_vectorizer.transform(userQueryList)\n",
    "\n",
    "print(\" prediction: \", model.predict(utfidf))"
   ]
  },
  {
   "cell_type": "code",
   "execution_count": null,
   "metadata": {},
   "outputs": [],
   "source": []
  }
 ],
 "metadata": {
  "kernelspec": {
   "display_name": "Python 3",
   "language": "python",
   "name": "python3"
  },
  "language_info": {
   "codemirror_mode": {
    "name": "ipython",
    "version": 3
   },
   "file_extension": ".py",
   "mimetype": "text/x-python",
   "name": "python",
   "nbconvert_exporter": "python",
   "pygments_lexer": "ipython3",
   "version": "3.7.1"
  }
 },
 "nbformat": 4,
 "nbformat_minor": 2
}
