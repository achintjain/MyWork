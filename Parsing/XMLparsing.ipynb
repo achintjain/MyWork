{
 "cells": [
  {
   "cell_type": "code",
   "execution_count": 152,
   "metadata": {},
   "outputs": [
    {
     "name": "stdout",
     "output_type": "stream",
     "text": [
      "<catalog><product description=\"Cardigan Sweater\" product_image=\"cardigan.jpg\"><catalog_item gender=\"Men's\"><item_number>QWZ5671</item_number><price>39.95</price><size description=\"Medium\"><color_swatch image=\"red_cardigan.jpg\">Red</color_swatch><color_swatch image=\"burgundy_cardigan.jpg\">Burgundy</color_swatch></size><size description=\"Large\"><color_swatch image=\"red_cardigan.jpg\">Red</color_swatch><color_swatch image=\"burgundy_cardigan.jpg\">Burgundy</color_swatch></size></catalog_item><catalog_item gender=\"Women's\"><item_number>RRX9856</item_number><price>42.50</price><size description=\"Small\"><color_swatch image=\"red_cardigan.jpg\">Red</color_swatch><color_swatch image=\"navy_cardigan.jpg\">Navy</color_swatch><color_swatch image=\"burgundy_cardigan.jpg\">Burgundy</color_swatch></size><size description=\"Medium\"><color_swatch image=\"red_cardigan.jpg\">Red</color_swatch><color_swatch image=\"navy_cardigan.jpg\">Navy</color_swatch><color_swatch image=\"burgundy_cardigan.jpg\">Burgundy</color_swatch><color_swatch image=\"black_cardigan.jpg\">Black</color_swatch></size><size description=\"Large\"><color_swatch image=\"navy_cardigan.jpg\">Navy</color_swatch><color_swatch image=\"black_cardigan.jpg\">Black</color_swatch></size><size description=\"Extra Large\"><color_swatch image=\"burgundy_cardigan.jpg\">Burgundy</color_swatch><color_swatch image=\"black_cardigan.jpg\">Black</color_swatch></size></catalog_item></product></catalog>\n"
     ]
    }
   ],
   "source": [
    "import xmltodict\n",
    "\n",
    "fp = open(\"catalog.xml\",\"r\")\n",
    "content = fp.read()\n",
    "\n",
    "fp.close()\n",
    "\n",
    "d = xmltodict.parse(content)\n",
    "\n",
    "# d['glossary']['title'] = \"New title for XML\"\n",
    "# d['glossary']['GlossDiv']['GlossList']['GlossEntry']['@ID'] = \"HTML\"\n",
    "\n",
    "x = xmltodict.unparse(d)\n",
    "\n",
    "t = x.split(\"\\n\")\n",
    "t.pop(0)\n",
    "x = \"\".join(t)\n",
    "print(x)\n"
   ]
  },
  {
   "cell_type": "code",
   "execution_count": 3,
   "metadata": {},
   "outputs": [],
   "source": [
    "import re"
   ]
  },
  {
   "cell_type": "code",
   "execution_count": 153,
   "metadata": {
    "scrolled": false
   },
   "outputs": [
    {
     "name": "stdout",
     "output_type": "stream",
     "text": [
      "<catalog>\n",
      "  <product description=\"Cardigan Sweater\" product_image=\"cardigan.jpg\">\n",
      "    <catalog_item gender=\"Men's\">\n",
      "      <item_number>QWZ5671</item_number>\n",
      "      <price>39.95</price>\n",
      "      <size description=\"Medium\">\n",
      "        <color_swatch image=\"red_cardigan.jpg\">Red</color_swatch>\n",
      "        <color_swatch image=\"burgundy_cardigan.jpg\">Burgundy</color_swatch>\n",
      "      </size>\n",
      "      <size description=\"Large\">\n",
      "        <color_swatch image=\"red_cardigan.jpg\">Red</color_swatch>\n",
      "        <color_swatch image=\"burgundy_cardigan.jpg\">Burgundy</color_swatch>\n",
      "      </size>\n",
      "    </catalog_item>\n",
      "    <catalog_item gender=\"Women's\">\n",
      "      <item_number>RRX9856</item_number>\n",
      "      <price>42.50</price>\n",
      "      <size description=\"Small\">\n",
      "        <color_swatch image=\"red_cardigan.jpg\">Red</color_swatch>\n",
      "        <color_swatch image=\"navy_cardigan.jpg\">Navy</color_swatch>\n",
      "        <color_swatch image=\"burgundy_cardigan.jpg\">Burgundy</color_swatch>\n",
      "      </size>\n",
      "      <size description=\"Medium\">\n",
      "        <color_swatch image=\"red_cardigan.jpg\">Red</color_swatch>\n",
      "        <color_swatch image=\"navy_cardigan.jpg\">Navy</color_swatch>\n",
      "        <color_swatch image=\"burgundy_cardigan.jpg\">Burgundy</color_swatch>\n",
      "        <color_swatch image=\"black_cardigan.jpg\">Black</color_swatch>\n",
      "      </size>\n",
      "      <size description=\"Large\">\n",
      "        <color_swatch image=\"navy_cardigan.jpg\">Navy</color_swatch>\n",
      "        <color_swatch image=\"black_cardigan.jpg\">Black</color_swatch>\n",
      "      </size>\n",
      "      <size description=\"Extra Large\">\n",
      "        <color_swatch image=\"burgundy_cardigan.jpg\">Burgundy</color_swatch>\n",
      "        <color_swatch image=\"black_cardigan.jpg\">Black</color_swatch>\n",
      "      </size>\n",
      "    </catalog_item>\n",
      "  </product>\n",
      "</catalog>\n",
      "\n"
     ]
    }
   ],
   "source": [
    "y = \"\"\n",
    "endindex = []\n",
    "foundtags = []\n",
    "checkindent = []\n",
    "space = \"  \"\n",
    "\n",
    "compiletags = re.compile(r\"\"\"<.*?>\"\"\")\n",
    "compileforsametag = re.compile(r\"\"\"(?!<)(?!/)(.*?)((?=>)|(?=\\s))\"\"\")\n",
    "\n",
    "matchTags = re.finditer(compiletags,x)\n",
    "\n",
    "for value in matchTags:\n",
    "    endindex.append(value.end())\n",
    "    foundtags.append(x[value.span()[0]:value.span()[1]])\n",
    "\n",
    "for index in range(len(endindex)):\n",
    "    search1 = re.search(compileforsametag,foundtags[index]).group()\n",
    "    if index >0 :\n",
    "        searchprev = re.search(compileforsametag,foundtags[index-1])\n",
    "    \n",
    "    spacelength = len(checkindent)\n",
    "    checkindent.append(search1)\n",
    "    \n",
    "    if index == 0:\n",
    "        y = y  + x[:endindex[index]] + \"\\n\" \n",
    "    elif index < (len(endindex)-1) and search1 == re.search(compileforsametag,foundtags[index+1]).group() and search1 == searchprev.group() and checkindent.count(search1)==2:   \n",
    "        checkindent.remove(search1)\n",
    "        checkindent.remove(search1)\n",
    "        y = y +  x[endindex[index-1]:endindex[index]] + \"\\n\"   \n",
    "    elif index < (len(endindex)-1) and search1 == re.search(compileforsametag,foundtags[index+1]).group() and search1 == searchprev.group():\n",
    "        y = y + space*spacelength+  x[endindex[index-1]:endindex[index]]\n",
    "    elif index < (len(endindex)-1) and search1 == re.search(compileforsametag,foundtags[index+1]).group() and checkindent.count(search1)==2:\n",
    "        spacelength -= 1\n",
    "        y = y + space*spacelength + x[endindex[index-1]:endindex[index]] + \"\\n\"\n",
    "    elif index < (len(endindex)-1) and search1 == re.search(compileforsametag,foundtags[index+1]).group():\n",
    "        y = y + space*spacelength + x[endindex[index-1]:endindex[index]]\n",
    "    else:\n",
    "        if search1 == searchprev.group() and (\"</\" + searchprev.group()+ \">\") == foundtags[index]:\n",
    "            y = y  + x[endindex[index-1]:endindex[index]] + \"\\n\" \n",
    "        elif checkindent.count(search1)==2:\n",
    "            spacelength -= 1\n",
    "            y = y + space*spacelength + x[endindex[index-1]:endindex[index]] + \"\\n\" \n",
    "        else:\n",
    "            y = y + space*spacelength +  x[endindex[index-1]:endindex[index]] + \"\\n\" \n",
    "    \n",
    "    if checkindent.count(search1)==2:\n",
    "        checkindent.remove(search1)\n",
    "        checkindent.remove(search1)\n",
    "print(y)\n"
   ]
  },
  {
   "cell_type": "code",
   "execution_count": 139,
   "metadata": {},
   "outputs": [],
   "source": [
    "fp = open(\"test1.xml\",\"w\")\n",
    "fp.write(y)\n",
    "fp.close()"
   ]
  },
  {
   "cell_type": "code",
   "execution_count": 155,
   "metadata": {},
   "outputs": [
    {
     "ename": "ModuleNotFoundError",
     "evalue": "No module named 'Scrapy'",
     "output_type": "error",
     "traceback": [
      "\u001b[1;31m---------------------------------------------------------------------------\u001b[0m",
      "\u001b[1;31mModuleNotFoundError\u001b[0m                       Traceback (most recent call last)",
      "\u001b[1;32m<ipython-input-155-ad647b42aa56>\u001b[0m in \u001b[0;36m<module>\u001b[1;34m\u001b[0m\n\u001b[1;32m----> 1\u001b[1;33m \u001b[1;32mimport\u001b[0m \u001b[0mScrapy\u001b[0m\u001b[1;33m\u001b[0m\u001b[1;33m\u001b[0m\u001b[0m\n\u001b[0m",
      "\u001b[1;31mModuleNotFoundError\u001b[0m: No module named 'Scrapy'"
     ]
    }
   ],
   "source": []
  }
 ],
 "metadata": {
  "kernelspec": {
   "display_name": "Python 3",
   "language": "python",
   "name": "python3"
  },
  "language_info": {
   "codemirror_mode": {
    "name": "ipython",
    "version": 3
   },
   "file_extension": ".py",
   "mimetype": "text/x-python",
   "name": "python",
   "nbconvert_exporter": "python",
   "pygments_lexer": "ipython3",
   "version": "3.7.1"
  }
 },
 "nbformat": 4,
 "nbformat_minor": 2
}
