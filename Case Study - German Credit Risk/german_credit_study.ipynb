{
  "cells": [
    {
      "metadata": {
        "trusted": true,
        "_uuid": "df8bc67e3920939ce16a626eb2b983eedd62b8a1"
      },
      "cell_type": "code",
      "source": "import numpy as np\nimport pandas as pd\nimport matplotlib.pyplot as plt\n%matplotlib inline",
      "execution_count": 45,
      "outputs": []
    },
    {
      "metadata": {
        "trusted": true,
        "_uuid": "f6a680352ea1bfe8d6228fc7e149d0f9a2695f3a"
      },
      "cell_type": "code",
      "source": "# Load Data\ncredit_data = pd.read_csv('../input/german-credit-data-with-risk/german_credit_data.csv')",
      "execution_count": 46,
      "outputs": []
    },
    {
      "metadata": {
        "trusted": true,
        "_uuid": "df34692f3be4f90bf65e5f4c5b2d5def45a5529d"
      },
      "cell_type": "code",
      "source": "# First Look at data\ncredit_data.head(10)",
      "execution_count": 47,
      "outputs": [
        {
          "output_type": "execute_result",
          "execution_count": 47,
          "data": {
            "text/plain": "   Unnamed: 0  Age     Sex  ...   Duration              Purpose  Risk\n0           0   67    male  ...          6             radio/TV  good\n1           1   22  female  ...         48             radio/TV   bad\n2           2   49    male  ...         12            education  good\n3           3   45    male  ...         42  furniture/equipment  good\n4           4   53    male  ...         24                  car   bad\n5           5   35    male  ...         36            education  good\n6           6   53    male  ...         24  furniture/equipment  good\n7           7   35    male  ...         36                  car  good\n8           8   61    male  ...         12             radio/TV  good\n9           9   28    male  ...         30                  car   bad\n\n[10 rows x 11 columns]",
            "text/html": "<div>\n<style scoped>\n    .dataframe tbody tr th:only-of-type {\n        vertical-align: middle;\n    }\n\n    .dataframe tbody tr th {\n        vertical-align: top;\n    }\n\n    .dataframe thead th {\n        text-align: right;\n    }\n</style>\n<table border=\"1\" class=\"dataframe\">\n  <thead>\n    <tr style=\"text-align: right;\">\n      <th></th>\n      <th>Unnamed: 0</th>\n      <th>Age</th>\n      <th>Sex</th>\n      <th>Job</th>\n      <th>Housing</th>\n      <th>Saving accounts</th>\n      <th>Checking account</th>\n      <th>Credit amount</th>\n      <th>Duration</th>\n      <th>Purpose</th>\n      <th>Risk</th>\n    </tr>\n  </thead>\n  <tbody>\n    <tr>\n      <th>0</th>\n      <td>0</td>\n      <td>67</td>\n      <td>male</td>\n      <td>2</td>\n      <td>own</td>\n      <td>NaN</td>\n      <td>little</td>\n      <td>1169</td>\n      <td>6</td>\n      <td>radio/TV</td>\n      <td>good</td>\n    </tr>\n    <tr>\n      <th>1</th>\n      <td>1</td>\n      <td>22</td>\n      <td>female</td>\n      <td>2</td>\n      <td>own</td>\n      <td>little</td>\n      <td>moderate</td>\n      <td>5951</td>\n      <td>48</td>\n      <td>radio/TV</td>\n      <td>bad</td>\n    </tr>\n    <tr>\n      <th>2</th>\n      <td>2</td>\n      <td>49</td>\n      <td>male</td>\n      <td>1</td>\n      <td>own</td>\n      <td>little</td>\n      <td>NaN</td>\n      <td>2096</td>\n      <td>12</td>\n      <td>education</td>\n      <td>good</td>\n    </tr>\n    <tr>\n      <th>3</th>\n      <td>3</td>\n      <td>45</td>\n      <td>male</td>\n      <td>2</td>\n      <td>free</td>\n      <td>little</td>\n      <td>little</td>\n      <td>7882</td>\n      <td>42</td>\n      <td>furniture/equipment</td>\n      <td>good</td>\n    </tr>\n    <tr>\n      <th>4</th>\n      <td>4</td>\n      <td>53</td>\n      <td>male</td>\n      <td>2</td>\n      <td>free</td>\n      <td>little</td>\n      <td>little</td>\n      <td>4870</td>\n      <td>24</td>\n      <td>car</td>\n      <td>bad</td>\n    </tr>\n    <tr>\n      <th>5</th>\n      <td>5</td>\n      <td>35</td>\n      <td>male</td>\n      <td>1</td>\n      <td>free</td>\n      <td>NaN</td>\n      <td>NaN</td>\n      <td>9055</td>\n      <td>36</td>\n      <td>education</td>\n      <td>good</td>\n    </tr>\n    <tr>\n      <th>6</th>\n      <td>6</td>\n      <td>53</td>\n      <td>male</td>\n      <td>2</td>\n      <td>own</td>\n      <td>quite rich</td>\n      <td>NaN</td>\n      <td>2835</td>\n      <td>24</td>\n      <td>furniture/equipment</td>\n      <td>good</td>\n    </tr>\n    <tr>\n      <th>7</th>\n      <td>7</td>\n      <td>35</td>\n      <td>male</td>\n      <td>3</td>\n      <td>rent</td>\n      <td>little</td>\n      <td>moderate</td>\n      <td>6948</td>\n      <td>36</td>\n      <td>car</td>\n      <td>good</td>\n    </tr>\n    <tr>\n      <th>8</th>\n      <td>8</td>\n      <td>61</td>\n      <td>male</td>\n      <td>1</td>\n      <td>own</td>\n      <td>rich</td>\n      <td>NaN</td>\n      <td>3059</td>\n      <td>12</td>\n      <td>radio/TV</td>\n      <td>good</td>\n    </tr>\n    <tr>\n      <th>9</th>\n      <td>9</td>\n      <td>28</td>\n      <td>male</td>\n      <td>3</td>\n      <td>own</td>\n      <td>little</td>\n      <td>moderate</td>\n      <td>5234</td>\n      <td>30</td>\n      <td>car</td>\n      <td>bad</td>\n    </tr>\n  </tbody>\n</table>\n</div>"
          },
          "metadata": {}
        }
      ]
    },
    {
      "metadata": {
        "trusted": true,
        "_uuid": "40e875aae94e6cd38b2526d4f4907fbcf2ee79d1"
      },
      "cell_type": "code",
      "source": "# Renaming and Fixing Index\ncredit_data.rename(columns = {'Unnamed: 0' : 'Index'},inplace=True)\ncredit_data.set_index('Index',inplace=True)\ncredit_data.head()",
      "execution_count": 48,
      "outputs": [
        {
          "output_type": "execute_result",
          "execution_count": 48,
          "data": {
            "text/plain": "       Age     Sex  Job  ...  Duration              Purpose  Risk\nIndex                    ...                                     \n0       67    male    2  ...         6             radio/TV  good\n1       22  female    2  ...        48             radio/TV   bad\n2       49    male    1  ...        12            education  good\n3       45    male    2  ...        42  furniture/equipment  good\n4       53    male    2  ...        24                  car   bad\n\n[5 rows x 10 columns]",
            "text/html": "<div>\n<style scoped>\n    .dataframe tbody tr th:only-of-type {\n        vertical-align: middle;\n    }\n\n    .dataframe tbody tr th {\n        vertical-align: top;\n    }\n\n    .dataframe thead th {\n        text-align: right;\n    }\n</style>\n<table border=\"1\" class=\"dataframe\">\n  <thead>\n    <tr style=\"text-align: right;\">\n      <th></th>\n      <th>Age</th>\n      <th>Sex</th>\n      <th>Job</th>\n      <th>Housing</th>\n      <th>Saving accounts</th>\n      <th>Checking account</th>\n      <th>Credit amount</th>\n      <th>Duration</th>\n      <th>Purpose</th>\n      <th>Risk</th>\n    </tr>\n    <tr>\n      <th>Index</th>\n      <th></th>\n      <th></th>\n      <th></th>\n      <th></th>\n      <th></th>\n      <th></th>\n      <th></th>\n      <th></th>\n      <th></th>\n      <th></th>\n    </tr>\n  </thead>\n  <tbody>\n    <tr>\n      <th>0</th>\n      <td>67</td>\n      <td>male</td>\n      <td>2</td>\n      <td>own</td>\n      <td>NaN</td>\n      <td>little</td>\n      <td>1169</td>\n      <td>6</td>\n      <td>radio/TV</td>\n      <td>good</td>\n    </tr>\n    <tr>\n      <th>1</th>\n      <td>22</td>\n      <td>female</td>\n      <td>2</td>\n      <td>own</td>\n      <td>little</td>\n      <td>moderate</td>\n      <td>5951</td>\n      <td>48</td>\n      <td>radio/TV</td>\n      <td>bad</td>\n    </tr>\n    <tr>\n      <th>2</th>\n      <td>49</td>\n      <td>male</td>\n      <td>1</td>\n      <td>own</td>\n      <td>little</td>\n      <td>NaN</td>\n      <td>2096</td>\n      <td>12</td>\n      <td>education</td>\n      <td>good</td>\n    </tr>\n    <tr>\n      <th>3</th>\n      <td>45</td>\n      <td>male</td>\n      <td>2</td>\n      <td>free</td>\n      <td>little</td>\n      <td>little</td>\n      <td>7882</td>\n      <td>42</td>\n      <td>furniture/equipment</td>\n      <td>good</td>\n    </tr>\n    <tr>\n      <th>4</th>\n      <td>53</td>\n      <td>male</td>\n      <td>2</td>\n      <td>free</td>\n      <td>little</td>\n      <td>little</td>\n      <td>4870</td>\n      <td>24</td>\n      <td>car</td>\n      <td>bad</td>\n    </tr>\n  </tbody>\n</table>\n</div>"
          },
          "metadata": {}
        }
      ]
    },
    {
      "metadata": {
        "trusted": true,
        "_uuid": "ddaaff9cf4b94386098361d635537bc7a00ddc9d"
      },
      "cell_type": "code",
      "source": "# Checking Null values\ncredit_data.isnull().any()",
      "execution_count": 49,
      "outputs": [
        {
          "output_type": "execute_result",
          "execution_count": 49,
          "data": {
            "text/plain": "Age                 False\nSex                 False\nJob                 False\nHousing             False\nSaving accounts      True\nChecking account     True\nCredit amount       False\nDuration            False\nPurpose             False\nRisk                False\ndtype: bool"
          },
          "metadata": {}
        }
      ]
    },
    {
      "metadata": {
        "trusted": true,
        "_uuid": "bb0eb6598de837af7026a9b4b8c1e4176b9b3355"
      },
      "cell_type": "code",
      "source": "# Replacing Null values with string Unknown\ncredit_data.fillna('Unknown',inplace=True)\ncredit_data.head()",
      "execution_count": 50,
      "outputs": [
        {
          "output_type": "execute_result",
          "execution_count": 50,
          "data": {
            "text/plain": "       Age     Sex  Job  ...  Duration              Purpose  Risk\nIndex                    ...                                     \n0       67    male    2  ...         6             radio/TV  good\n1       22  female    2  ...        48             radio/TV   bad\n2       49    male    1  ...        12            education  good\n3       45    male    2  ...        42  furniture/equipment  good\n4       53    male    2  ...        24                  car   bad\n\n[5 rows x 10 columns]",
            "text/html": "<div>\n<style scoped>\n    .dataframe tbody tr th:only-of-type {\n        vertical-align: middle;\n    }\n\n    .dataframe tbody tr th {\n        vertical-align: top;\n    }\n\n    .dataframe thead th {\n        text-align: right;\n    }\n</style>\n<table border=\"1\" class=\"dataframe\">\n  <thead>\n    <tr style=\"text-align: right;\">\n      <th></th>\n      <th>Age</th>\n      <th>Sex</th>\n      <th>Job</th>\n      <th>Housing</th>\n      <th>Saving accounts</th>\n      <th>Checking account</th>\n      <th>Credit amount</th>\n      <th>Duration</th>\n      <th>Purpose</th>\n      <th>Risk</th>\n    </tr>\n    <tr>\n      <th>Index</th>\n      <th></th>\n      <th></th>\n      <th></th>\n      <th></th>\n      <th></th>\n      <th></th>\n      <th></th>\n      <th></th>\n      <th></th>\n      <th></th>\n    </tr>\n  </thead>\n  <tbody>\n    <tr>\n      <th>0</th>\n      <td>67</td>\n      <td>male</td>\n      <td>2</td>\n      <td>own</td>\n      <td>Unknown</td>\n      <td>little</td>\n      <td>1169</td>\n      <td>6</td>\n      <td>radio/TV</td>\n      <td>good</td>\n    </tr>\n    <tr>\n      <th>1</th>\n      <td>22</td>\n      <td>female</td>\n      <td>2</td>\n      <td>own</td>\n      <td>little</td>\n      <td>moderate</td>\n      <td>5951</td>\n      <td>48</td>\n      <td>radio/TV</td>\n      <td>bad</td>\n    </tr>\n    <tr>\n      <th>2</th>\n      <td>49</td>\n      <td>male</td>\n      <td>1</td>\n      <td>own</td>\n      <td>little</td>\n      <td>Unknown</td>\n      <td>2096</td>\n      <td>12</td>\n      <td>education</td>\n      <td>good</td>\n    </tr>\n    <tr>\n      <th>3</th>\n      <td>45</td>\n      <td>male</td>\n      <td>2</td>\n      <td>free</td>\n      <td>little</td>\n      <td>little</td>\n      <td>7882</td>\n      <td>42</td>\n      <td>furniture/equipment</td>\n      <td>good</td>\n    </tr>\n    <tr>\n      <th>4</th>\n      <td>53</td>\n      <td>male</td>\n      <td>2</td>\n      <td>free</td>\n      <td>little</td>\n      <td>little</td>\n      <td>4870</td>\n      <td>24</td>\n      <td>car</td>\n      <td>bad</td>\n    </tr>\n  </tbody>\n</table>\n</div>"
          },
          "metadata": {}
        }
      ]
    },
    {
      "metadata": {
        "trusted": true,
        "_uuid": "3b184c91f8b91e7cea39beaf2b2a481d64fdbc85"
      },
      "cell_type": "code",
      "source": "# Encoding Risk in 1 and 0, good = 1, bad = 0\ncredit_data[['Risk']]=credit_data.Risk.map({'good':1,'bad':0})\ncredit_data.head(3)",
      "execution_count": 51,
      "outputs": [
        {
          "output_type": "execute_result",
          "execution_count": 51,
          "data": {
            "text/plain": "       Age     Sex  Job Housing  ...  Credit amount Duration    Purpose  Risk\nIndex                            ...                                         \n0       67    male    2     own  ...           1169        6   radio/TV     1\n1       22  female    2     own  ...           5951       48   radio/TV     0\n2       49    male    1     own  ...           2096       12  education     1\n\n[3 rows x 10 columns]",
            "text/html": "<div>\n<style scoped>\n    .dataframe tbody tr th:only-of-type {\n        vertical-align: middle;\n    }\n\n    .dataframe tbody tr th {\n        vertical-align: top;\n    }\n\n    .dataframe thead th {\n        text-align: right;\n    }\n</style>\n<table border=\"1\" class=\"dataframe\">\n  <thead>\n    <tr style=\"text-align: right;\">\n      <th></th>\n      <th>Age</th>\n      <th>Sex</th>\n      <th>Job</th>\n      <th>Housing</th>\n      <th>Saving accounts</th>\n      <th>Checking account</th>\n      <th>Credit amount</th>\n      <th>Duration</th>\n      <th>Purpose</th>\n      <th>Risk</th>\n    </tr>\n    <tr>\n      <th>Index</th>\n      <th></th>\n      <th></th>\n      <th></th>\n      <th></th>\n      <th></th>\n      <th></th>\n      <th></th>\n      <th></th>\n      <th></th>\n      <th></th>\n    </tr>\n  </thead>\n  <tbody>\n    <tr>\n      <th>0</th>\n      <td>67</td>\n      <td>male</td>\n      <td>2</td>\n      <td>own</td>\n      <td>Unknown</td>\n      <td>little</td>\n      <td>1169</td>\n      <td>6</td>\n      <td>radio/TV</td>\n      <td>1</td>\n    </tr>\n    <tr>\n      <th>1</th>\n      <td>22</td>\n      <td>female</td>\n      <td>2</td>\n      <td>own</td>\n      <td>little</td>\n      <td>moderate</td>\n      <td>5951</td>\n      <td>48</td>\n      <td>radio/TV</td>\n      <td>0</td>\n    </tr>\n    <tr>\n      <th>2</th>\n      <td>49</td>\n      <td>male</td>\n      <td>1</td>\n      <td>own</td>\n      <td>little</td>\n      <td>Unknown</td>\n      <td>2096</td>\n      <td>12</td>\n      <td>education</td>\n      <td>1</td>\n    </tr>\n  </tbody>\n</table>\n</div>"
          },
          "metadata": {}
        }
      ]
    },
    {
      "metadata": {
        "trusted": true,
        "_uuid": "96818c850ae3f20c081918f6a9057db9f1c95b6b"
      },
      "cell_type": "code",
      "source": "# importing pakages\nfrom sklearn.compose import ColumnTransformer\nfrom sklearn.pipeline import Pipeline, make_pipeline\nfrom sklearn.preprocessing import RobustScaler, MinMaxScaler, StandardScaler\nfrom sklearn.model_selection import train_test_split\nfrom sklearn.base import BaseEstimator, TransformerMixin\nfrom sklearn.tree import DecisionTreeClassifier\nfrom sklearn.preprocessing import OneHotEncoder",
      "execution_count": 52,
      "outputs": []
    },
    {
      "metadata": {
        "trusted": true,
        "_uuid": "2601f556e01a4ae2bd6074c4ac91447856457a8c"
      },
      "cell_type": "code",
      "source": "# Creating Feature Data\nfeature_data = credit_data.drop('Risk',axis =1)",
      "execution_count": 53,
      "outputs": []
    },
    {
      "metadata": {
        "trusted": true,
        "_uuid": "575fddc314192e94d0baacfe9974cfcddf4d6208"
      },
      "cell_type": "code",
      "source": "feature_data.head(2)",
      "execution_count": 54,
      "outputs": [
        {
          "output_type": "execute_result",
          "execution_count": 54,
          "data": {
            "text/plain": "       Age     Sex  Job    ...    Credit amount Duration   Purpose\nIndex                      ...                                    \n0       67    male    2    ...             1169        6  radio/TV\n1       22  female    2    ...             5951       48  radio/TV\n\n[2 rows x 9 columns]",
            "text/html": "<div>\n<style scoped>\n    .dataframe tbody tr th:only-of-type {\n        vertical-align: middle;\n    }\n\n    .dataframe tbody tr th {\n        vertical-align: top;\n    }\n\n    .dataframe thead th {\n        text-align: right;\n    }\n</style>\n<table border=\"1\" class=\"dataframe\">\n  <thead>\n    <tr style=\"text-align: right;\">\n      <th></th>\n      <th>Age</th>\n      <th>Sex</th>\n      <th>Job</th>\n      <th>Housing</th>\n      <th>Saving accounts</th>\n      <th>Checking account</th>\n      <th>Credit amount</th>\n      <th>Duration</th>\n      <th>Purpose</th>\n    </tr>\n    <tr>\n      <th>Index</th>\n      <th></th>\n      <th></th>\n      <th></th>\n      <th></th>\n      <th></th>\n      <th></th>\n      <th></th>\n      <th></th>\n      <th></th>\n    </tr>\n  </thead>\n  <tbody>\n    <tr>\n      <th>0</th>\n      <td>67</td>\n      <td>male</td>\n      <td>2</td>\n      <td>own</td>\n      <td>Unknown</td>\n      <td>little</td>\n      <td>1169</td>\n      <td>6</td>\n      <td>radio/TV</td>\n    </tr>\n    <tr>\n      <th>1</th>\n      <td>22</td>\n      <td>female</td>\n      <td>2</td>\n      <td>own</td>\n      <td>little</td>\n      <td>moderate</td>\n      <td>5951</td>\n      <td>48</td>\n      <td>radio/TV</td>\n    </tr>\n  </tbody>\n</table>\n</div>"
          },
          "metadata": {}
        }
      ]
    },
    {
      "metadata": {
        "trusted": true,
        "_uuid": "d6ce96be4f072c7c4097d7d6ae3b38879486ff69"
      },
      "cell_type": "code",
      "source": "# Creating target Data\ntarget_data = credit_data.Risk\ntarget_data.head()",
      "execution_count": 55,
      "outputs": [
        {
          "output_type": "execute_result",
          "execution_count": 55,
          "data": {
            "text/plain": "Index\n0    1\n1    0\n2    1\n3    1\n4    0\nName: Risk, dtype: int64"
          },
          "metadata": {}
        }
      ]
    },
    {
      "metadata": {
        "trusted": true,
        "_uuid": "4542353c0ad89bd6053e566fb1b8450aad6adec4"
      },
      "cell_type": "code",
      "source": "# Checking column for data type to decide encoding. Ordinal Data will be label encode and non ordinal data will be one hot encode\ncredit_data.Housing.value_counts()\n# Housing column to be one hot encode",
      "execution_count": 56,
      "outputs": [
        {
          "output_type": "execute_result",
          "execution_count": 56,
          "data": {
            "text/plain": "own     713\nrent    179\nfree    108\nName: Housing, dtype: int64"
          },
          "metadata": {}
        }
      ]
    },
    {
      "metadata": {
        "trusted": true,
        "_uuid": "c38830e526b8464c7b0ea3cb82653a5de42b77bf"
      },
      "cell_type": "code",
      "source": "credit_data['Saving accounts'].value_counts()\n# Saving accounts to be label encode",
      "execution_count": 57,
      "outputs": [
        {
          "output_type": "execute_result",
          "execution_count": 57,
          "data": {
            "text/plain": "little        603\nUnknown       183\nmoderate      103\nquite rich     63\nrich           48\nName: Saving accounts, dtype: int64"
          },
          "metadata": {}
        }
      ]
    },
    {
      "metadata": {
        "trusted": true,
        "_uuid": "14fba1466a8e7c73cc5348ff951b3fd1aebd0914"
      },
      "cell_type": "code",
      "source": "credit_data['Checking account'].value_counts()\n# Checking account to be label encode",
      "execution_count": 58,
      "outputs": [
        {
          "output_type": "execute_result",
          "execution_count": 58,
          "data": {
            "text/plain": "Unknown     394\nlittle      274\nmoderate    269\nrich         63\nName: Checking account, dtype: int64"
          },
          "metadata": {}
        }
      ]
    },
    {
      "metadata": {
        "trusted": true,
        "_uuid": "2317c6fcadcf5f3294e978a305a1a9e7bce25ce8"
      },
      "cell_type": "code",
      "source": "credit_data['Purpose'].value_counts()\n# Purpose to be one hot encode",
      "execution_count": 59,
      "outputs": [
        {
          "output_type": "execute_result",
          "execution_count": 59,
          "data": {
            "text/plain": "car                    337\nradio/TV               280\nfurniture/equipment    181\nbusiness                97\neducation               59\nrepairs                 22\ndomestic appliances     12\nvacation/others         12\nName: Purpose, dtype: int64"
          },
          "metadata": {}
        }
      ]
    },
    {
      "metadata": {
        "trusted": true,
        "_uuid": "195fc333df040f88cc5f2ef875eff13f5eb0492c"
      },
      "cell_type": "code",
      "source": "class CustLabel(BaseEstimator, TransformerMixin):\n    \n    def fit(self,X,Y=None):\n        return self\n    \n    def transform(self,X,Y=None):\n        db = {'Unknown':0,'little':1,'moderate':2,'rich':3,'quite rich':4}\n#         print (type(X))\n        r = X.replace(db)\n        return pd.DataFrame(r)",
      "execution_count": 60,
      "outputs": []
    },
    {
      "metadata": {
        "trusted": true,
        "_uuid": "188ea9c446380aa3602572919886a3471c38be38"
      },
      "cell_type": "code",
      "source": "credit_data.head(3)",
      "execution_count": 61,
      "outputs": [
        {
          "output_type": "execute_result",
          "execution_count": 61,
          "data": {
            "text/plain": "       Age     Sex  Job Housing  ...  Credit amount Duration    Purpose  Risk\nIndex                            ...                                         \n0       67    male    2     own  ...           1169        6   radio/TV     1\n1       22  female    2     own  ...           5951       48   radio/TV     0\n2       49    male    1     own  ...           2096       12  education     1\n\n[3 rows x 10 columns]",
            "text/html": "<div>\n<style scoped>\n    .dataframe tbody tr th:only-of-type {\n        vertical-align: middle;\n    }\n\n    .dataframe tbody tr th {\n        vertical-align: top;\n    }\n\n    .dataframe thead th {\n        text-align: right;\n    }\n</style>\n<table border=\"1\" class=\"dataframe\">\n  <thead>\n    <tr style=\"text-align: right;\">\n      <th></th>\n      <th>Age</th>\n      <th>Sex</th>\n      <th>Job</th>\n      <th>Housing</th>\n      <th>Saving accounts</th>\n      <th>Checking account</th>\n      <th>Credit amount</th>\n      <th>Duration</th>\n      <th>Purpose</th>\n      <th>Risk</th>\n    </tr>\n    <tr>\n      <th>Index</th>\n      <th></th>\n      <th></th>\n      <th></th>\n      <th></th>\n      <th></th>\n      <th></th>\n      <th></th>\n      <th></th>\n      <th></th>\n      <th></th>\n    </tr>\n  </thead>\n  <tbody>\n    <tr>\n      <th>0</th>\n      <td>67</td>\n      <td>male</td>\n      <td>2</td>\n      <td>own</td>\n      <td>Unknown</td>\n      <td>little</td>\n      <td>1169</td>\n      <td>6</td>\n      <td>radio/TV</td>\n      <td>1</td>\n    </tr>\n    <tr>\n      <th>1</th>\n      <td>22</td>\n      <td>female</td>\n      <td>2</td>\n      <td>own</td>\n      <td>little</td>\n      <td>moderate</td>\n      <td>5951</td>\n      <td>48</td>\n      <td>radio/TV</td>\n      <td>0</td>\n    </tr>\n    <tr>\n      <th>2</th>\n      <td>49</td>\n      <td>male</td>\n      <td>1</td>\n      <td>own</td>\n      <td>little</td>\n      <td>Unknown</td>\n      <td>2096</td>\n      <td>12</td>\n      <td>education</td>\n      <td>1</td>\n    </tr>\n  </tbody>\n</table>\n</div>"
          },
          "metadata": {}
        }
      ]
    },
    {
      "metadata": {
        "trusted": true,
        "_uuid": "c5690fe53af096f5fafa01dccf62cff7c12ceb1c"
      },
      "cell_type": "code",
      "source": "# Creating pipelines",
      "execution_count": 62,
      "outputs": []
    },
    {
      "metadata": {
        "trusted": true,
        "_uuid": "b6700d312a150e01e281b1fcfeb038140bda8012"
      },
      "cell_type": "code",
      "source": "nums_pipeline = make_pipeline(MinMaxScaler())",
      "execution_count": 63,
      "outputs": []
    },
    {
      "metadata": {
        "trusted": true,
        "_uuid": "948febd0d756b1280d29b259d456051e3eb0b1ee"
      },
      "cell_type": "code",
      "source": "custlab_pipeline = make_pipeline(CustLabel())",
      "execution_count": 64,
      "outputs": []
    },
    {
      "metadata": {
        "trusted": true,
        "_uuid": "ffe2c10c6a0b2483970912e54bae9e37210bc354"
      },
      "cell_type": "code",
      "source": "onehot_pipeline = make_pipeline(OneHotEncoder())",
      "execution_count": 65,
      "outputs": []
    },
    {
      "metadata": {
        "trusted": true,
        "_uuid": "66a096d947843f4c8f8307f2b2cc8269d573dc93"
      },
      "cell_type": "code",
      "source": "ct = ColumnTransformer(\n      transformers=[\n          ('number_data', nums_pipeline, ['Credit amount','Age','Duration']),\n          ('salary_data', custlab_pipeline, ['Saving accounts','Checking account']),\n          ('dept_data', onehot_pipeline, ['Sex','Housing','Purpose'])\n      ]\n)",
      "execution_count": 75,
      "outputs": []
    },
    {
      "metadata": {
        "trusted": true,
        "_uuid": "87469f1aeb479b7bd151da595c1b576d92613664"
      },
      "cell_type": "code",
      "source": "trainX,testX,trainY,testY = train_test_split(feature_data,target_data)",
      "execution_count": 67,
      "outputs": []
    },
    {
      "metadata": {
        "trusted": true,
        "_uuid": "85392478d587e02fc88ea3512d819b464d09dbee"
      },
      "cell_type": "code",
      "source": "from sklearn.linear_model import LogisticRegression\nfrom sklearn.ensemble import RandomForestClassifier,BaggingClassifier,AdaBoostClassifier,ExtraTreesClassifier,GradientBoostingClassifier\nfrom sklearn.tree import DecisionTreeClassifier,ExtraTreeClassifier\nfrom sklearn.neighbors import KNeighborsClassifier,NearestNeighbors\nfrom sklearn.naive_bayes import BernoulliNB,GaussianNB,MultinomialNB\nfrom sklearn.svm import SVC",
      "execution_count": 68,
      "outputs": []
    },
    {
      "metadata": {
        "trusted": true,
        "_uuid": "49df65003aba31bd81c1e2ff0ae712a5ee935f45"
      },
      "cell_type": "code",
      "source": "AllModels = [SVC(kernel = 'linear'),\n             LogisticRegression(solver='lbfgs'),\n             RandomForestClassifier(n_estimators = 100),\n             BaggingClassifier(),\n             AdaBoostClassifier(),\n             GradientBoostingClassifier(),\n             DecisionTreeClassifier(),\n             ExtraTreeClassifier(),\n             KNeighborsClassifier(),\n             NearestNeighbors(),\n             BernoulliNB(),\n#              GaussianNB(),\n             MultinomialNB()\n            ]\nAllModelsName = ['SVC(kernel = linear)',\n                 'LogisticRegression()',\n                 'RandomForestClassifier()',\n                 'BaggingClassifier()',\n                 'AdaBoostClassifier()',\n                 'GradientBoostingClassifier()',\n                 'DecisionTreeClassifier()',\n                 'ExtraTreeClassifier()',\n                 'KNeighborsClassifier()',\n                 'NearestNeighbors()',\n                 'BernoulliNB()',\n#                  'GaussianNB()',\n                 'MultinomialNB()'\n                ]\n",
      "execution_count": 69,
      "outputs": []
    },
    {
      "metadata": {
        "trusted": true,
        "_uuid": "5d06f7e77bc5f1fcd5636fc311ce1e547c22601c"
      },
      "cell_type": "code",
      "source": "pipelines= []\nfor models in AllModels:\n    pipeline = Pipeline(steps = [\n        ('preprocessor',ct),\n        ('Classifier',models)\n    ])\n    pipelines.append(pipeline)",
      "execution_count": 76,
      "outputs": []
    },
    {
      "metadata": {
        "trusted": true,
        "_uuid": "eddcb60bd90354c377400e440528d8107439e7ab"
      },
      "cell_type": "code",
      "source": "for pipeline in pipelines:    \n    pipeline.fit(trainX,trainY)\n#     print(pipeline)\n",
      "execution_count": 77,
      "outputs": [
        {
          "output_type": "stream",
          "text": "/opt/conda/lib/python3.6/site-packages/sklearn/preprocessing/data.py:334: DataConversionWarning: Data with input dtype int64 were all converted to float64 by MinMaxScaler.\n  return self.partial_fit(X, y)\n/opt/conda/lib/python3.6/site-packages/sklearn/preprocessing/data.py:334: DataConversionWarning: Data with input dtype int64 were all converted to float64 by MinMaxScaler.\n  return self.partial_fit(X, y)\n/opt/conda/lib/python3.6/site-packages/sklearn/preprocessing/data.py:334: DataConversionWarning: Data with input dtype int64 were all converted to float64 by MinMaxScaler.\n  return self.partial_fit(X, y)\n/opt/conda/lib/python3.6/site-packages/sklearn/preprocessing/data.py:334: DataConversionWarning: Data with input dtype int64 were all converted to float64 by MinMaxScaler.\n  return self.partial_fit(X, y)\n/opt/conda/lib/python3.6/site-packages/sklearn/preprocessing/data.py:334: DataConversionWarning: Data with input dtype int64 were all converted to float64 by MinMaxScaler.\n  return self.partial_fit(X, y)\n/opt/conda/lib/python3.6/site-packages/sklearn/preprocessing/data.py:334: DataConversionWarning: Data with input dtype int64 were all converted to float64 by MinMaxScaler.\n  return self.partial_fit(X, y)\n/opt/conda/lib/python3.6/site-packages/sklearn/preprocessing/data.py:334: DataConversionWarning: Data with input dtype int64 were all converted to float64 by MinMaxScaler.\n  return self.partial_fit(X, y)\n/opt/conda/lib/python3.6/site-packages/sklearn/preprocessing/data.py:334: DataConversionWarning: Data with input dtype int64 were all converted to float64 by MinMaxScaler.\n  return self.partial_fit(X, y)\n/opt/conda/lib/python3.6/site-packages/sklearn/preprocessing/data.py:334: DataConversionWarning: Data with input dtype int64 were all converted to float64 by MinMaxScaler.\n  return self.partial_fit(X, y)\n/opt/conda/lib/python3.6/site-packages/sklearn/preprocessing/data.py:334: DataConversionWarning: Data with input dtype int64 were all converted to float64 by MinMaxScaler.\n  return self.partial_fit(X, y)\n/opt/conda/lib/python3.6/site-packages/sklearn/preprocessing/data.py:334: DataConversionWarning: Data with input dtype int64 were all converted to float64 by MinMaxScaler.\n  return self.partial_fit(X, y)\n/opt/conda/lib/python3.6/site-packages/sklearn/preprocessing/data.py:334: DataConversionWarning: Data with input dtype int64 were all converted to float64 by MinMaxScaler.\n  return self.partial_fit(X, y)\n",
          "name": "stderr"
        }
      ]
    },
    {
      "metadata": {
        "trusted": true,
        "_uuid": "d768a647d7e8c18385b1426e7d36ae68f08fce14"
      },
      "cell_type": "code",
      "source": "for index,pipeline in enumerate(pipelines):        \n    try:\n        print(str(AllModelsName[index]),\" = \",pipeline.score(testX,testY))\n    except:\n        pass",
      "execution_count": 79,
      "outputs": [
        {
          "output_type": "stream",
          "text": "SVC(kernel = linear)  =  0.684\nLogisticRegression()  =  0.676\nRandomForestClassifier()  =  0.716\nBaggingClassifier()  =  0.74\nAdaBoostClassifier()  =  0.736\nGradientBoostingClassifier()  =  0.752\nDecisionTreeClassifier()  =  0.712\nExtraTreeClassifier()  =  0.588\nKNeighborsClassifier()  =  0.66\nBernoulliNB()  =  0.696\nMultinomialNB()  =  0.68\n",
          "name": "stdout"
        }
      ]
    },
    {
      "metadata": {
        "trusted": true,
        "_uuid": "8f78868eb94ab0aecc2a2cddaa6edf3375b3027c",
        "scrolled": false
      },
      "cell_type": "code",
      "source": "#  base_estimator=SVC\nab = AdaBoostClassifier(algorithm='SAMME',base_estimator=SVC(kernel='rbf',C = 10000, gamma = 'auto'),n_estimators=100)\npipeline = make_pipeline(ct,ab)\npipeline.fit(trainX,trainY)\nprint('AdaBoost Accuracy with SVC = ',(pipeline.score(testX,testY)*100))",
      "execution_count": null,
      "outputs": []
    },
    {
      "metadata": {
        "trusted": true,
        "_uuid": "8817ae3ba1be020a00627ca77d187c1c90c82a22"
      },
      "cell_type": "code",
      "source": "",
      "execution_count": null,
      "outputs": []
    }
  ],
  "metadata": {
    "kernelspec": {
      "display_name": "Python 3",
      "language": "python",
      "name": "python3"
    },
    "language_info": {
      "name": "python",
      "version": "3.6.6",
      "mimetype": "text/x-python",
      "codemirror_mode": {
        "name": "ipython",
        "version": 3
      },
      "pygments_lexer": "ipython3",
      "nbconvert_exporter": "python",
      "file_extension": ".py"
    }
  },
  "nbformat": 4,
  "nbformat_minor": 1
}