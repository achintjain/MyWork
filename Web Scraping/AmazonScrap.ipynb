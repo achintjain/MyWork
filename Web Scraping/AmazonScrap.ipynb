{
 "cells": [
  {
   "cell_type": "code",
   "execution_count": 1,
   "metadata": {},
   "outputs": [],
   "source": [
    "import requests\n",
    "from bs4 import BeautifulSoup\n",
    "import re"
   ]
  },
  {
   "cell_type": "code",
   "execution_count": 17,
   "metadata": {
    "scrolled": true
   },
   "outputs": [
    {
     "name": "stdout",
     "output_type": "stream",
     "text": [
      "Tanmay Shukla\n"
     ]
    }
   ],
   "source": [
    "url = \"https://www.amazon.in/OnePlus-Mirror-Black-128GB-Storage/product-reviews/B07DJD1Y3Q/ref=cm_cr_arp_d_paging_btm_2?showViewpoints=1&pageNumber=1\"\n",
    "word = \"Mozilla/5.0 (Windows NT 6.3; W…) Gecko/20100101 Firefox/64.0\".encode(\"utf-8\")\n",
    "headers = {\"User-Agent\":word}\n",
    "\n",
    "response = requests.get(url,headers = headers)\n",
    "soup = BeautifulSoup(response.content,\"html.parser\")\n",
    "\n",
    "cards = soup.find(\"div\",attrs={\"class\":\"a-section review\"})\n",
    "\n",
    "name = cards.find(\"div\",attrs={\"class\":\"a-profile-content\"})\n",
    "print(name.text)"
   ]
  }
 ],
 "metadata": {
  "kernelspec": {
   "display_name": "Python 3",
   "language": "python",
   "name": "python3"
  },
  "language_info": {
   "codemirror_mode": {
    "name": "ipython",
    "version": 3
   },
   "file_extension": ".py",
   "mimetype": "text/x-python",
   "name": "python",
   "nbconvert_exporter": "python",
   "pygments_lexer": "ipython3",
   "version": "3.7.1"
  }
 },
 "nbformat": 4,
 "nbformat_minor": 2
}
