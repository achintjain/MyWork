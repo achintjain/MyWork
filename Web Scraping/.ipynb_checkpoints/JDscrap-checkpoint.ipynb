{
 "cells": [
  {
   "cell_type": "code",
   "execution_count": 1,
   "metadata": {},
   "outputs": [],
   "source": [
    "import requests\n",
    "from bs4 import BeautifulSoup\n",
    "import re"
   ]
  },
  {
   "cell_type": "code",
   "execution_count": 12,
   "metadata": {},
   "outputs": [],
   "source": [
    "def convert_to_num(numlist):\n",
    "    code_to_number = {\n",
    "    '-dc\"':'+', \n",
    "    '-fe\"':'(', \n",
    "    '-ji\"':'9', \n",
    "    '-yz\"':'1', \n",
    "    '-hg\"':')', \n",
    "    '-ba\"':'-',  \n",
    "    '-rq\"':'5', \n",
    "    '-wx\"':'2', \n",
    "    '-vu\"':'3',  \n",
    "    '-acb\"':'0',  \n",
    "    '-po\"':'6', \n",
    "    '-lk\"':'8',\n",
    "    '-ts\"':'4',\n",
    "    '-nm\"':'7'\n",
    "    }\n",
    "    return_list = []\n",
    "    if numlist == []:\n",
    "        return \"Empty\"\n",
    "    else:\n",
    "        for values in numlist:\n",
    "            if code_to_number.get(values):\n",
    "                return_list.append(code_to_number[values])\n",
    "    return \"\".join(return_list)\n",
    "    "
   ]
  },
  {
   "cell_type": "code",
   "execution_count": 18,
   "metadata": {},
   "outputs": [],
   "source": [
    "url = \"https://www.justdial.com/Bangalore/Software-Companies/nct-10443565/page-1\"\n",
    "word = \"Mozilla/5.0 (Windows NT 6.3; W…) Gecko/20100101 Firefox/64.0\".encode(\"utf-8\")\n",
    "headers = {\"User-Agent\":word}\n",
    "\n",
    "response = requests.get(url,headers = headers)\n",
    "soup = BeautifulSoup(response.content,\"html.parser\")\n",
    "\n",
    "cards = soup.find_all(\"li\",attrs={\"class\":\"cntanr\"})"
   ]
  },
  {
   "cell_type": "code",
   "execution_count": 19,
   "metadata": {},
   "outputs": [
    {
     "name": "stdout",
     "output_type": "stream",
     "text": [
      "Global Digital Informatics\n",
      "+(91)-9152310268\n",
      "Future Revolution\n",
      "+(91)-9152374549\n",
      "Progient Labs\n",
      "+(91)-9152304262\n",
      "Dell Emc Corporation\n",
      "+(91)-8067375000\n",
      "Wipro Ec4\n",
      "+(91)-80-39403977\n",
      "Bluelines Software\n",
      "+(91)-9152465183\n",
      "E-bulk Marketing Pvt Ltd\n",
      "+(91)-9152898037\n",
      "Fraxinus It Solution\n",
      "+(91)-9152814139\n",
      "Deloitte\n",
      "+(91)-8067556000\n"
     ]
    }
   ],
   "source": [
    "for card in cards:\n",
    "    name = card.find(\"span\",attrs={\"class\":\"lng_cont_name\"})\n",
    "    contactGroup = card.find(\"p\",attrs={\"class\":\"contact-info \"})\n",
    "    try:\n",
    "        finalnumbers = contactGroup.find_all(\"span\")\n",
    "        popThefirstP = finalnumbers.pop(0)\n",
    "    except:\n",
    "        finalnumbers = None\n",
    "    \n",
    "    r = re.compile(r\"\"\"-[a-z]+\\\"\"\"\")\n",
    "    numbersReduced = []\n",
    "    if finalnumbers:\n",
    "        for pattern in finalnumbers:\n",
    "            numbersReduced.extend(re.findall(r,str(pattern)))\n",
    "\n",
    "    print(name.text)\n",
    "    print(convert_to_num(numbersReduced))\n"
   ]
  },
  {
   "cell_type": "code",
   "execution_count": null,
   "metadata": {},
   "outputs": [],
   "source": []
  }
 ],
 "metadata": {
  "kernelspec": {
   "display_name": "Python 3",
   "language": "python",
   "name": "python3"
  },
  "language_info": {
   "codemirror_mode": {
    "name": "ipython",
    "version": 3
   },
   "file_extension": ".py",
   "mimetype": "text/x-python",
   "name": "python",
   "nbconvert_exporter": "python",
   "pygments_lexer": "ipython3",
   "version": "3.6.8"
  }
 },
 "nbformat": 4,
 "nbformat_minor": 2
}
